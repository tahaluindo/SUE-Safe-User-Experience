{
  "nbformat": 4,
  "nbformat_minor": 0,
  "metadata": {
    "colab": {
      "name": "SUE_Flask.ipynb",
      "provenance": [],
      "collapsed_sections": [
        "U4S6Mdy7frFn",
        "BolPK6j5fyor",
        "tGVkjXrngSiu",
        "HmvLUlVxf4bI",
        "xIzEe4q_gAZ6",
        "e4uCTAi-gH7a",
        "1qUn01JrtbV9",
        "ft986uFxgbFx",
        "lALDAK12Iydm"
      ]
    },
    "kernelspec": {
      "name": "python3",
      "display_name": "Python 3"
    }
  },
  "cells": [
    {
      "cell_type": "markdown",
      "metadata": {
        "id": "Nhjte5LqfcIK",
        "colab_type": "text"
      },
      "source": [
        "# Safe User Experience (phishing url detection using Flask) "
      ]
    },
    {
      "cell_type": "markdown",
      "metadata": {
        "id": "U4S6Mdy7frFn",
        "colab_type": "text"
      },
      "source": [
        "## Virtual Environment forrunning flask"
      ]
    },
    {
      "cell_type": "code",
      "metadata": {
        "id": "fPV8ENuhnDZm",
        "colab_type": "code",
        "colab": {
          "base_uri": "https://localhost:8080/",
          "height": 218
        },
        "outputId": "141dd1cd-39dc-4c0d-8e2c-6b3195df02d8"
      },
      "source": [
        "!pip install flask-ngrok"
      ],
      "execution_count": 1,
      "outputs": [
        {
          "output_type": "stream",
          "text": [
            "Requirement already satisfied: flask-ngrok in /usr/local/lib/python3.6/dist-packages (0.0.25)\n",
            "Requirement already satisfied: requests in /usr/local/lib/python3.6/dist-packages (from flask-ngrok) (2.23.0)\n",
            "Requirement already satisfied: Flask>=0.8 in /usr/local/lib/python3.6/dist-packages (from flask-ngrok) (1.1.2)\n",
            "Requirement already satisfied: chardet<4,>=3.0.2 in /usr/local/lib/python3.6/dist-packages (from requests->flask-ngrok) (3.0.4)\n",
            "Requirement already satisfied: urllib3!=1.25.0,!=1.25.1,<1.26,>=1.21.1 in /usr/local/lib/python3.6/dist-packages (from requests->flask-ngrok) (1.24.3)\n",
            "Requirement already satisfied: idna<3,>=2.5 in /usr/local/lib/python3.6/dist-packages (from requests->flask-ngrok) (2.10)\n",
            "Requirement already satisfied: certifi>=2017.4.17 in /usr/local/lib/python3.6/dist-packages (from requests->flask-ngrok) (2020.6.20)\n",
            "Requirement already satisfied: Jinja2>=2.10.1 in /usr/local/lib/python3.6/dist-packages (from Flask>=0.8->flask-ngrok) (2.11.2)\n",
            "Requirement already satisfied: Werkzeug>=0.15 in /usr/local/lib/python3.6/dist-packages (from Flask>=0.8->flask-ngrok) (1.0.1)\n",
            "Requirement already satisfied: itsdangerous>=0.24 in /usr/local/lib/python3.6/dist-packages (from Flask>=0.8->flask-ngrok) (1.1.0)\n",
            "Requirement already satisfied: click>=5.1 in /usr/local/lib/python3.6/dist-packages (from Flask>=0.8->flask-ngrok) (7.1.2)\n",
            "Requirement already satisfied: MarkupSafe>=0.23 in /usr/local/lib/python3.6/dist-packages (from Jinja2>=2.10.1->Flask>=0.8->flask-ngrok) (1.1.1)\n"
          ],
          "name": "stdout"
        }
      ]
    },
    {
      "cell_type": "markdown",
      "metadata": {
        "id": "BolPK6j5fyor",
        "colab_type": "text"
      },
      "source": [
        "## Importing necessary modules"
      ]
    },
    {
      "cell_type": "code",
      "metadata": {
        "id": "go-_BIABnmV2",
        "colab_type": "code",
        "colab": {}
      },
      "source": [
        "from flask_ngrok import run_with_ngrok\n",
        "from flask import Flask, request, jsonify, render_template\n",
        "import pickle"
      ],
      "execution_count": 2,
      "outputs": []
    },
    {
      "cell_type": "markdown",
      "metadata": {
        "id": "tGVkjXrngSiu",
        "colab_type": "text"
      },
      "source": [
        "## Mounting drive"
      ]
    },
    {
      "cell_type": "code",
      "metadata": {
        "id": "P2JalD2tpQJu",
        "colab_type": "code",
        "colab": {
          "base_uri": "https://localhost:8080/",
          "height": 34
        },
        "outputId": "af55b0c7-447d-4173-ef8f-6b6f329dd803"
      },
      "source": [
        "from google.colab import drive\n",
        "drive.mount('/content/drive')"
      ],
      "execution_count": 3,
      "outputs": [
        {
          "output_type": "stream",
          "text": [
            "Drive already mounted at /content/drive; to attempt to forcibly remount, call drive.mount(\"/content/drive\", force_remount=True).\n"
          ],
          "name": "stdout"
        }
      ]
    },
    {
      "cell_type": "markdown",
      "metadata": {
        "id": "HmvLUlVxf4bI",
        "colab_type": "text"
      },
      "source": [
        "## loading model"
      ]
    },
    {
      "cell_type": "code",
      "metadata": {
        "id": "09PUxBvvr4KT",
        "colab_type": "code",
        "colab": {}
      },
      "source": [
        "model = pickle.load(open('/content/drive/My Drive/SUE/XGBoostClassifier.pkl', 'rb'))"
      ],
      "execution_count": 4,
      "outputs": []
    },
    {
      "cell_type": "markdown",
      "metadata": {
        "id": "xIzEe4q_gAZ6",
        "colab_type": "text"
      },
      "source": [
        "## modules for importing colab notebook"
      ]
    },
    {
      "cell_type": "code",
      "metadata": {
        "id": "70zn-_35svxZ",
        "colab_type": "code",
        "colab": {
          "base_uri": "https://localhost:8080/",
          "height": 34
        },
        "outputId": "8b9c45ce-e057-440b-ce46-842240704772"
      },
      "source": [
        "!pip install import-ipynb\n",
        "import import_ipynb\n",
        "import pandas as pd"
      ],
      "execution_count": 5,
      "outputs": [
        {
          "output_type": "stream",
          "text": [
            "Requirement already satisfied: import-ipynb in /usr/local/lib/python3.6/dist-packages (0.1.3)\n"
          ],
          "name": "stdout"
        }
      ]
    },
    {
      "cell_type": "markdown",
      "metadata": {
        "id": "e4uCTAi-gH7a",
        "colab_type": "text"
      },
      "source": [
        "### changing path"
      ]
    },
    {
      "cell_type": "code",
      "metadata": {
        "id": "ruwZUMXLs5BO",
        "colab_type": "code",
        "colab": {
          "base_uri": "https://localhost:8080/",
          "height": 34
        },
        "outputId": "50e54017-c93e-4ea3-d486-33fef1ab2e52"
      },
      "source": [
        "%cd \"/content/drive/My Drive/Colab Notebooks/\""
      ],
      "execution_count": 6,
      "outputs": [
        {
          "output_type": "stream",
          "text": [
            "/content/drive/My Drive/Colab Notebooks\n"
          ],
          "name": "stdout"
        }
      ]
    },
    {
      "cell_type": "markdown",
      "metadata": {
        "id": "1qUn01JrtbV9",
        "colab_type": "text"
      },
      "source": [
        "### Importing Notebook with model and functions"
      ]
    },
    {
      "cell_type": "code",
      "metadata": {
        "id": "vjv65fnQtRBl",
        "colab_type": "code",
        "colab": {
          "base_uri": "https://localhost:8080/",
          "height": 675
        },
        "outputId": "b94354e3-0780-422f-ef91-e29409690518"
      },
      "source": [
        "import UrlFeatureExtract"
      ],
      "execution_count": 7,
      "outputs": [
        {
          "output_type": "stream",
          "text": [
            "importing Jupyter notebook from UrlFeatureExtract.ipynb\n",
            "Requirement already satisfied: tldextract in /usr/local/lib/python3.6/dist-packages (2.2.3)\n",
            "Requirement already satisfied: requests>=2.1.0 in /usr/local/lib/python3.6/dist-packages (from tldextract) (2.23.0)\n",
            "Requirement already satisfied: idna in /usr/local/lib/python3.6/dist-packages (from tldextract) (2.10)\n",
            "Requirement already satisfied: requests-file>=1.4 in /usr/local/lib/python3.6/dist-packages (from tldextract) (1.5.1)\n",
            "Requirement already satisfied: certifi>=2017.4.17 in /usr/local/lib/python3.6/dist-packages (from requests>=2.1.0->tldextract) (2020.6.20)\n",
            "Requirement already satisfied: urllib3!=1.25.0,!=1.25.1,<1.26,>=1.21.1 in /usr/local/lib/python3.6/dist-packages (from requests>=2.1.0->tldextract) (1.24.3)\n",
            "Requirement already satisfied: chardet<4,>=3.0.2 in /usr/local/lib/python3.6/dist-packages (from requests>=2.1.0->tldextract) (3.0.4)\n",
            "Requirement already satisfied: six in /usr/local/lib/python3.6/dist-packages (from requests-file>=1.4->tldextract) (1.15.0)\n",
            "Requirement already satisfied: whois in /usr/local/lib/python3.6/dist-packages (0.9.7)\n"
          ],
          "name": "stdout"
        },
        {
          "output_type": "stream",
          "text": [
            "UrlFeatureExtract.ipynb:20: UserWarning: No parser was explicitly specified, so I'm using the best available HTML parser for this system (\"lxml\"). This usually isn't a problem, but if you run this code on another system, or in a different virtual environment, it may use a different parser and behave differently.\n",
            "\n",
            "The code that caused this warning is on line 20 of the file UrlFeatureExtract.ipynb. To get rid of this warning, pass the additional argument 'features=\"lxml\"' to the BeautifulSoup constructor.\n",
            "\n",
            "UrlFeatureExtract.ipynb:20: UserWarning: No parser was explicitly specified, so I'm using the best available HTML parser for this system (\"lxml\"). This usually isn't a problem, but if you run this code on another system, or in a different virtual environment, it may use a different parser and behave differently.\n",
            "\n",
            "The code that caused this warning is on line 20 of the file UrlFeatureExtract.ipynb. To get rid of this warning, pass the additional argument 'features=\"lxml\"' to the BeautifulSoup constructor.\n",
            "\n",
            "UrlFeatureExtract.ipynb:20: UserWarning: No parser was explicitly specified, so I'm using the best available HTML parser for this system (\"lxml\"). This usually isn't a problem, but if you run this code on another system, or in a different virtual environment, it may use a different parser and behave differently.\n",
            "\n",
            "The code that caused this warning is on line 20 of the file UrlFeatureExtract.ipynb. To get rid of this warning, pass the additional argument 'features=\"lxml\"' to the BeautifulSoup constructor.\n",
            "\n",
            "UrlFeatureExtract.ipynb:20: UserWarning: No parser was explicitly specified, so I'm using the best available HTML parser for this system (\"lxml\"). This usually isn't a problem, but if you run this code on another system, or in a different virtual environment, it may use a different parser and behave differently.\n",
            "\n",
            "The code that caused this warning is on line 20 of the file UrlFeatureExtract.ipynb. To get rid of this warning, pass the additional argument 'features=\"lxml\"' to the BeautifulSoup constructor.\n",
            "\n",
            "UrlFeatureExtract.ipynb:20: UserWarning: No parser was explicitly specified, so I'm using the best available HTML parser for this system (\"lxml\"). This usually isn't a problem, but if you run this code on another system, or in a different virtual environment, it may use a different parser and behave differently.\n",
            "\n",
            "The code that caused this warning is on line 20 of the file UrlFeatureExtract.ipynb. To get rid of this warning, pass the additional argument 'features=\"lxml\"' to the BeautifulSoup constructor.\n",
            "\n",
            "UrlFeatureExtract.ipynb:20: UserWarning: No parser was explicitly specified, so I'm using the best available HTML parser for this system (\"lxml\"). This usually isn't a problem, but if you run this code on another system, or in a different virtual environment, it may use a different parser and behave differently.\n",
            "\n",
            "The code that caused this warning is on line 20 of the file UrlFeatureExtract.ipynb. To get rid of this warning, pass the additional argument 'features=\"lxml\"' to the BeautifulSoup constructor.\n",
            "\n",
            "UrlFeatureExtract.ipynb:20: UserWarning: No parser was explicitly specified, so I'm using the best available HTML parser for this system (\"lxml\"). This usually isn't a problem, but if you run this code on another system, or in a different virtual environment, it may use a different parser and behave differently.\n",
            "\n",
            "The code that caused this warning is on line 20 of the file UrlFeatureExtract.ipynb. To get rid of this warning, pass the additional argument 'features=\"lxml\"' to the BeautifulSoup constructor.\n",
            "\n"
          ],
          "name": "stderr"
        }
      ]
    },
    {
      "cell_type": "markdown",
      "metadata": {
        "id": "ft986uFxgbFx",
        "colab_type": "text"
      },
      "source": [
        "# Testing functions imported"
      ]
    },
    {
      "cell_type": "code",
      "metadata": {
        "id": "qENp6It_557c",
        "colab_type": "code",
        "colab": {
          "base_uri": "https://localhost:8080/",
          "height": 34
        },
        "outputId": "7da4b0f1-a988-4072-a0dd-20bcb11645a6"
      },
      "source": [
        "predic = model.predict(pd.DataFrame([UrlFeatureExtract.final(\"www.google.com\")], columns = UrlFeatureExtract.col))\n",
        "predic.item() == 1"
      ],
      "execution_count": 8,
      "outputs": [
        {
          "output_type": "execute_result",
          "data": {
            "text/plain": [
              "True"
            ]
          },
          "metadata": {
            "tags": []
          },
          "execution_count": 8
        }
      ]
    },
    {
      "cell_type": "code",
      "metadata": {
        "id": "dwwxEEVg58Uq",
        "colab_type": "code",
        "colab": {
          "base_uri": "https://localhost:8080/",
          "height": 121
        },
        "outputId": "9c4c78a8-aa84-4149-90ac-cfdb9cee2b58"
      },
      "source": [
        "def predict(url):\n",
        "  url_features = UrlFeatureExtract.final(url)\n",
        "  model_input = pd.DataFrame([url_features], columns = UrlFeatureExtract.col)\n",
        "  prediction = model.predict(model_input)\n",
        "  if prediction.item() == 1:\n",
        "    return 1\n",
        "  elif prediction.item() == -1:\n",
        "    return -1\n",
        "  else:\n",
        "    return 0\n",
        "# print(predict(\"www.google.com\"), file = sys.stdout)\n",
        "predict(\"https://lms.wtef.talentsprint.com/login?next=/courses/course-v1%3ATS%2BWE_VC%2B2020/courseware/5398b7f9450c4f15aaebe685d9e4f611/7a94f058abd24455a92cbe77f304d959/\")"
      ],
      "execution_count": 11,
      "outputs": [
        {
          "output_type": "stream",
          "text": [
            "UrlFeatureExtract.ipynb:20: UserWarning: No parser was explicitly specified, so I'm using the best available HTML parser for this system (\"lxml\"). This usually isn't a problem, but if you run this code on another system, or in a different virtual environment, it may use a different parser and behave differently.\n",
            "\n",
            "The code that caused this warning is on line 20 of the file UrlFeatureExtract.ipynb. To get rid of this warning, pass the additional argument 'features=\"lxml\"' to the BeautifulSoup constructor.\n",
            "\n"
          ],
          "name": "stderr"
        },
        {
          "output_type": "execute_result",
          "data": {
            "text/plain": [
              "1"
            ]
          },
          "metadata": {
            "tags": []
          },
          "execution_count": 11
        }
      ]
    },
    {
      "cell_type": "code",
      "metadata": {
        "id": "JQoxNYUI2AJe",
        "colab_type": "code",
        "colab": {}
      },
      "source": [
        "# app = Flask(\"Safe_User_Experience\", template_folder='/content/drive/My Drive/SUE/templates')\n",
        "# run_with_ngrok(app)\n",
        "\n",
        "\n",
        "# @app.route(\"/\")\n",
        "# def home():\n",
        "#     return render_template(\"1.html\")\n",
        "\n",
        "# @app.route(\"/predict\", methods=['POST', 'GET'])\n",
        "# def predict():\n",
        "#   url = request.form.values()\n",
        "#   url_features = URLFeature.final(url)\n",
        "#   model_input = pd.DataFrame([url_features], columns = URLFeature.col)\n",
        "#   prediction = model.predict(model_input)\n",
        "#   if prediction.item() == 1:\n",
        "#     return render_template(\"1.html\", pred = 'This is a legitimate Website')\n",
        "#   elif prediction.item() == -1:\n",
        "#     return render_template(\"1.html\", pred = 'This is a Phishing Website')\n",
        "#   else:\n",
        "#     return render_template(\"1.html\", pred = 'This is a suspicious Website')\n",
        "  \n",
        "\n",
        "# app.run()"
      ],
      "execution_count": 12,
      "outputs": []
    },
    {
      "cell_type": "code",
      "metadata": {
        "id": "kf0N_GQf9Gj8",
        "colab_type": "code",
        "colab": {
          "base_uri": "https://localhost:8080/",
          "height": 121
        },
        "outputId": "04ea8e8b-c054-4fae-eb50-32e913135008"
      },
      "source": [
        "def predict(url):\n",
        "  # url = request.form.values()\n",
        "  return model.predict(pd.DataFrame([UrlFeatureExtract.final(url)], columns = UrlFeatureExtract.col))\n",
        "\n",
        "predict(\"www.youtube.com\")"
      ],
      "execution_count": 13,
      "outputs": [
        {
          "output_type": "stream",
          "text": [
            "UrlFeatureExtract.ipynb:20: UserWarning: No parser was explicitly specified, so I'm using the best available HTML parser for this system (\"lxml\"). This usually isn't a problem, but if you run this code on another system, or in a different virtual environment, it may use a different parser and behave differently.\n",
            "\n",
            "The code that caused this warning is on line 20 of the file UrlFeatureExtract.ipynb. To get rid of this warning, pass the additional argument 'features=\"lxml\"' to the BeautifulSoup constructor.\n",
            "\n"
          ],
          "name": "stderr"
        },
        {
          "output_type": "execute_result",
          "data": {
            "text/plain": [
              "array([1])"
            ]
          },
          "metadata": {
            "tags": []
          },
          "execution_count": 13
        }
      ]
    },
    {
      "cell_type": "code",
      "metadata": {
        "id": "ENb4JJoUd6d8",
        "colab_type": "code",
        "colab": {
          "base_uri": "https://localhost:8080/",
          "height": 608
        },
        "outputId": "cc703efd-8469-4359-9ebc-411554ed6816"
      },
      "source": [
        "url = UrlFeatureExtract.final(\"www.youtube.com\")\n",
        "r = pd.DataFrame([url], columns=UrlFeatureExtract.col)\n",
        "url"
      ],
      "execution_count": 14,
      "outputs": [
        {
          "output_type": "stream",
          "text": [
            "UrlFeatureExtract.ipynb:20: UserWarning: No parser was explicitly specified, so I'm using the best available HTML parser for this system (\"lxml\"). This usually isn't a problem, but if you run this code on another system, or in a different virtual environment, it may use a different parser and behave differently.\n",
            "\n",
            "The code that caused this warning is on line 20 of the file UrlFeatureExtract.ipynb. To get rid of this warning, pass the additional argument 'features=\"lxml\"' to the BeautifulSoup constructor.\n",
            "\n"
          ],
          "name": "stderr"
        },
        {
          "output_type": "execute_result",
          "data": {
            "text/plain": [
              "[1,\n",
              " 1,\n",
              " 1,\n",
              " 1,\n",
              " 1,\n",
              " 1,\n",
              " -1,\n",
              " -1,\n",
              " 0,\n",
              " 1,\n",
              " 1,\n",
              " 1,\n",
              " 1,\n",
              " 1,\n",
              " -1,\n",
              " 1,\n",
              " -1,\n",
              " -1,\n",
              " 1,\n",
              " 1,\n",
              " 1,\n",
              " 1,\n",
              " -1,\n",
              " -1,\n",
              " -1,\n",
              " 1,\n",
              " 0,\n",
              " 1,\n",
              " 1,\n",
              " 1]"
            ]
          },
          "metadata": {
            "tags": []
          },
          "execution_count": 14
        }
      ]
    },
    {
      "cell_type": "code",
      "metadata": {
        "id": "MYD082t2fHN6",
        "colab_type": "code",
        "colab": {
          "base_uri": "https://localhost:8080/",
          "height": 34
        },
        "outputId": "6ecee545-5e75-4b2d-d8d8-aa7d8807580d"
      },
      "source": [
        "model.predict(r)"
      ],
      "execution_count": 15,
      "outputs": [
        {
          "output_type": "execute_result",
          "data": {
            "text/plain": [
              "array([1])"
            ]
          },
          "metadata": {
            "tags": []
          },
          "execution_count": 15
        }
      ]
    },
    {
      "cell_type": "markdown",
      "metadata": {
        "id": "lALDAK12Iydm",
        "colab_type": "text"
      },
      "source": [
        "# Flask Application"
      ]
    },
    {
      "cell_type": "code",
      "metadata": {
        "id": "Y503Y30unp-b",
        "colab_type": "code",
        "colab": {
          "base_uri": "https://localhost:8080/",
          "height": 406
        },
        "outputId": "78e71a18-b3d7-41c2-a76f-7194e6ed5be1"
      },
      "source": [
        "app = Flask(\"Safe_User_Experience\", template_folder='/content/drive/My Drive/SUE/templates')\n",
        "run_with_ngrok(app)\n",
        "\n",
        "\n",
        "@app.route(\"/\")\n",
        "def home():\n",
        "    return render_template(\"1.html\")\n",
        "\n",
        "@app.route(\"/predict\", methods=['POST', 'GET'])\n",
        "def predict():\n",
        "  s = request.form.values()\n",
        "  url = \"\"\n",
        "  for i in s:\n",
        "    url += i\n",
        "  # print(url)\n",
        "  url_features = UrlFeatureExtract.final(url)\n",
        "  # print(url_features)\n",
        "  model_input = pd.DataFrame([url_features], columns = UrlFeatureExtract.col)\n",
        "  # print(model_input)\n",
        "  prediction = model.predict(model_input)\n",
        "  if prediction.item() == 1:\n",
        "    return render_template(\"1.html\", pred = 'This is a legitimate Website')\n",
        "  elif prediction.item() == -1:\n",
        "    return render_template(\"1.html\", pred = 'This is a Phishing Website')\n",
        "  else:\n",
        "    return render_template(\"1.html\", pred = 'This is a suspicious Website')\n",
        "\n",
        "\n",
        "\n",
        "app.run()"
      ],
      "execution_count": 27,
      "outputs": [
        {
          "output_type": "stream",
          "text": [
            " * Serving Flask app \"Safe_User_Experience\" (lazy loading)\n",
            " * Environment: production\n",
            "\u001b[31m   WARNING: This is a development server. Do not use it in a production deployment.\u001b[0m\n",
            "\u001b[2m   Use a production WSGI server instead.\u001b[0m\n",
            " * Debug mode: off\n"
          ],
          "name": "stdout"
        },
        {
          "output_type": "stream",
          "text": [
            " * Running on http://127.0.0.1:5000/ (Press CTRL+C to quit)\n"
          ],
          "name": "stderr"
        },
        {
          "output_type": "stream",
          "text": [
            " * Running on http://8b73aacc8340.ngrok.io\n",
            " * Traffic stats available on http://127.0.0.1:4040\n"
          ],
          "name": "stdout"
        },
        {
          "output_type": "stream",
          "text": [
            "127.0.0.1 - - [31/Aug/2020 18:47:06] \"\u001b[37mGET / HTTP/1.1\u001b[0m\" 200 -\n"
          ],
          "name": "stderr"
        },
        {
          "output_type": "stream",
          "text": [
            "https://lms.wtef.talentsprint.com/login?next=/courses/course-v1%3ATS%2BWE_VC%2B2020/courseware/5398b7f9450c4f15aaebe685d9e4f611/7a94f058abd24455a92cbe77f304d959/\n"
          ],
          "name": "stdout"
        },
        {
          "output_type": "stream",
          "text": [
            "UrlFeatureExtract.ipynb:20: UserWarning: No parser was explicitly specified, so I'm using the best available HTML parser for this system (\"lxml\"). This usually isn't a problem, but if you run this code on another system, or in a different virtual environment, it may use a different parser and behave differently.\n",
            "\n",
            "The code that caused this warning is on line 20 of the file UrlFeatureExtract.ipynb. To get rid of this warning, pass the additional argument 'features=\"lxml\"' to the BeautifulSoup constructor.\n",
            "\n",
            "127.0.0.1 - - [31/Aug/2020 18:47:21] \"\u001b[37mPOST /predict HTTP/1.1\u001b[0m\" 200 -\n"
          ],
          "name": "stderr"
        },
        {
          "output_type": "stream",
          "text": [
            "[1, -1, -1, 1, 1, 1, -1, 1, 0, 1, 1, 1, -1, 1, 0, -1, -1, -1, 1, 1, 1, 1, -1, -1, -1, 1, 0, 1, 1, 1]\n",
            "   having_IPhaving_IP_Address  ...  Statistical_report\n",
            "0                           1  ...                   1\n",
            "\n",
            "[1 rows x 30 columns]\n"
          ],
          "name": "stdout"
        },
        {
          "output_type": "stream",
          "text": [
            "127.0.0.1 - - [31/Aug/2020 18:47:22] \"\u001b[33mGET /favicon.ico HTTP/1.1\u001b[0m\" 404 -\n",
            "127.0.0.1 - - [31/Aug/2020 18:47:23] \"\u001b[33mGET /favicon.ico HTTP/1.1\u001b[0m\" 404 -\n"
          ],
          "name": "stderr"
        }
      ]
    }
  ]
}