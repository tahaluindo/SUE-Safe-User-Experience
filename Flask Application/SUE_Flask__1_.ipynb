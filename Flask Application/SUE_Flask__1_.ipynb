{
  "nbformat": 4,
  "nbformat_minor": 0,
  "metadata": {
    "colab": {
      "name": "SUE_Flask.ipynb",
      "provenance": [],
      "collapsed_sections": []
    },
    "kernelspec": {
      "name": "python3",
      "display_name": "Python 3"
    }
  },
  "cells": [
    {
      "cell_type": "markdown",
      "metadata": {
        "id": "Nhjte5LqfcIK",
        "colab_type": "text"
      },
      "source": [
        "# Safe User Experience (phishing url detection using Flask) "
      ]
    },
    {
      "cell_type": "markdown",
      "metadata": {
        "id": "U4S6Mdy7frFn",
        "colab_type": "text"
      },
      "source": [
        "## Virtual Environment forrunning flask"
      ]
    },
    {
      "cell_type": "code",
      "metadata": {
        "id": "fPV8ENuhnDZm",
        "colab_type": "code",
        "colab": {
          "base_uri": "https://localhost:8080/",
          "height": 218
        },
        "outputId": "84ea9b58-d695-4ad0-8b3d-287057655210"
      },
      "source": [
        "!pip install flask-ngrok"
      ],
      "execution_count": 1,
      "outputs": [
        {
          "output_type": "stream",
          "text": [
            "Requirement already satisfied: flask-ngrok in /usr/local/lib/python3.6/dist-packages (0.0.25)\n",
            "Requirement already satisfied: requests in /usr/local/lib/python3.6/dist-packages (from flask-ngrok) (2.23.0)\n",
            "Requirement already satisfied: Flask>=0.8 in /usr/local/lib/python3.6/dist-packages (from flask-ngrok) (1.1.2)\n",
            "Requirement already satisfied: certifi>=2017.4.17 in /usr/local/lib/python3.6/dist-packages (from requests->flask-ngrok) (2020.6.20)\n",
            "Requirement already satisfied: idna<3,>=2.5 in /usr/local/lib/python3.6/dist-packages (from requests->flask-ngrok) (2.10)\n",
            "Requirement already satisfied: urllib3!=1.25.0,!=1.25.1,<1.26,>=1.21.1 in /usr/local/lib/python3.6/dist-packages (from requests->flask-ngrok) (1.24.3)\n",
            "Requirement already satisfied: chardet<4,>=3.0.2 in /usr/local/lib/python3.6/dist-packages (from requests->flask-ngrok) (3.0.4)\n",
            "Requirement already satisfied: click>=5.1 in /usr/local/lib/python3.6/dist-packages (from Flask>=0.8->flask-ngrok) (7.1.2)\n",
            "Requirement already satisfied: itsdangerous>=0.24 in /usr/local/lib/python3.6/dist-packages (from Flask>=0.8->flask-ngrok) (1.1.0)\n",
            "Requirement already satisfied: Jinja2>=2.10.1 in /usr/local/lib/python3.6/dist-packages (from Flask>=0.8->flask-ngrok) (2.11.2)\n",
            "Requirement already satisfied: Werkzeug>=0.15 in /usr/local/lib/python3.6/dist-packages (from Flask>=0.8->flask-ngrok) (1.0.1)\n",
            "Requirement already satisfied: MarkupSafe>=0.23 in /usr/local/lib/python3.6/dist-packages (from Jinja2>=2.10.1->Flask>=0.8->flask-ngrok) (1.1.1)\n"
          ],
          "name": "stdout"
        }
      ]
    },
    {
      "cell_type": "markdown",
      "metadata": {
        "id": "BolPK6j5fyor",
        "colab_type": "text"
      },
      "source": [
        "## Importing necessary modules"
      ]
    },
    {
      "cell_type": "code",
      "metadata": {
        "id": "go-_BIABnmV2",
        "colab_type": "code",
        "colab": {}
      },
      "source": [
        "from flask_ngrok import run_with_ngrok\n",
        "from flask import Flask, request, jsonify, render_template\n",
        "import pickle"
      ],
      "execution_count": 2,
      "outputs": []
    },
    {
      "cell_type": "markdown",
      "metadata": {
        "id": "tGVkjXrngSiu",
        "colab_type": "text"
      },
      "source": [
        "## Mounting drive"
      ]
    },
    {
      "cell_type": "code",
      "metadata": {
        "id": "P2JalD2tpQJu",
        "colab_type": "code",
        "colab": {
          "base_uri": "https://localhost:8080/",
          "height": 34
        },
        "outputId": "4f5738b7-a517-4bc4-8552-dbf0bd478a85"
      },
      "source": [
        "from google.colab import drive\n",
        "drive.mount('/content/drive')"
      ],
      "execution_count": 3,
      "outputs": [
        {
          "output_type": "stream",
          "text": [
            "Drive already mounted at /content/drive; to attempt to forcibly remount, call drive.mount(\"/content/drive\", force_remount=True).\n"
          ],
          "name": "stdout"
        }
      ]
    },
    {
      "cell_type": "markdown",
      "metadata": {
        "id": "HmvLUlVxf4bI",
        "colab_type": "text"
      },
      "source": [
        "## loading model"
      ]
    },
    {
      "cell_type": "code",
      "metadata": {
        "id": "09PUxBvvr4KT",
        "colab_type": "code",
        "colab": {}
      },
      "source": [
        "model = pickle.load(open('/content/drive/My Drive/SUE/XGBoostClassifier.pkl', 'rb'))"
      ],
      "execution_count": 4,
      "outputs": []
    },
    {
      "cell_type": "markdown",
      "metadata": {
        "id": "xIzEe4q_gAZ6",
        "colab_type": "text"
      },
      "source": [
        "## modules for importing colab notebook"
      ]
    },
    {
      "cell_type": "code",
      "metadata": {
        "id": "70zn-_35svxZ",
        "colab_type": "code",
        "colab": {
          "base_uri": "https://localhost:8080/",
          "height": 34
        },
        "outputId": "f499c087-5e08-4793-aa42-2bf9b002e27f"
      },
      "source": [
        "!pip install import-ipynb\n",
        "import import_ipynb\n",
        "import pandas as pd"
      ],
      "execution_count": 5,
      "outputs": [
        {
          "output_type": "stream",
          "text": [
            "Requirement already satisfied: import-ipynb in /usr/local/lib/python3.6/dist-packages (0.1.3)\n"
          ],
          "name": "stdout"
        }
      ]
    },
    {
      "cell_type": "markdown",
      "metadata": {
        "id": "e4uCTAi-gH7a",
        "colab_type": "text"
      },
      "source": [
        "### changing path"
      ]
    },
    {
      "cell_type": "code",
      "metadata": {
        "id": "ruwZUMXLs5BO",
        "colab_type": "code",
        "colab": {
          "base_uri": "https://localhost:8080/",
          "height": 34
        },
        "outputId": "371b4dcf-a41f-4a47-be3f-ada8b6d1b404"
      },
      "source": [
        "%cd \"/content/drive/My Drive/Colab Notebooks/\""
      ],
      "execution_count": 6,
      "outputs": [
        {
          "output_type": "stream",
          "text": [
            "/content/drive/My Drive/Colab Notebooks\n"
          ],
          "name": "stdout"
        }
      ]
    },
    {
      "cell_type": "markdown",
      "metadata": {
        "id": "1qUn01JrtbV9",
        "colab_type": "text"
      },
      "source": [
        "### Importing Notebook with model and functions"
      ]
    },
    {
      "cell_type": "code",
      "metadata": {
        "id": "vjv65fnQtRBl",
        "colab_type": "code",
        "colab": {
          "base_uri": "https://localhost:8080/",
          "height": 269
        },
        "outputId": "f31df952-4bd0-4dcf-a429-5b1363c65c97"
      },
      "source": [
        "import UrlFeatureExtract"
      ],
      "execution_count": 7,
      "outputs": [
        {
          "output_type": "stream",
          "text": [
            "importing Jupyter notebook from UrlFeatureExtract.ipynb\n",
            "Requirement already satisfied: tldextract in /usr/local/lib/python3.6/dist-packages (2.2.3)\n",
            "Requirement already satisfied: requests-file>=1.4 in /usr/local/lib/python3.6/dist-packages (from tldextract) (1.5.1)\n",
            "Requirement already satisfied: idna in /usr/local/lib/python3.6/dist-packages (from tldextract) (2.10)\n",
            "Requirement already satisfied: requests>=2.1.0 in /usr/local/lib/python3.6/dist-packages (from tldextract) (2.23.0)\n",
            "Requirement already satisfied: six in /usr/local/lib/python3.6/dist-packages (from requests-file>=1.4->tldextract) (1.15.0)\n",
            "Requirement already satisfied: urllib3!=1.25.0,!=1.25.1,<1.26,>=1.21.1 in /usr/local/lib/python3.6/dist-packages (from requests>=2.1.0->tldextract) (1.24.3)\n",
            "Requirement already satisfied: chardet<4,>=3.0.2 in /usr/local/lib/python3.6/dist-packages (from requests>=2.1.0->tldextract) (3.0.4)\n",
            "Requirement already satisfied: certifi>=2017.4.17 in /usr/local/lib/python3.6/dist-packages (from requests>=2.1.0->tldextract) (2020.6.20)\n",
            "\u001b[31mERROR: Could not find a version that satisfies the requirement urllib (from versions: none)\u001b[0m\n",
            "\u001b[31mERROR: No matching distribution found for urllib\u001b[0m\n",
            "Requirement already satisfied: python-whois in /usr/local/lib/python3.6/dist-packages (0.7.3)\n",
            "Requirement already satisfied: future in /usr/local/lib/python3.6/dist-packages (from python-whois) (0.16.0)\n",
            "Error trying to connect to socket: closing socket\n",
            "Error trying to connect to socket: closing socket\n"
          ],
          "name": "stdout"
        }
      ]
    },
    {
      "cell_type": "markdown",
      "metadata": {
        "id": "ft986uFxgbFx",
        "colab_type": "text"
      },
      "source": [
        "# Main application"
      ]
    },
    {
      "cell_type": "code",
      "metadata": {
        "id": "qENp6It_557c",
        "colab_type": "code",
        "colab": {
          "base_uri": "https://localhost:8080/",
          "height": 67
        },
        "outputId": "e7b3cade-8d8c-43b8-f1a4-4b920c3e1dd5"
      },
      "source": [
        "predic = model.predict(pd.DataFrame([UrlFeatureExtract.final(\"www.google.com\")], columns = UrlFeatureExtract.col))\n",
        "predic.item() == 1"
      ],
      "execution_count": 8,
      "outputs": [
        {
          "output_type": "stream",
          "text": [
            "Error trying to connect to socket: closing socket\n",
            "Error trying to connect to socket: closing socket\n"
          ],
          "name": "stdout"
        },
        {
          "output_type": "execute_result",
          "data": {
            "text/plain": [
              "True"
            ]
          },
          "metadata": {
            "tags": []
          },
          "execution_count": 8
        }
      ]
    },
    {
      "cell_type": "code",
      "metadata": {
        "id": "_5oh2nfz_KFO",
        "colab_type": "code",
        "colab": {
          "base_uri": "https://localhost:8080/",
          "height": 67
        },
        "outputId": "eb7b2043-c4c9-4e50-af08-b10c10794e81"
      },
      "source": [
        "def predict(url):\n",
        "  url_features = UrlFeatureExtract.final(url)\n",
        "  model_input = pd.DataFrame([url_features], columns = UrlFeatureExtract.col)\n",
        "  prediction = model.predict(model_input)\n",
        "  if prediction.item() == 1:\n",
        "    return 1\n",
        "  elif prediction.item() == -1:\n",
        "    return -1\n",
        "  else:\n",
        "    return 0\n",
        "# print(predict(\"www.google.com\"), file = sys.stdout)\n",
        "predict(\"www.google.com\")"
      ],
      "execution_count": 28,
      "outputs": [
        {
          "output_type": "stream",
          "text": [
            "Error trying to connect to socket: closing socket\n",
            "Error trying to connect to socket: closing socket\n"
          ],
          "name": "stdout"
        },
        {
          "output_type": "execute_result",
          "data": {
            "text/plain": [
              "1"
            ]
          },
          "metadata": {
            "tags": []
          },
          "execution_count": 28
        }
      ]
    },
    {
      "cell_type": "code",
      "metadata": {
        "id": "w_TTSk_JAzj2",
        "colab_type": "code",
        "colab": {}
      },
      "source": [
        "import sys"
      ],
      "execution_count": 15,
      "outputs": []
    },
    {
      "cell_type": "code",
      "metadata": {
        "id": "Y503Y30unp-b",
        "colab_type": "code",
        "colab": {
          "base_uri": "https://localhost:8080/",
          "height": 974
        },
        "outputId": "54ace752-0f8b-41bb-c481-39f862df7fa1"
      },
      "source": [
        "app = Flask(\"Safe_User_Experience\", template_folder='/content/drive/My Drive/SUE/templates')\n",
        "run_with_ngrok(app)\n",
        "\n",
        "\n",
        "@app.route(\"/\")\n",
        "def home():\n",
        "    return render_template(\"1.html\")\n",
        "\n",
        "@app.route(\"/predict\", methods=['POST', 'GET'])\n",
        "def predict():\n",
        "  url = request.form.values()\n",
        "  url_features = UrlFeatureExtract.final(url)\n",
        "  model_input = pd.DataFrame([url_features], columns = UrlFeatureExtract.col)\n",
        "  prediction = model.predict(model_input)\n",
        "  if prediction.item() == 1:\n",
        "    return render_template(\"1.html\", pred = 'This is a legitimate Website')\n",
        "  elif prediction.item() == -1:\n",
        "    return render_template(\"1.html\", pred = 'This is a Phishing Website')\n",
        "  else:\n",
        "    return render_template(\"1.html\", pred = 'This is a suspicious Website')\n",
        "  \n",
        "\n",
        "app.run()"
      ],
      "execution_count": 26,
      "outputs": [
        {
          "output_type": "stream",
          "text": [
            " * Serving Flask app \"Safe_User_Experience\" (lazy loading)\n",
            " * Environment: production\n",
            "\u001b[31m   WARNING: This is a development server. Do not use it in a production deployment.\u001b[0m\n",
            "\u001b[2m   Use a production WSGI server instead.\u001b[0m\n",
            " * Debug mode: off\n"
          ],
          "name": "stdout"
        },
        {
          "output_type": "stream",
          "text": [
            " * Running on http://127.0.0.1:5000/ (Press CTRL+C to quit)\n"
          ],
          "name": "stderr"
        },
        {
          "output_type": "stream",
          "text": [
            " * Running on http://688dd6c9c0f7.ngrok.io\n",
            " * Traffic stats available on http://127.0.0.1:4040\n"
          ],
          "name": "stdout"
        },
        {
          "output_type": "stream",
          "text": [
            "127.0.0.1 - - [30/Aug/2020 20:19:01] \"\u001b[37mGET / HTTP/1.1\u001b[0m\" 200 -\n",
            "127.0.0.1 - - [30/Aug/2020 20:19:05] \"\u001b[33mGET /favicon.ico HTTP/1.1\u001b[0m\" 404 -\n",
            "127.0.0.1 - - [30/Aug/2020 20:19:06] \"\u001b[33mGET /favicon.ico HTTP/1.1\u001b[0m\" 404 -\n",
            "[2020-08-30 20:19:33,743] ERROR in app: Exception on /predict [POST]\n",
            "Traceback (most recent call last):\n",
            "  File \"/usr/local/lib/python3.6/dist-packages/flask/app.py\", line 2447, in wsgi_app\n",
            "    response = self.full_dispatch_request()\n",
            "  File \"/usr/local/lib/python3.6/dist-packages/flask/app.py\", line 1952, in full_dispatch_request\n",
            "    rv = self.handle_user_exception(e)\n",
            "  File \"/usr/local/lib/python3.6/dist-packages/flask/app.py\", line 1821, in handle_user_exception\n",
            "    reraise(exc_type, exc_value, tb)\n",
            "  File \"/usr/local/lib/python3.6/dist-packages/flask/_compat.py\", line 39, in reraise\n",
            "    raise value\n",
            "  File \"/usr/local/lib/python3.6/dist-packages/flask/app.py\", line 1950, in full_dispatch_request\n",
            "    rv = self.dispatch_request()\n",
            "  File \"/usr/local/lib/python3.6/dist-packages/flask/app.py\", line 1936, in dispatch_request\n",
            "    return self.view_functions[rule.endpoint](**req.view_args)\n",
            "  File \"<ipython-input-26-4dbd8541df13>\", line 12, in predict\n",
            "    url_features = UrlFeatureExtract.final(url)\n",
            "  File \"<string>\", line 2, in final\n",
            "  File \"/usr/local/lib/python3.6/dist-packages/tldextract/tldextract.py\", line 365, in extract\n",
            "    return TLD_EXTRACTOR(url)\n",
            "  File \"/usr/local/lib/python3.6/dist-packages/tldextract/tldextract.py\", line 223, in __call__\n",
            "    netloc = SCHEME_RE.sub(\"\", url) \\\n",
            "TypeError: expected string or bytes-like object\n",
            "127.0.0.1 - - [30/Aug/2020 20:19:33] \"\u001b[35m\u001b[1mPOST /predict HTTP/1.1\u001b[0m\" 500 -\n",
            "[2020-08-30 20:19:42,384] ERROR in app: Exception on /predict [POST]\n",
            "Traceback (most recent call last):\n",
            "  File \"/usr/local/lib/python3.6/dist-packages/flask/app.py\", line 2447, in wsgi_app\n",
            "    response = self.full_dispatch_request()\n",
            "  File \"/usr/local/lib/python3.6/dist-packages/flask/app.py\", line 1952, in full_dispatch_request\n",
            "    rv = self.handle_user_exception(e)\n",
            "  File \"/usr/local/lib/python3.6/dist-packages/flask/app.py\", line 1821, in handle_user_exception\n",
            "    reraise(exc_type, exc_value, tb)\n",
            "  File \"/usr/local/lib/python3.6/dist-packages/flask/_compat.py\", line 39, in reraise\n",
            "    raise value\n",
            "  File \"/usr/local/lib/python3.6/dist-packages/flask/app.py\", line 1950, in full_dispatch_request\n",
            "    rv = self.dispatch_request()\n",
            "  File \"/usr/local/lib/python3.6/dist-packages/flask/app.py\", line 1936, in dispatch_request\n",
            "    return self.view_functions[rule.endpoint](**req.view_args)\n",
            "  File \"<ipython-input-26-4dbd8541df13>\", line 12, in predict\n",
            "    url_features = UrlFeatureExtract.final(url)\n",
            "  File \"<string>\", line 2, in final\n",
            "  File \"/usr/local/lib/python3.6/dist-packages/tldextract/tldextract.py\", line 365, in extract\n",
            "    return TLD_EXTRACTOR(url)\n",
            "  File \"/usr/local/lib/python3.6/dist-packages/tldextract/tldextract.py\", line 223, in __call__\n",
            "    netloc = SCHEME_RE.sub(\"\", url) \\\n",
            "TypeError: expected string or bytes-like object\n",
            "127.0.0.1 - - [30/Aug/2020 20:19:42] \"\u001b[35m\u001b[1mPOST /predict HTTP/1.1\u001b[0m\" 500 -\n"
          ],
          "name": "stderr"
        }
      ]
    }
  ]
}