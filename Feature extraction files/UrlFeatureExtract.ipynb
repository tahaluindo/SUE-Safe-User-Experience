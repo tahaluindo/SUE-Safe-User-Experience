{
  "nbformat": 4,
  "nbformat_minor": 0,
  "metadata": {
    "colab": {
      "name": "UrlFeatureExtract.ipynb",
      "provenance": [],
      "collapsed_sections": [
        "5pq2qWZgjPu1",
        "7ih4GKj0DaYD",
        "Svd6E780swM3",
        "rjdF2OjfPPrj",
        "ztStHw98YzE9",
        "75vqc75oHlrL",
        "Yo6T7uEn-Txj"
      ]
    },
    "kernelspec": {
      "name": "python3",
      "display_name": "Python 3"
    }
  },
  "cells": [
    {
      "cell_type": "markdown",
      "metadata": {
        "id": "5pq2qWZgjPu1",
        "colab_type": "text"
      },
      "source": [
        "# Loading saved model"
      ]
    },
    {
      "cell_type": "code",
      "metadata": {
        "id": "5ySh-qiRSye_",
        "colab_type": "code",
        "colab": {
          "base_uri": "https://localhost:8080/",
          "height": 134
        },
        "outputId": "e31d3716-dbaa-4c7b-e84c-aacdb6a00515"
      },
      "source": [
        "import pickle\n",
        "\n",
        "# load model from file\n",
        "loaded_model = pickle.load(open(\"/content/drive/My Drive/SUE/XGBoostClassifier.pkl\", \"rb\"))\n",
        "loaded_model"
      ],
      "execution_count": 1,
      "outputs": [
        {
          "output_type": "execute_result",
          "data": {
            "text/plain": [
              "XGBClassifier(base_score=0.5, booster='gbtree', colsample_bylevel=1,\n",
              "              colsample_bynode=1, colsample_bytree=1, gamma=0,\n",
              "              learning_rate=0.4, max_delta_step=0, max_depth=7,\n",
              "              min_child_weight=1, missing=nan, n_estimators=100, n_jobs=1,\n",
              "              nthread=None, objective='binary:logistic', random_state=0,\n",
              "              reg_alpha=0, reg_lambda=1, scale_pos_weight=1, seed=None,\n",
              "              silent=None, subsample=1, verbosity=1)"
            ]
          },
          "metadata": {
            "tags": []
          },
          "execution_count": 1
        }
      ]
    },
    {
      "cell_type": "markdown",
      "metadata": {
        "id": "7ih4GKj0DaYD",
        "colab_type": "text"
      },
      "source": [
        "# Feature Extraction"
      ]
    },
    {
      "cell_type": "markdown",
      "metadata": {
        "id": "Svd6E780swM3",
        "colab_type": "text"
      },
      "source": [
        "## Importing packages required"
      ]
    },
    {
      "cell_type": "code",
      "metadata": {
        "id": "Ag4Jp-HeDgAg",
        "colab_type": "code",
        "colab": {}
      },
      "source": [
        "# import sys\n",
        "# import csv\n",
        "# import pandas as pd\n",
        "# import regex\n",
        "# #provides the capabilities to create, manipulate and operate on IPv4 and IPv6 addresses and networks.\n",
        "# #used for extracting having_ip_address feature \n",
        "# import ipaddress \n",
        "# #!pip install 2to3\n",
        "# #import 2to3\n",
        "# !pip install tldextract\n",
        "# from tldextract import extract\n",
        "# import ssl\n",
        "\n",
        "# !pip install urllib\n",
        "# import urllib\n",
        "# import xml.etree.ElementTree as ET\n",
        "# !pip install requests\n",
        "# !pip install beautifulsoup4\n",
        "# from bs4 import BeautifulSoup\n",
        "# import bs4, re\n",
        "# #!pip install google-search\n",
        "# #from googlesearch.googlesearch import GoogleSearch\n",
        "# !pip install python-whois\n",
        "# import whois\n",
        "# from datetime import datetime\n",
        "# import time\n",
        "# import requests\n",
        "# import urllib.request\n",
        "# from urllib.parse import urlencode\n",
        "# import subprocess\n",
        "# import urllib3, requests, json\n",
        "# import socket\n",
        "# from googlesearch import search"
      ],
      "execution_count": 2,
      "outputs": []
    },
    {
      "cell_type": "code",
      "metadata": {
        "id": "1vOApRUV4t3k",
        "colab_type": "code",
        "colab": {
          "base_uri": "https://localhost:8080/",
          "height": 168
        },
        "outputId": "d6f7611d-05ef-46df-c3d8-ffc4376ea209"
      },
      "source": [
        "import sys\n",
        "import csv\n",
        "import pandas as pd\n",
        "import regex\n",
        "import ipaddress\n",
        "!pip install tldextract\n",
        "from tldextract import extract\n",
        "import ssl\n",
        "from urllib.request import urlopen, Request\n",
        "import xml.etree.ElementTree as ET\n",
        "import datetime\n",
        "from bs4 import BeautifulSoup\n",
        "import urllib, bs4, re\n",
        "from googlesearch import search\n",
        "!pip install whois\n",
        "import whois\n",
        "from datetime import datetime\n",
        "import time\n",
        "import requests\n",
        "import urllib.request\n",
        "from urllib.parse import urlencode\n",
        "import subprocess\n",
        "import urllib3, requests, json\n",
        "import socket "
      ],
      "execution_count": 3,
      "outputs": [
        {
          "output_type": "stream",
          "text": [
            "Requirement already satisfied: tldextract in /usr/local/lib/python3.6/dist-packages (2.2.3)\n",
            "Requirement already satisfied: idna in /usr/local/lib/python3.6/dist-packages (from tldextract) (2.10)\n",
            "Requirement already satisfied: requests>=2.1.0 in /usr/local/lib/python3.6/dist-packages (from tldextract) (2.23.0)\n",
            "Requirement already satisfied: requests-file>=1.4 in /usr/local/lib/python3.6/dist-packages (from tldextract) (1.5.1)\n",
            "Requirement already satisfied: urllib3!=1.25.0,!=1.25.1,<1.26,>=1.21.1 in /usr/local/lib/python3.6/dist-packages (from requests>=2.1.0->tldextract) (1.24.3)\n",
            "Requirement already satisfied: certifi>=2017.4.17 in /usr/local/lib/python3.6/dist-packages (from requests>=2.1.0->tldextract) (2020.6.20)\n",
            "Requirement already satisfied: chardet<4,>=3.0.2 in /usr/local/lib/python3.6/dist-packages (from requests>=2.1.0->tldextract) (3.0.4)\n",
            "Requirement already satisfied: six in /usr/local/lib/python3.6/dist-packages (from requests-file>=1.4->tldextract) (1.15.0)\n",
            "Requirement already satisfied: whois in /usr/local/lib/python3.6/dist-packages (0.9.7)\n"
          ],
          "name": "stdout"
        }
      ]
    },
    {
      "cell_type": "markdown",
      "metadata": {
        "id": "OXOPX4iEWzUt",
        "colab_type": "text"
      },
      "source": [
        "# Features"
      ]
    },
    {
      "cell_type": "markdown",
      "metadata": {
        "id": "rjdF2OjfPPrj",
        "colab_type": "text"
      },
      "source": [
        "## Web Scraping"
      ]
    },
    {
      "cell_type": "code",
      "metadata": {
        "id": "3Fer-NlJPU4-",
        "colab_type": "code",
        "colab": {}
      },
      "source": [
        "web_page = bs4.BeautifulSoup(requests.get(\"https://smallseotools.com/google-index-checker/\", {}).text, \"lxml\")"
      ],
      "execution_count": 4,
      "outputs": []
    },
    {
      "cell_type": "code",
      "metadata": {
        "id": "8A-ZiQJxQba7",
        "colab_type": "code",
        "colab": {
          "base_uri": "https://localhost:8080/",
          "height": 0
        },
        "outputId": "e2453418-9f58-41af-a0ab-825603e7b0f2"
      },
      "source": [
        "web_page"
      ],
      "execution_count": 5,
      "outputs": [
        {
          "output_type": "execute_result",
          "data": {
            "text/plain": [
              "<!DOCTYPE html>\n",
              "<html lang=\"en\">\n",
              "<head>\n",
              "<meta content=\"text/html; charset=utf-8\" http-equiv=\"Content-Type\"/>\n",
              "<link href=\"https://smallseotools.com/google-index-checker/\" rel=\"canonical\"/>\n",
              "<link href=\"https://smallseotools.com/apple-touch-icon.png\" rel=\"apple-touch-icon\"/>\n",
              "<script>\n",
              "        dataLayer = [];\n",
              "    </script>\n",
              "<script>(function(w,d,s,l,i){w[l]=w[l]||[];w[l].push({'gtm.start':\n",
              "            new Date().getTime(),event:'gtm.js'});var f=d.getElementsByTagName(s)[0],\n",
              "            j=d.createElement(s),dl=l!='dataLayer'?'&l='+l:'';j.async=true;j.src=\n",
              "            'https://www.googletagmanager.com/gtm.js?id='+i+dl;f.parentNode.insertBefore(j,f);\n",
              "        })(window,document,'script','dataLayer','GTM-NX2MHLX');</script>\n",
              "<script data-cfasync=\"false\" type=\"text/javascript\">(function(w, d) { var s = d.createElement(\"script\"); s.src = \"//delivery.adrecover.com/41501/adRecover.js\"; s.type = \"text/javascript\"; s.async = true; (d.getElementsByTagName(\"head\")[0] || d.getElementsByTagName(\"body\")[0]).appendChild(s); })(window, document);</script>\n",
              "<meta content=\"width=device-width, initial-scale=1\" name=\"viewport\"/>\n",
              "<meta content=\"#000\" name=\"theme-color\"/>\n",
              "<meta content=\"C7D52BA22CAB7BD69F34799C81D504EE\" name=\"msvalidate.01\"/>\n",
              "<title>Google Index Checker, Check your web pages are indexed or not</title>\n",
              "<meta content=\"Google index checker online is best tool created by small seo tools to check how many web pages of your website are indexed. This tool verifies that your website is indexed or not.\" name=\"description\"/>\n",
              "<meta content=\"Google Index Checker, Check your web pages are indexed or not\" property=\"og:title\"/>\n",
              "<meta content=\"website\" property=\"og:type\"/>\n",
              "<meta content=\"https://smallseotools.com/google-index-checker/\" property=\"og:url\"/>\n",
              "<meta content=\"https://smallseotools.com/asets/ogimages/google-index-checker.png\" property=\"og:image\"/>\n",
              "<meta content=\"Google Index Checker, Check your web pages are indexed or not\" property=\"og:site_name\"/>\n",
              "<meta content=\"Google index checker online is best tool created by small seo tools to check how many web pages of your website are indexed. This tool verifies that your website is indexed or not.\" property=\"og:description\"/>\n",
              "<meta content=\"summary\" name=\"twitter:card\"/>\n",
              "<meta content=\"@smallseotools.com\" name=\"twitter:site\"/>\n",
              "<meta content=\"Google Index Checker, Check your web pages are indexed or not\" name=\"twitter:title\"/>\n",
              "<meta content=\"Google index checker online is best tool created by small seo tools to check how many web pages of your website are indexed. This tool verifies that your website is indexed or not.\" name=\"twitter:description\"/>\n",
              "<meta content=\"https://smallseotools.com/asets/ogimages/google-index-checker.png\" name=\"twitter:image\"/>\n",
              "<link as=\"script\" href=\"https://pagead2.googlesyndication.com/pagead/js/r20190528/r20190131/show_ads_impl.js\" rel=\"preconnect\"/>\n",
              "<link href=\"https://fonts.gstatic.com\" rel=\"dns-prefetch\"/>\n",
              "<link href=\"https://ajax.googleapis.com\" rel=\"dns-prefetch\"/>\n",
              "<link href=\"https://apis.google.com\" rel=\"dns-prefetch\"/>\n",
              "<link href=\"https://www.gstatic.com\" rel=\"dns-prefetch\"/>\n",
              "<link href=\"https://fonts.googleapis.com\" rel=\"dns-prefetch\"/>\n",
              "<link href=\"//www.google-analytics.com\" rel=\"dns-prefetch\"/>\n",
              "<link href=\"https://smallseotools.com/imgs/favicon.png\" rel=\"shortcut icon\" type=\"image/x-icon\"/>\n",
              "<link href=\"https://smallseotools.com/manifest.json\" rel=\"manifest\"/>\n",
              "<link href=\"https://smallseotools.com/asets/css/bootstrap.min.css\" rel=\"stylesheet\"/>\n",
              "<style>\n",
              "@font-face{font-family:nunito_sansbold;src:url('https://smallseotools.com/asets/fonts/nunitosans-bold-webfont.woff2')format('woff2'),url('https://smallseotools.com/asets/fonts/nunitosans-bold-webfont.woff')format('woff');font-weight:400;font-style:normal;font-display:swap}@font-face{font-family:nunito_sansregular;src:url('https://smallseotools.com/asets/fonts/nunitosans-regular-webfont.woff2')format('woff2'),url('https://smallseotools.com/asets/fonts/nunitosans-regular-webfont.woff')format('woff');font-weight:400;font-style:normal;font-display:swap}body{font-family:nunito_sansregular!important;background:#fff;letter-spacing:.3px}input[type=file]{cursor:pointer}input{font-family:nunito_sansregular;font:icon}.box_shadow_border{box-shadow:0 0 6px 3px #ededed;background:#fff;padding:15px;overflow:hidden}#main_content,.main-content{width:840px;float:left}#sidebar{width:310px;float:right}.mob_show{display:none!important}.pn,.padding0{padding:0!important}.pln{padding-left:0!important}.prn{padding-right:0!important}.ptn{padding-top:0!important}.pbn{padding-bottom:0!important}.wp100{width:100%!important}.model-bg,.model-box{position:fixed;display:none}.accordion_box .panel-title br{display:none}.top_nav{border-bottom:1px solid #eee;background:#1e70b9}.navbar-inverse .navbar-toggle:focus,.navbar-inverse .navbar-toggle:hover{background-color:#fff}.right_link{float:right;display:flex}.right_link a,.left_link a{color:#fff;padding:5px 15px;font-size:13px;line-height:25px;border:1px solid #3d87c8;border-bottom:none;border-top:none;display:block;float:left}.right_link a:nth-child(2),.left_link a:nth-child(2){border-left:0;border-right:1px solid #3d87c8!important}.right_link a i{margin-right:5px}.right_link a:hover,.left_link a:hover{text-decoration:none;color:#fff;background-color:#125591}.top_social_link{background:url(https://smallseotools.com/asets/images/top-social_icons.png?80177);background-size:220px 40px;width:36px;height:35px;background-repeat:no-repeat}.top_social_link_fb{background-position:-3px -2px;background-size:154px 40px}.top_social_link_tw{background-position:-32px 0;background-size:135px 38px}.top_social_link_li{background-position:-76px 0;background-size:150px 35px}.top_social_link_yt{background-position:-112px -1px;background-size:150px 40px}.navigation_container{border-bottom:1px solid #eee;box-shadow:0 2px 7px 0 #d2d2d2;z-index:10;position:relative;background-color:#fff}.navigation_container nav{background:0 0;border:none;margin:10px 0}.navigation_container .navbar-right li a{color:#202020!important;outline:none!important;padding:10px 15px;margin-top:5px}.navigation_container .navbar-right li a:hover,.navigation_container .navbar-right .active a{background:#f1f1f1!important;text-decoration:none;border-radius:30px;color:#1e70b9!important}.navigation_container .navbar-right .active:hover{background:0 0}.top_act_pl{background-color:#1862a4}.top_sst_logo{background:url(https://smallseotools.com/asets/images/logo_sprite.png);width:180px;background-repeat:no-repeat;background-size:180px 62px;overflow:hidden;height:44px;background-position:0 12px}.bootom_sst_logo{background-position:0 -30px}.tool_area_banner{background:url(https://smallseotools.com/asets/images/bg.jpg) top center;width:100%;background-repeat:no-repeat;padding:10px;background-size:1920px 736px}.search_box_main.search_box label{width:100%;margin-bottom:0;position:relative}#voice_search{position:absolute;right:7px;cursor:pointer;border-radius:30px;top:8px}.blog_search_mobile .input-group{width:100%}.blog_search_mobile #searchbar,.blog_search_mobile #blog_search{border-radius:30px}.blog_search_mobile #voice_search{z-index:11;top:30px;width:30px;right:3px}.blog_search_mobile .search-resultsbar{}.blog_search_mobile .search-resultsbar li{list-style:none;padding:10px}.blog_search_mobile .search-resultsbar li img{display:none}.blog_search_mobile .search-resultsbar li a{display:block;overflow:hidden;text-overflow:ellipsis;white-space:nowrap}.search_box_main.search_box{width:500px;margin:0 auto;align-items:center;position:relative;margin-bottom:15px;margin-top:10px;position:absolute;right:-60px;top:50px;background:#fff;padding:15px;padding-top:0}.search_box_main .search_field{width:100%;height:55px;border-radius:50px;padding-left:20px;padding-right:85px;outline:none;border:1px solid #d7d7d7;font-family:nunito_sansregular!important}.search_box_main .searc_icon_btn{width:80px;height:53px;background:#0f804a;border:1px solid #d7d7d7;border-radius:50px;color:#fff;text-align:center;position:absolute;right:2px;font-size:22px;padding-top:8px;top:1px}.tool_box{margin-bottom:20px}.tool_heading h1,.tool_heading h2,.tool_heading h3{font-family:nunito_sansbold;color:#505050;font-size:20px;text-transform:uppercase;margin:0 0 15px}.tool_heading h1{font-size:25px}.tool_heading p{font-size:16px}.tool_heading h3{margin-bottom:0}.heading_border{border:1px solid #b7b7b7;width:45px;position:relative;display:inline-block}.heading_border:before{border:5px solid #b7b7b7;border-radius:20px;right:-11px}.heading_border:after,.heading_border:before{position:absolute;top:-5px;content:''}.heading_border:after{border:5px solid #b7b7b7;border-radius:20px;left:-11px}#result-main{margin-bottom:15px}.textarea_box{border:1.5px dashed #ccc;background:#fbfbfb;padding:11px;margin-bottom:10px;overflow:hidden}.equally_centralized{display:flex!important;align-items:center}.doted_br_show{padding:5px}.input_lable{color:#505050;margin:10px 0;font-family:nunito_sansbold}.img_bg.img_bg{background-color:#f6f6f6;min-height:235px;border:1px solid #e9e9e9;text-align:center}.img_input_box{display:inline-flex;width:90%;margin-bottom:10px}.img_input_addon{border-radius:24px 0 0 24px;color:#fff;border:none;background:#0f804a;padding:10px 20px;font-size:15px;width:auto;line-height:25px;cursor:pointer}.img_input_style{height:45px;border:1px solid #e9e9e9;border-radius:0 24px 24px 0;white-space:nowrap;text-overflow:ellipsis;background-color:#fff!important;padding:5px 10px;font-size:12px;overflow:hidden;text-align:left}.or_seprator{position:relative;z-index:1;display:initial;position:absolute;top:100px;left:47%;background:#1e70b9;color:#fff;padding:12px;border-radius:64px}.dropbox_style{display:inline-flex;border:1px solid #e9e9e9;background-color:#fff;border-radius:24px;margin-bottom:10px;padding:0;height:40px;outline:none!important}#containerDropbox a{background:0 0;border:none;font-family:nunito_sansregular;font-size:11px;color:#505050;font-weight:400;padding:13px;margin-top:-2px}#containerDropbox a span{filter:grayscale(1)}#containerDropbox:hover a span{filter:grayscale(0)}.google_drive_style{background:url(https://smallseotools.com/asets/images/google-drive.png);background-repeat:no-repeat;background-position:8px;border:1px solid #e9e9e9;background-color:#fff!important;border-radius:24px;padding:10px;height:40px;outline:none!important;line-height:25px;background-size:18px 16px!important}.google_drive_style:hover,.gact .google_drive_style{background:url(https://smallseotools.com/asets/images/google-drive1.png);background-repeat:no-repeat;background-position:8px}.dropbox-dropin-btn .dropin-btn-status{background-size:60px 14px!important}.google_drive_style small{margin-left:20px;position:relative;font-size:11px!important;color:#505050;top:-3px}.sticky{margin:15px 0}.popular-seo-t{margin-top:15px}.popular_tool_box ul{margin:0;padding:0}.popular_tool_box ul li{list-style:none;float:left;width:100%;border:1px solid #eee;border-bottom:none;background:#fff;padding:5px 10px}.popular_tool_box ul .popular-seo-t h3{background:#404040;text-align:center;list-style:none;color:#fff;font-size:15px;line-height:20px;font-family:nunito_sansbold;margin:0;padding:10px}.popular_tool_box ul li span{color:#1e70b9;float:left}.popular_tool_box ul li a{color:#767676;margin-left:10px;line-height:inherit;display:block;float:left}.popular_tool_box ul li:hover a{text-decoration:none;color:#23527c}.glyphicon-refresh{-webkit-animation:spin .5s infinite;-moz-animation:spin .5s infinite;-o-animation:spin .5s infinite;animation:spin .5s infinite;animation-timing-function:linear}@keyframes spin{0%{transform:rotate(0deg)}100%{transform:rotate(180deg)}}.adver_style{text-align:center}.adver_style a{display:block;margin-bottom:10px}.latest_blog_area{margin:25px 0}.latest_blog_area .innerpare{min-height:283px;max-height:283px;overflow:hidden;border:1px solid #ebebeb;margin:10px 0}.latest_blog_area .absolute{padding:10px;background:#fff;position:relative;top:-20px;width:100%;margin:auto;min-height:100px;max-height:100px;overflow:hidden}.latest_blog_area .tool_heading h2{font-family:nunito_sansbold;color:#505050;font-size:20px;text-transform:uppercase}.latest_blog_area h2{font-size:16px;color:#505050}.latest_blog_area .absolute h2{min-height:20px;max-height:20px;overflow:hidden;word-wrap:break-word;text-overflow:ellipsis;white-space:nowrap}.latest_blog_area .absolute h2 a{text-decoration:none;color:#505050}.latest_blog_area .aboutBlog{font-size:12px;color:#505050;margin-top:5px}.latest_blog_area .classic_button{border-radius:24px;display:inline-block;padding:10px 15px;box-shadow:0 0 6px 0 #ea5050!important;border:1px solid #ea5050!important;color:#000;text-decoration:none;margin:15px 0}.model-box{z-index:42;width:600px;min-height:200px;left:50%;margin-left:-300px;padding:5px;border:1px solid #0e8049;border-radius:5px;background:#fff;top:6%}.model-bg,.model-box{position:fixed;display:none}.model-box .heading{background:#193a51;width:100%;font-size:24px}.model-box .heading{color:#fff;text-align:center}.model-box .model_body{min-height:120px;width:100%;display:block;padding:5px;font-size:18px}.model-box .model_footer{width:100%;display:block}.green_trans_btn{background:0 0;border:1px solid #0f804a;border-radius:22px;padding:10px 20px;font-size:16px;margin-bottom:20px;color:#318a5c;outline:none!important}.red_trans_btn{color:#ea5050;border:1px solid #ea5050;border-radius:22px;padding:10px 20px;font-size:16px;margin-bottom:20px;background:0 0;outline:none!important}#ajax_vote{width:162px;height:100px;margin:0 auto;position:relative}#new,#old{position:absolute;top:0;left:0}#review_area i{font-size:27px;margin-right:5px;color:gray;cursor:pointer;float:left}#review_area .yellow{color:#f7bd0b}#review_area div.overall_vote_dec_rate{top:20px}.vote_counter{font-size:13px;margin-top:30px;color:gray}.overall_vote_rows,.vote_counter i{font-size:13px!important;color:gray}.top_b_home{background-position:bottom;background-color:#f5f5f5;min-height:50px}.category_heading{font-family:nunito_sansbold;font-size:30px;text-align:center;color:#1e70b9}.category_heading span{color:#505050}.category_des{color:#606060;text-align:center;margin:0 auto 20px;width:90%}.category_box .hone_a_box{width:400px;min-height:380px;float:right}.free_tool_box{width:150px;float:left;min-height:190px;display:flex;align-items:center;text-align:center;margin:0 25px}.free_tool_box a{display:block;width:100%;text-decoration:none}.free_tool_box .tool_des{font-family:nunito_sansbold;color:#505050;display:block;margin-top:10px}#rvtools{box-shadow:none!important}.free_tool_box .tool_icon{display:inline-block;background:url(https://smallseotools.com/asets/images/sprite-sheet-new.png?85045) no-repeat;overflow:hidden;background-size:840px 3600px;text-align:left;margin:0;width:84px!important;height:90px!important}span.tool_icon.logo-maker{background:url(https://smallseotools.com/asets/images/logo-inactive.png) no-repeat;background-position:center;background-size:84px 90px!important}.lmtool a:hover .logo-maker{background:url(https://smallseotools.com/asets/images/logo-active.png) no-repeat;background-position:center;background-size:84px 90px!important}span.tool_icon.rephrasing-tool{background:url(https://smallseotools.com/asets/images/paraphrasing-icon.png) no-repeat;background-size:170px 90px!important;width:84px!important;height:90px!important}.lmtool a:hover .rephrasing-tool{background:url(https://smallseotools.com/asets/images/paraphrasing-icon.png) no-repeat;background-position:-85px 0}span.tool_icon.design-studio{background:url(https://smallseotools.com/asets/images/resume-builder.png) no-repeat;background-size:170px 90px!important;width:84px!important;height:90px!important}.free_tool_box a:hover .design-studio{background:url(https://smallseotools.com/asets/images/resume-builder.png) no-repeat;background-position:-85px 0}.free_tool_box .plagiarism-checker{background-position:0 0}.free_tool_box a:hover .plagiarism-checker{background-position:0 -1170px}.free_tool_box .article-rewriter{background-position:-84px 0}.free_tool_box a:hover .article-rewriter{background-position:-84px -1170px}.free_tool_box .grammar-checker{background-position:-168px 0}.free_tool_box a:hover .grammar-checker{background-position:-168px -1170px}.free_tool_box .word-count-checker{background-position:-252px 0}.free_tool_box a:hover .word-count-checker{background-position:-252px -1170px}.free_tool_box .spell-checker{background-position:-336px 0}.free_tool_box a:hover .spell-checker{background-position:-336px -1170px}.free_tool_box .online-md5-generator{background-position:-420px 0}.free_tool_box a:hover .online-md5-generator{background-position:-420px -1170px}.free_tool_box .change-text-case{background-position:-504px 0}.free_tool_box a:hover .change-text-case{background-position:-504px -1170px}.free_tool_box .merge-words-online-tool{background-position:-588px 0}.free_tool_box a:hover .merge-words-online-tool{background-position:-588px -1170px}.free_tool_box .image-to-text-converter{background-position:-672px 0}.free_tool_box a:hover .image-to-text-converter{background-position:-672px -1170px}.free_tool_box .translate-english-to-english{background-position:-756px 0}.free_tool_box a:hover .translate-english-to-english{background-position:-756px -1170px}.free_tool_box .reverse-image-search{background-position:0 -90px}.free_tool_box a:hover .reverse-image-search{background-position:0 -1260px}.free_tool_box .image-compression{background-position:-84px -90px}.free_tool_box a:hover .image-compression{background-position:-84px -1260px}.free_tool_box .favicon-generator-tool{background-position:-168px -90px}.free_tool_box a:hover .favicon-generator-tool{background-position:-168px -1260px}.free_tool_box .video-to-gif{background-position:-252px -90px}.free_tool_box a:hover .video-to-gif{background-position:-252px -1260px}.free_tool_box .image-resizer{background-position:-336px -90px}.free_tool_box a:hover .image-resizer{background-position:-336px -1260px}.free_tool_box .crop-image{background-position:-420px -90px}.free_tool_box a:hover .crop-image{background-position:-420px -1260px}.free_tool_box .convert-to-jpg{background-position:-504px -90px}.free_tool_box a:hover .convert-to-jpg{background-position:-504px -1260px}.free_tool_box .rgb-to-hex{background-position:-588px -90px}.free_tool_box a:hover .rgb-to-hex{background-position:-588px -1260px}.free_tool_box .keyword-position{background-position:-672px -90px}.free_tool_box a:hover .keyword-position{background-position:-672px -1260px}.free_tool_box .keyword-density-checker{background-position:-756px -90px}.free_tool_box a:hover .keyword-density-checker{background-position:-756px -1260px}.free_tool_box .keywords-suggestions-tool{background-position:0 -180px}.free_tool_box a:hover .keywords-suggestions-tool{background-position:0 -1350px}.free_tool_box .website-keywords-suggestions-tool{background-position:-84px -180px}.free_tool_box a:hover .website-keywords-suggestions-tool{background-position:-84px -1350px}.free_tool_box .keywords-rich-domains-suggestions-tool{background-position:-168px -180px}.free_tool_box a:hover .keywords-rich-domains-suggestions-tool{background-position:-168px -1350px}.free_tool_box .related-keywords-finder{background-position:-252px -180px}.free_tool_box a:hover .related-keywords-finder{background-position:-252px -1350px}.free_tool_box .long-tail-keyword-generator{background-position:-336px -180px}.free_tool_box a:hover .long-tail-keyword-generator{background-position:-336px -1350px}.free_tool_box .keyword-competition-checker{background-position:-420px -180px}.free_tool_box a:hover .keyword-competition-checker{background-position:-420px -1350px}.free_tool_box .seo-keyword-competition-analysis{background-position:-504px -180px}.free_tool_box a:hover .seo-keyword-competition-analysis{background-position:-504px -1350px}.free_tool_box .keyword-analyzer{background-position:-588px -180px}.free_tool_box a:hover .keyword-analyzer{background-position:-588px -1350px}.free_tool_box .backlink-checker{background-position:-672px -180px}.free_tool_box a:hover .backlink-checker{background-position:-672px -1350px}.free_tool_box .backlink-maker{background-position:-756px -180px}.free_tool_box a:hover .backlink-maker{background-position:-756px -1350px}.free_tool_box .website-links-count-checker{background-position:0 -270px}.free_tool_box a:hover .website-links-count-checker{background-position:0 -1440px}.free_tool_box .websites-broken-link-checker{background-position:-84px -270px}.free_tool_box a:hover .websites-broken-link-checker{background-position:-84px -1440px}.free_tool_box .link-price-calculator{background-position:-168px -270px}.free_tool_box a:hover .link-price-calculator{background-position:-168px -1440px}.free_tool_box .reciprocal-link-checker{background-position:-252px -270px}.free_tool_box a:hover .reciprocal-link-checker{background-position:-252px -1440px}.free_tool_box .website-link-analyzer-tool{background-position:-336px -270px}.free_tool_box a:hover .website-link-analyzer-tool{background-position:-336px -1440px}.free_tool_box .website-seo-score-checker{background-position:-420px -270px}.free_tool_box a:hover .website-seo-score-checker{background-position:-420px -1440px}.free_tool_box .google-pagerank-checker{background-position:-504px -270px}.free_tool_box a:hover .google-pagerank-checker{background-position:-504px -1440px}.free_tool_box .online-ping-website-tool{background-position:-588px -270px}.free_tool_box a:hover .online-ping-website-tool{background-position:-588px -1440px}.free_tool_box .website-page-speed-checker{background-position:-672px -270px}.free_tool_box a:hover .website-page-speed-checker{background-position:-672px -1440px}.free_tool_box .website-page-size-checker{background-position:-756px -270px}.free_tool_box a:hover .website-page-size-checker{background-position:-756px -1440px}.free_tool_box .website-page-snooper{background-position:0 -360px}.free_tool_box a:hover .website-page-snooper{background-position:0 -1530px}.free_tool_box .visitor-hit-counter{background-position:-84px -360px}.free_tool_box a:hover .visitor-hit-counter{background-position:-84px -1530px}.free_tool_box .xml-sitemap-generator{background-position:-168px -360px}.free_tool_box a:hover .xml-sitemap-generator{background-position:-168px -1530px}.free_tool_box .url-rewriting-tool{background-position:-252px -360px}.free_tool_box a:hover .url-rewriting-tool{background-position:-252px -1530px}.free_tool_box .screen-resolution-simulator{background-position:-336px -360px}.free_tool_box a:hover .screen-resolution-simulator{background-position:-336px -1530px}.free_tool_box .online-url-encoder-decoder{background-position:-420px -360px}.free_tool_box a:hover .online-url-encoder-decoder{background-position:-420px -1530px}.free_tool_box .adsense-calculator{background-position:-504px -360px}.free_tool_box a:hover .adsense-calculator{background-position:-504px -1530px}.free_tool_box .open-graph-checker{background-position:-588px -360px}.free_tool_box a:hover .open-graph-checker{background-position:-588px -1530px}.free_tool_box .open-graph-generator{background-position:-672px -360px}.free_tool_box a:hover .open-graph-generator{background-position:-672px -1530px}.free_tool_box .qr-code-generator{background-position:-756px -360px}.free_tool_box a:hover .qr-code-generator{background-position:-756px -1530px}.free_tool_box .htaccess-redirect-generator{background-position:0 -450px}.free_tool_box a:hover .htaccess-redirect-generator{background-position:0 -1620px}.free_tool_box .get-http-headers{background-position:-84px -450px}.free_tool_box a:hover .get-http-headers{background-position:-84px -1620px}.free_tool_box .twitter-card-generator{background-position:-168px -450px}.free_tool_box a:hover .twitter-card-generator{background-position:-168px -1620px}.free_tool_box .internet-connection-speed-test-tool{background-position:-252px -450px}.free_tool_box a:hover .internet-connection-speed-test-tool{background-position:-252px -1620px}.free_tool_box .wordpress-theme-detector{background-position:-336px -450px}.free_tool_box a:hover .wordpress-theme-detector{background-position:-336px -1620px}.free_tool_box .instant-search-suggestions{background-position:-420px -450px}.free_tool_box a:hover .instant-search-suggestions{background-position:-420px -1620px}.free_tool_box .avg-antivirus-checker{background-position:-504px -450px}.free_tool_box a:hover .avg-antivirus-checker{background-position:-504px -1620px}.free_tool_box .website-screenshot-generator{background-position:-588px -450px}.free_tool_box a:hover .website-screenshot-generator{background-position:-588px -1620px}.free_tool_box .email-privacy{background-position:-672px -450px}.free_tool_box a:hover .email-privacy{background-position:-672px -1620px}.free_tool_box .mobile-friendly-test{background-position:-756px -450px}.free_tool_box a:hover .mobile-friendly-test{background-position:-756px -1620px}.free_tool_box .youtube-video-downloader{background-position:0 -540px}.free_tool_box a:hover .youtube-video-downloader{background-position:0 -1710px}.free_tool_box .css-minify{background-position:-84px -540px}.free_tool_box a:hover .css-minify{background-position:-84px -1710px}.free_tool_box .html-minify{background-position:-168px -540px}.free_tool_box a:hover .html-minify{background-position:-168px -1710px}.free_tool_box .js-minify{background-position:-252px -540px}.free_tool_box a:hover .js-minify{background-position:-252px -1710px}.free_tool_box .robots-txt-generator{background-position:-336px -540px}.free_tool_box a:hover .robots-txt-generator{background-position:-336px -1710px}.free_tool_box .url-shortener{background-position:-420px -540px}.free_tool_box a:hover .url-shortener{background-position:-420px -1710px}.free_tool_box .link-tracker{background-position:-504px -540px}.free_tool_box a:hover .link-tracker{background-position:-504px -1710px}.free_tool_box .reverse-ip-domain-check{background-position:-588px -540px}.free_tool_box a:hover .reverse-ip-domain-check{background-position:-588px -1710px}.free_tool_box .check-server-status{background-position:-672px -540px}.free_tool_box a:hover .check-server-status{background-position:-672px -1710px}.free_tool_box .class-c-ip-checker{background-position:-756px -540px}.free_tool_box a:hover .class-c-ip-checker{background-position:-756px -1710px}.free_tool_box .code-to-text-ratio-checker{background-position:0 -630px}.free_tool_box a:hover .code-to-text-ratio-checker{background-position:0 -1800px}.free_tool_box .alexa-rank-comparison{background-position:-84px -630px}.free_tool_box a:hover .alexa-rank-comparison{background-position:-84px -1800px}.free_tool_box .page-comparison{background-position:-168px -630px}.free_tool_box a:hover .page-comparison{background-position:-168px -1800px}.free_tool_box .spider-simulator{background-position:-252px -630px}.free_tool_box a:hover .spider-simulator{background-position:-252px -1800px}.free_tool_box .comparison-search{background-position:-336px -630px}.free_tool_box a:hover .comparison-search{background-position:-336px -1800px}.free_tool_box .google-cache-checker{background-position:-420px -630px}.free_tool_box a:hover .google-cache-checker{background-position:-420px -1800px}.free_tool_box .whois-checker{background-position:-504px -630px}.free_tool_box a:hover .whois-checker{background-position:-504px -1800px}.free_tool_box .mozrank-checker{background-position:-588px -630px}.free_tool_box a:hover .mozrank-checker{background-position:-588px -1800px}.free_tool_box .page-authority-checker{background-position:-672px -630px}.free_tool_box a:hover .page-authority-checker{background-position:-672px -1800px}.free_tool_box .google-index-checker{background-position:-756px -630px}.free_tool_box a:hover .google-index-checker{background-position:-756px -1800px}.free_tool_box .alexa-rank-checker{background-position:0 -720px}.free_tool_box a:hover .alexa-rank-checker{background-position:0 -1890px}.free_tool_box .redirect-checker{background-position:-84px -720px}.free_tool_box a:hover .redirect-checker{background-position:-84px -1890px}.free_tool_box .similar-page-checker{background-position:-168px -720px}.free_tool_box a:hover .similar-page-checker{background-position:-168px -1890px}.free_tool_box .cloaking-checker{background-position:-252px -720px}.free_tool_box a:hover .cloaking-checker{background-position:-252px -1890px}.free_tool_box .google-malware-checker{background-position:-336px -720px}.free_tool_box a:hover .google-malware-checker{background-position:-336px -1890px}.free_tool_box .find-facebook-id{background-position:-420px -720px}.free_tool_box a:hover .find-facebook-id{background-position:-420px -1890px}.free_tool_box .check-gzip-compression{background-position:-504px -720px}.free_tool_box a:hover .check-gzip-compression{background-position:-504px -1890px}.free_tool_box .ssl-checker{background-position:-588px -720px}.free_tool_box a:hover .ssl-checker{background-position:-588px -1890px}.free_tool_box .pokemon-go-server-status{background-position:-672px -720px}.free_tool_box a:hover .pokemon-go-server-status{background-position:-672px -1890px}.free_tool_box .blog-finder{background-position:-756px -720px}.free_tool_box a:hover .blog-finder{background-position:-756px -1890px}.free_tool_box .geo-ip-locator{background-position:0 -810px}.free_tool_box a:hover .geo-ip-locator{background-position:0 -1980px}.free_tool_box .apps-rank-tracking-tool{background-position:-84px -810px}.free_tool_box a:hover .apps-rank-tracking-tool{background-position:-84px -1980px}.free_tool_box .what-is-my-browser{background-position:-168px -810px}.free_tool_box a:hover .what-is-my-browser{background-position:-168px -1980px}.free_tool_box .social-status-checker{background-position:-252px -810px}.free_tool_box a:hover .social-status-checker{background-position:-252px -1980px}.free_tool_box .what-is-my-ip{background-position:-336px -810px}.free_tool_box a:hover .what-is-my-ip{background-position:-336px -1980px}.free_tool_box .ip-location{background-position:-420px -810px}.free_tool_box a:hover .ip-location{background-position:-420px -1980px}.free_tool_box .free-proxy-list{background-position:-504px -810px}.free_tool_box a:hover .free-proxy-list{background-position:-504px -1980px}.free_tool_box .domain-age-checker{background-position:-588px -810px}.free_tool_box a:hover .domain-age-checker{background-position:-588px -1980px}.free_tool_box .domain-authority-checker{background-position:-672px -810px}.free_tool_box a:hover .domain-authority-checker{background-position:-672px -1980px}.free_tool_box .domain-ip-lookup{background-position:-756px -810px}.free_tool_box a:hover .domain-ip-lookup{background-position:-756px -1980px}.free_tool_box .domain-hosting-checker{background-position:0 -900px}.free_tool_box a:hover .domain-hosting-checker{background-position:0 -2070px}.free_tool_box .find-dns-records{background-position:-84px -900px}.free_tool_box a:hover .find-dns-records{background-position:-84px -2070px}.free_tool_box .domain-name-search{background-position:-168px -900px}.free_tool_box a:hover .domain-name-search{background-position:-168px -2070px}.free_tool_box .domain-to-ip{background-position:-252px -900px}.free_tool_box a:hover .domain-to-ip{background-position:-252px -2070px}.free_tool_box .blacklist-lookup{background-position:-336px -900px}.free_tool_box a:hover .blacklist-lookup{background-position:-336px -2070px}.free_tool_box .expired-domains-tool{background-position:-420px -900px}.free_tool_box a:hover .expired-domains-tool{background-position:-420px -2070px}.free_tool_box .meta-tags-analyzer{background-position:-504px -900px}.free_tool_box a:hover .meta-tags-analyzer{background-position:-504px -2070px}.free_tool_box .meta-tag-generator{background-position:-588px -900px}.free_tool_box a:hover .meta-tag-generator{background-position:-588px -2070px}.free_tool_box .password-encryption-utility{background-position:-672px -900px}.free_tool_box a:hover .password-encryption-utility{background-position:-672px -2070px}.free_tool_box .password-strength-checker{background-position:-756px -900px}.free_tool_box a:hover .password-strength-checker{background-position:-756px -2070px}.free_tool_box .password-generator{background-position:0 -990px}.free_tool_box a:hover .password-generator{background-position:0 -2160px}.free_tool_box .merge-pdf{background-position:-84px -990px}.free_tool_box a:hover .merge-pdf{background-position:-84px -2160px}.free_tool_box .rotate-pdf{background-position:-168px -990px}.free_tool_box a:hover .rotate-pdf{background-position:-168px -2160px}.free_tool_box .unlock-pdf{background-position:-252px -990px}.free_tool_box a:hover .unlock-pdf{background-position:-252px -2160px}.free_tool_box .lock-pdf{background-position:-336px -990px}.free_tool_box a:hover .lock-pdf{background-position:-336px -2160px}.free_tool_box .add-watermark-to-pdf{background-position:-420px -990px}.free_tool_box a:hover .add-watermark-to-pdf{background-position:-420px -2160px}.free_tool_box .pdf-to-word-converter{background-position:-504px -990px}.free_tool_box a:hover .pdf-to-word-converter{background-position:-504px -2160px}.free_tool_box .docx-to-pdf{background-position:-588px -990px}.free_tool_box a:hover .docx-to-pdf{background-position:-588px -2160px}.free_tool_box .pdf-to-jpg{background-position:-672px -990px}.free_tool_box a:hover .pdf-to-jpg{background-position:-672px -2160px}.free_tool_box .jpg-to-pdf{background-position:-756px -990px}.free_tool_box a:hover .jpg-to-pdf{background-position:-756px -2160px}.free_tool_box .powerpoint-to-pdf{background-position:0 -1080px}.free_tool_box a:hover .powerpoint-to-pdf{background-position:0 -2250px}.free_tool_box .bulk-domains-rating{background-position:-84px -1080px}.free_tool_box a:hover .bulk-domains-rating{background-position:-84px -2250px}.free_tool_box .broken-backlinks-checker{background-position:-168px -1080px}.free_tool_box a:hover .broken-backlinks-checker{background-position:-168px -2250px}.free_tool_box .valuable-backlinks-checker{background-position:-252px -1080px}.free_tool_box a:hover .valuable-backlinks-checker{background-position:-252px -2250px}.free_tool_box .facebook-video-downloader{background-position:-588px -1080px}.free_tool_box a:hover .facebook-video-downloader{background-position:-588px -2250px}.free_tool_box .instagram-video-downloader{background-position:0 -2340px}.free_tool_box a:hover .instagram-video-downloader{background-position:0 -2430px}.free_tool_box .vimeo-video-downloader{background-position:-84px -2340px}.free_tool_box a:hover .vimeo-video-downloader{background-position:-84px -2430px}.free_tool_box .soundcloud-downloader{background-position:-168px -2340px}.free_tool_box a:hover .soundcloud-downloader{background-position:-168px -2430px}.free_tool_box .json-viewer{background-position:-420px -2340px}.free_tool_box a:hover .json-viewer{background-position:-420px -2430px}.free_tool_box .json-formatter{background-position:-672px -2340px}.free_tool_box a:hover .json-formatter{background-position:-672px -2430px}.free_tool_box .json-validator{background-position:-504px -2340px}.free_tool_box a:hover .json-validator{background-position:-504px -2430px}.free_tool_box .json-editor{background-position:-588px -2340px}.free_tool_box a:hover .json-editor{background-position:-588px -2430px}.free_tool_box .hex-to-decimal{background-position:-756px -2340px}.free_tool_box a:hover .hex-to-decimal{background-position:-756px -2430px}.free_tool_box .unit-converter{background-position:0 -2520px}.free_tool_box a:hover .unit-converter{background-position:0 -2610px}.free_tool_box .xml-validator{background-position:-84px -2520px}.free_tool_box a:hover .xml-validator{background-position:-84px -2610px}.free_tool_box .xml-formatter{background-position:-168px -2520px}.free_tool_box a:hover .xml-formatter{background-position:-168px -2610px}.free_tool_box .compress-pdf{background-position:-252px -2520px}.free_tool_box a:hover .compress-pdf{background-position:-252px -2610px}.free_tool_box .text-to-pdf{background-position:-336px -2520px}.free_tool_box a:hover .text-to-pdf{background-position:-336px -2610px}.free_tool_box .json-beautifier{background-position:0 -2700px}.free_tool_box a:hover .json-beautifier{background-position:-84px -2700px}.free_tool_box .json-to-xml{background-position:-168px -2700px}.free_tool_box a:hover .json-to-xml{background-position:-252px -2700px}.free_tool_box .temperature-conversion{background-position:-336px -2700px}.free_tool_box a:hover .temperature-conversion{background-position:-420px -2700px}.free_tool_box .time-converter{background-position:-504px -2700px}.free_tool_box a:hover .time-converter{background-position:-588px -2700px}.free_tool_box .area-converter{background-position:-672px -2700px}.free_tool_box a:hover .area-converter{background-position:-756px -2700px}.free_tool_box .weight-converter{background-position:0 -2790px}.free_tool_box a:hover .weight-converter{background-position:-84px -2790px}.free_tool_box .byte-converter{background-position:-168px -2790px}.free_tool_box a:hover .byte-converter{background-position:-252px -2790px}.free_tool_box .voltage-converter{background-position:-336px -2790px}.free_tool_box a:hover .voltage-converter{background-position:-420px -2790px}.free_tool_box .power-converter{background-position:-504px -2790px}.free_tool_box a:hover .power-converter{background-position:-588px -2790px}.free_tool_box .pressure-conversion{background-position:-672px -2790px}.free_tool_box a:hover .pressure-conversion{background-position:-756px -2790px}.free_tool_box .speed-converter{background-position:0 -2880px}.free_tool_box a:hover .speed-converter{background-position:-84px -2880px}.free_tool_box .volume-conversion{background-position:-168px -2880px}.free_tool_box a:hover .volume-conversion{background-position:-252px -2880px}.free_tool_box .torque-converter{background-position:-336px -2880px}.free_tool_box a:hover .torque-converter{background-position:-420px -2880px}.free_tool_box .excel-to-pdf{background-position:-504px -2880px}.free_tool_box a:hover .excel-to-pdf{background-position:-588px -2880px}.free_tool_box .pdf-to-excel{background-position:-672px -2880px}.free_tool_box a:hover .pdf-to-excel{background-position:-756px -2880px}.free_tool_box .split-pdf{background-position:0 -2970px}.free_tool_box a:hover .split-pdf{background-position:-84px -2970px}.free_tool_box .pdf-editor{background-position:-168px -2970px}.free_tool_box a:hover .pdf-editor{background-position:-252px -2970px}.free_tool_box .jpg-to-png{background-position:-336px -2970px}.free_tool_box a:hover .jpg-to-png{background-position:-420px -2970px}.free_tool_box .png-to-jpg{background-position:-504px -2970px}.free_tool_box a:hover .png-to-jpg{background-position:-588px -2970px}.free_tool_box .text-to-image{background-position:-672px -2970px}.free_tool_box a:hover .text-to-image{background-position:-756px -2970px}.free_tool_box .url-opener{background-position:0 -3060px}.free_tool_box a:hover .url-opener{background-position:-84px -3060px}.free_tool_box .binary-to-text{background-position:-168px -3060px}.free_tool_box a:hover .binary-to-text{background-position:-252px -3060px}.free_tool_box .text-to-binary{background-position:-336px -3060px}.free_tool_box a:hover .text-to-binary{background-position:-420px -3060px}.free_tool_box .binary-to-hex{background-position:-504px -3060px}.free_tool_box a:hover .binary-to-hex{background-position:-588px -3060px}.free_tool_box .hex-to-binary{background-position:-672px -3060px}.free_tool_box a:hover .hex-to-binary{background-position:-756px -3060px}.free_tool_box .binary-to-ascii{background-position:0 -3150px}.free_tool_box a:hover .binary-to-ascii{background-position:-84px -3150px}.free_tool_box .ascii-to-binary{background-position:-168px -3150px}.free_tool_box a:hover .ascii-to-binary{background-position:-252px -3150px}.free_tool_box .binary-to-decimal{background-position:-336px -3150px}.free_tool_box a:hover .binary-to-decimal{background-position:-420px -3150px}.free_tool_box .decimal-to-binary{background-position:-504px -3150px}.free_tool_box a:hover .decimal-to-binary{background-position:-588px -3150px}.free_tool_box .hex-to-string{background-position:-672px -3150px}.free_tool_box a:hover .hex-to-string{background-position:-756px -3150px}.free_tool_box .string-to-hex{background-position:0 -3240px}.free_tool_box a:hover .string-to-hex{background-position:-84px -3240px}.free_tool_box .text-to-ascii{background-position:-168px -3240px}.free_tool_box a:hover .text-to-ascii{background-position:-252px -3240px}.free_tool_box .ascii-to-text{background-position:-336px -3240px}.free_tool_box a:hover .ascii-to-text{background-position:-420px -3240px}.free_tool_box .hex-to-int{background-position:-504px -3240px}.free_tool_box a:hover .hex-to-int{background-position:-588px -3240px}.free_tool_box .int-to-hex{background-position:-672px -3240px}.free_tool_box a:hover .int-to-hex{background-position:-756px -3240px}.free_tool_box .word-art-generator{background-position:0 -3330px}.free_tool_box a:hover .word-art-generator{background-position:-84px -3330px}.free_tool_box .website-checker{background-position:-168px -3330px}.free_tool_box a:hover .website-checker{background-position:-252px -3330px}.free_tool_box .paid-keyword-finder{background-position:-336px -3330px}.free_tool_box a:hover .paid-keyword-finder{background-position:-420px -3330px}.free_tool_box .keyword-research{background-position:-504px -3330px}.free_tool_box a:hover .keyword-research{background-position:-588px -3330px}.free_tool_box .keyword-dificulty-checker{background-position:-672px -3330px}.free_tool_box a:hover .keyword-dificulty-checker{background-position:-756px -3330px}.free_tool_box .backlinks-competitors-checker{background-position:0 -3420px}.free_tool_box a:hover .backlinks-competitors-checker{background-position:-84px -3420px}.free_tool_box .index-page-checker{background-position:-168px -3420px}.free_tool_box a:hover .index-page-checker{background-position:-252px -3420px}.free_tool_box .anchor-text-distribution{background-position:-336px -3420px}.free_tool_box a:hover .anchor-text-distribution{background-position:-420px -3420px}.free_tool_box .text-to-hex{background-position:0 -3510px}.free_tool_box a:hover .text-to-hex{background-position:-84px -3510px}.free_tool_box .length-converter{background-position:-168px -3510px}.free_tool_box a:hover .length-converter{background-position:-252px -3510px}.limited_text{color:#505050;font-size:13px;margin:10px;margin-left:0;display:inline-block}.limited_text span{font-family:nunito_sansbold}.border{border:1px solid #e0e0e0}#LodeGif{position:fixed;top:0;right:0;left:0;bottom:0;background-color:rgba(235,235,235,.8);text-align:center;display:none;z-index:20;overflow:hidden}.LodeGif img{position:absolute;top:50%;left:50%;margin-top:-100px;margin-left:-100px}.check_textarea{resize:none;height:195px!important;width:100%;border:1px solid #e0e0e0;border-radius:5px;background:#fff;outline:none;padding:10px}.n_b-left{border-left:1px solid #e0e0e0!important}.n_b-bottom{border-bottom:1px solid #e0e0e0!important}.n_b-top{border-top:1px solid #e0e0e0!important}.n_b-right{border-right:1px solid #e0e0e0}.n_result_title_row{min-height:45px;background:#1e70b9;border-radius:5px 5px 0 0;margin-top:20px;display:table;width:100%}.n_res_title{color:#fff;display:table-cell;float:none;word-break:break-all;padding:10px;vertical-align:middle;font-size:13px;font-family:nunito_sansbold}.n_result_content_row{border:1px solid #ddd;background:#f9f9f9;min-height:45px;border-top:none;display:flex;border-radius:0!important;box-shadow:none;margin-bottom:0!important;width:100%}.n_res_con_title{color:gray;font-size:12px;display:table-cell;float:none;padding:10px;vertical-align:middle;word-break:break-all}.n_res_con_title .check_resbtn{font-size:11px;margin-bottom:0;padding:10px;color:#fff!important}.n_res_con_title a{color:gray;text-decoration:none}.bg_e8f4fe{background-color:#e8f4fe}.fff{color:#fff!important}.bg_f5faff{background-color:#f5faff}.bg_fff{background-color:#fff!important}.bg_f5f5f5{background-color:#f5f5f5}.bg_1e70b9{background-color:#1e70b9!important}.n_res_con_title .check_resbtn:hover{color:#fff!important}.search_drop_box{background:#fff;width:650px;min-height:100px;position:absolute;top:60px;z-index:10;border:1px solid #d7d7d7;right:0;padding:20px;display:none}.res_drop_icon{width:100%;display:block;text-align:center}.res_drop_icon:after{font-family:glyphicons halflings;content:\"\\e260\";color:#fff;font-size:14px;font-weight:700;float:none;background-color:#fff;border-radius:25px;border:1px solid #ea5050;color:#ea5050;padding:4px 5px}.res_drop_icon.collapsed:after{content:\"\\e259\";background-color:#ea5050;color:#fff}.res_drop_box{position:absolute;z-index:1;width:370px;right:-1px;background:#fff;margin-top:50px}.search_drop_box ul{padding-left:0!important}.search_drop_box li{list-style:none;width:180px;background:#f2f2f2;border-left:4px solid #ea5050;margin:10px;display:inline-flex}.search_drop_box li:hover{border-left:4px solid #1e70b9}.search_drop_box li a{color:#505050;display:block;text-align:left;text-decoration:none;padding:10px;width:180px;font-size:15px}.check_resbtn{background-color:#1e70b9;text-decoration:none;padding:15px 30px;font-size:16px;outline:none;color:#fff;border:none;border-radius:45px;box-shadow:0 2px #0c5595;margin-bottom:10px;display:inline-block;font-family:nunito_sansregular;cursor:pointer}.check_resbtn:hover{background:#1e70b9;text-decoration:none;opacity:.8;color:#fff}.rt_heading{border:1px solid #0c5595;background-color:#1e70b9;float:left;font-size:15px;font-family:nunito_sansbold;padding:3px 10px;color:#fff;margin-top:10px}.rt_box{border:1px solid #e0e0e0;display:block;padding:6px 8px;width:100%;float:left;background:#fff}.rt_box a{display:inline-block;padding-right:15px;background:#f2f2f2;color:#505050;font-family:nunito_sansbold;border-left:4px solid #0c5595;padding:3px 10px;font-size:12px;text-decoration:none;margin:6px}.accordion_box{margin-bottom:15px!important}.accordion_box:after{content:'';border-bottom:3px double #ddd;display:block;position:relative;top:5px}.accordion_box .panel-heading{background:no-repeat;padding:0}.acordion_link{display:block;padding:20px 31px 20px 15px;background:#fafafa;font-size:20px;color:#222!important;text-decoration:none;text-transform:uppercase;position:relative}.acordion_link span{font-family:nunito_sansbold}.acordion_link:hover,.acordion_link:focus{text-decoration:none}.color-fff{color:#fff}.ab-block-accordion{position:relative}.accordion_box .acordion_link:after,details:after{font-family:glyphicons halflings;content:\"\\e260\";float:right;color:#aaa;position:absolute;right:8px;top:33%}details:after{top:27px}details summary::-webkit-details-marker{display:none}.accordion_box .acordion_link.collapsed:after,details[open]:after{content:\"\\e259\"}.acordion_body li,.acordion_body p{color:#505050;font-size:16px}.acordion_body strong{font-weight:500;font-family:nunito_sansbold}.acordion_body a{font-weight:500;font-family:nunito_sansbold;color:#1e70b9}.lst_none li{list-style:none}.dpn{display:none!important}.text_red{color:#ea5050!important}.f_description_bg{background:#1c1c1c}.f_description_bg .f_graph{min-height:395px;background-repeat:no-repeat;background-position:bottom right;padding-top:80px}.contect_info{margin-bottom:10px}.f_logo_box p{color:#fff;line-height:25px;text-align:left;font-family:nunito_sansbold}.f_contect span{color:#848484;font-size:15px;text-align:left;display:block}.responser{overflow:hidden;padding:10px 0;clear:both;text-align:left}.responser img{width:50%;height:30px}.f_version{min-height:230px}.lef_to_right_border{border-right:1px solid #313131;border-left:1px solid #313131}.f_version p{text-align:center;color:#fff;font-family:nunito_sansbold;letter-spacing:1px;text-transform:uppercase}.f_version a{outline:none!important;display:inline-block}.f_version .ver_img{background:url(https://smallseotools.com/asets/images/v-icons.png?49510) no-repeat;width:56px;height:62px;margin:0 5px;display:inline-block;background-size:280px 124px}.f_version .f-api{background-position:0 0}.f_version .f-apple{background-position:-56px 0}.f_version .f-androaid{background-position:-112px 0}.f_version .f-desktop{background-position:-168px 0}.f_version .f-wordpress{background-position:-224px 0}.f_version .f-api:hover{background-position:0 -62px}.f_version .f-apple:hover{background-position:-56px -62px}.f_version .f-androaid:hover{background-position:-112px -62px}.f_version .f-desktop:hover{background-position:-168px -62px}.f_version .f-wordpress:hover{background-position:-224px -62px}.f_contect{padding-left:30px}.mor_pages{padding-left:30px}.mor_pages li{list-style:none;margin-bottom:9px;position:relative;text-align:left}.mor_pages li a{color:#848484;cursor:pointer;text-decoration:none}.mor_pages li a:hover,.footer a:hover{color:#ea5050}.mor_pages li:after{content:'';border-top:4px solid transparent;border-left:6px solid #848484;border-bottom:4px solid transparent;height:0;position:absolute;left:-15px;top:6px}.asseenon_bg{background:url(https://smallseotools.com/asets/images/as-seen-bg@2x.png) no-repeat top center;background-size:cover;padding-bottom:20px}.asseenon_bg .tool_heading{margin-bottom:10px}.asseenon_bg .tool_heading h2{margin-bottom:0}.inerasseen{padding-top:4%}.as_seen_box a{background-image:url(https://smallseotools.com/asets/images/as-seen-on@2x.png);background-size:1200px 432px;display:inline-block;min-width:200px;max-width:200px;min-height:107px;max-height:107px;margin-right:-7px;margin-bottom:-7px}.aso1{background-position:0 0}.aso1:hover{background-position:0 -108px}.aso2{background-position:-200px 0}.aso2:hover{background-position:-200px -108px}.aso3{background-position:-400px 0}.aso3:hover{background-position:-400px -108px}.aso4{background-position:600px 0}.aso4:hover{background-position:600px -108px}.aso5{background-position:400px 0}.aso5:hover{background-position:400px -108px}.aso6{background-position:200px -1px}.aso6:hover{background-position:200px -109px}.aso7{background-position:0 -217px}.aso7:hover{background-position:0 107px}.aso8{background-position:-200px -217px}.aso8:hover{background-position:-200px 107px}.aso9{background-position:-400px -217px}.aso9:hover{background-position:-400px 107px}.aso10{background-position:600px -217px}.aso10:hover{background-position:600px 107px}.aso11{background-position:399px -218px}.aso11:hover{background-position:399px 106px}.aso12{background-position:199px -218px}.aso12:hover{background-position:199px 106px}.as_seen_box .aso13{background-image:url(https://smallseotools.com/asets/images/semrush_asob.svg);display:inline-block;min-width:197px;max-width:197px;min-height:105px;max-height:107px;margin-right:-6px;margin-bottom:-5px;background-size:100px 100px;background-color:#fff;background-repeat:no-repeat;background-position:center;border:1px solid #dfdfdf;cursor:pointer;border-top:none;margin-top:1px}.as_seen_box .aso13:hover{background-image:url(https://smallseotools.com/asets/images/semrush_asoc.svg)}.footer{float:left;width:100%;border-top:1px solid #313131;background-color:#1c1c1c;padding:10px}.footer p{font-size:13px;color:#848484}.footer a,.mor_pages li a{color:#848484;cursor:pointer;font-size:15px;word-break:break-word}#pushtopl{display:none;position:fixed;bottom:1rem;right:1rem;width:3.2rem;height:3.2rem;line-height:2.8rem;font-size:1.4rem;color:#fff;background-color:rgba(0,0,0,.3);text-decoration:none;border-radius:3.2rem;text-align:center;cursor:pointer;z-index:10000}.grecaptcha-badge{display:none}.adds_banner{text-align:center;margin:15px 0}.clr-txt{position:absolute;right:0!important;bottom:0;border-bottom-right-radius:9px;cursor:pointer}.mn{margin:0!important}.relative{position:relative}.copy_st{cursor:pointer;font-size:18px}.sidebar-wrpper .ads{position:relative}.sidebar-wrpper .ads .android{position:absolute;display:block;width:115px;height:40px;bottom:25px;left:25px}.sidebar-wrpper .ads .iphone{position:absolute;display:block;width:115px;height:40px;bottom:25px;right:22px}#sidebar .ads{padding-bottom:10px}.pic_square1{background-image:url(https://smallseotools.com/hun_pharo1.gif);width:300px;height:250px;display:inline-block;background-repeat:no-repeat}.sidebar_adds.box_shadow_border{padding:5px!important}#cookie-bar{background-color:rgba(20,20,20,.8);min-height:26px;color:#ccc;line-height:26px;padding:10px 20px 0;position:fixed;bottom:0;left:0;right:0;display:block;z-index:9999;text-align:center}#cookie-bar p{font-size:13px}#cookie-bar a{text-decoration:none;line-height:1.5;padding:5px 20px;float:none;margin-left:12px;cursor:pointer;outline:0;border:none;letter-spacing:.5px;min-width:90px;border-radius:3px;background:#fff;color:#3a3a3a;opacity:1}.BugReport-icon{position:fixed;bottom:1rem;right:5rem;width:3.2rem;height:3.2rem;line-height:2.8rem;font-size:1.4rem;color:#fff;background-color:rgba(0,0,0,.3);text-decoration:none;border-radius:3.2rem;text-align:center;cursor:pointer;z-index:10000}.BugReport{position:relative;display:none}.BugReport .bugoverlay{background-color:rgba(235,235,235,.8);top:0;right:0;left:0;bottom:0;position:fixed;z-index:10001}#BugReport .Bform{font-size:18px;border-radius:5px;overflow:hidden}#BugReport .topBhead{padding:15px 10px;border-top-left-radius:5px;border-top-right-radius:5px;text-align:center;color:#fff;background-color:#1e70b9}#BugReport .ReportArea{background-color:#fff}#BugReport .plr{padding-left:20px;padding-right:20px}#BugReport .LinkArea{padding-top:15px;padding-bottom:20px}#BugReport .LinkArea{border-bottom:1px solid #ebebeb}#BugReport .LinkArea span{font-size:20px;font-weight:700}#BugReport .LinkArea small{font-weight:700}#BugReport .labheading{padding-top:10px;color:#222;font-size:15px}#BugReport .buginput{margin-top:5px;border:1px solid #f0f0f0;background-color:#fbfbfb;resize:none}#BugReport .LinkArea small{font-size:76%}#BugReport .button_box .check_button{background-color:#1e70b9!important;text-decoration:none}#BugReport .nimg_input_addon{border-radius:24px 0 0 24px;color:#fff;border:none;background:#1e70b9;padding:10px 20px;font-size:15px;width:auto;line-height:25px;cursor:pointer}#BugReport .nimg_input_style{height:45px;border:1px solid #e9e9e9;border-radius:0 24px 24px 0;white-space:nowrap;text-overflow:ellipsis;background-color:#fff!important;padding:5px 10px;font-size:12px;overflow:hidden;text-align:left}#BugReport .nimg_input_box{display:inline-flex;width:100%;margin-bottom:10px}#BugReport .bug_modal{z-index:99999}#BugReport .check_resbtn{background-color:#1e70b9;text-decoration:none;padding:15px 30px;font-size:16px;outline:none;color:#fff;border:none;border-radius:45px;box-shadow:0 2px #0c5595;margin-bottom:10px;display:inline-block;font-family:nunito_sansregular;cursor:pointer}.st_sidebar{top:0;width:310px;margin:0 auto;padding:5px}.active_sidebar{position:fixed}.drop-butn button,.drop-butn button:hover,.drop-butn button:active,.drop-butn button:after{background-color:transparent!important;color:grey!important;border:none!important}.drop-butn button span{font-size:20px}.drop-butn .dropdown-menu{min-width:280px!important;padding:0}.drop-butn .dropdown-menu .dropdown-item{display:block}.main-noti-section{padding:10px!important;background:#f8f8f8}.main-noti-section .noti-heading{font-family:nunito_sansbold;font-size:13px}.main-noti-section a{color:#222;display:inline-block;float:right;font-size:12px}.notification-link .main-noti{padding:10px 0!important;border-top:1px solid #e6e6e6}.notification-link{color:#222!important}.notification-link img{width:41px;border-radius:20px;height:41px}.show-all-notification{padding:10px 0;border-top:1px solid #d9d9d9;text-align:center;font-family:nunito_sansbold;font-size:13px}.show-all-notification a{color:#5d5d5d}.notification-dot{height:8px;border:1px solid #fff;width:8px;background:#ed4441;position:absolute;right:13px;z-index:10000;border-radius:20px;top:8px}.drop-butn .btn_notify,.drop-butn .btn_notify.btn_notify_act:hover{background-color:#1e70b9!important;color:#fff!important;border-radius:55px;padding:6px 13px;margin-top:4px;margin-left:7px!important}.drop-butn .btn_notify.btn_notify_act,.drop-butn .btn_notify:hover{background-color:#ea5050!important;color:#fff!important}.drop-butn button span{font-size:18px;margin-top:4px}.drop-butn .btn_notify.btn_notify_act:after{content:'1';position:absolute;background-color:#fff!important;display:block;width:20px;height:20px;color:#ea5050!important;border:1px solid #ea5050!important;border-radius:25px;font-size:14px;font-family:nunito_sansbold;top:-5px;right:-7px}.notify_img{background:url(https://smallseotools.com/asets/images/sepratesheet_notification.png) no-repeat;background-size:200px auto;margin:8px 0 0 5px;width:41px!important;height:41px!important;vertical-align:middle;border-radius:20px;display:inline-block}.notify_annocement{background-position:-5px center}.notify_add_new{background-position:-55px center}.notify_update{background-position:-104px center}.notify_general{background-position:-155px center}[onclick*=pushEventVal] img{margin:0 auto}.lang_drop_sty{width:100%;height:100%;background:0 0;position:absolute}.add_lang_drop_sty{background:#0b0b0b9c;z-index:11}.n_add_lang_drop_sty{background:#0b0b0b9c;z-index:1}.right_link .lang_drop{color:#fff;border-right:1px solid #3d87c8;display:inline-block;padding:8px;font-size:13px;cursor:pointer}.right_link .ml10{margin-left:10px}.right_link .mr5{margin-right:5px}.right_link .lang_drop:hover .lang_hover{display:block}.right_link .lang_drop:hover body{background:#222}.right_link .lang_hover{display:none;width:195px;background:#fff;position:absolute;z-index:111;top:33px;border-radius:4px;padding:15px;right:0}.right_link .lang_hover:after{content:\"\\e253\";font-family:glyphicons halflings;color:#fff;position:absolute;top:-12px;right:14px}.right_link .main_lang{display:flex;height:25px}.right_link .main_lang:hover .main_lang_c,.right_link .main_lang .active.main_lang_c{background:green}.right_link .main_lang_b{width:15px;height:15px;border:1px solid gray;border-radius:10px;padding:3px;float:left;margin-right:10px}.right_link .main_lang_c{width:7px;height:7px;border-radius:10px}.right_link .main_lang_con{color:#505050}.right_link .lang_hover a{color:#505050;padding:0;font-size:13px;line-height:16px;border:none;display:block;float:left;width:100%;text-align:left;border-right:none!important}.right_link .lang_hover a:hover{color:#505050;background-color:transparent}.dropdown-menu .dropdown-item{overflow:hidden;width:100%;padding:0 15px!important;margin-top:0!important;border-radius:0!important}.in_b{display:inline-block!important;margin-top:0!important}.check_resbtn:focus{outline:none;text-decoration:none;color:#fff}.searchbar{padding:4px 20px}.searchbar:after{content:\"\\e003\";font-family:glyphicons halflings;width:30px;height:30px;color:#000;display:block;position:absolute;right:3px;top:10px;font-size:20px;cursor:pointer}.roshu_test{position:relative}.roshu_test:after{content:'';display:block;width:100%;height:100%;top:0;position:absolute;left:0;z-index:10}.f_intro_bg{background:#0162b8;padding:35px 10px;overflow:hidden}.f_intro_bg .input-group{width:85%;margin:0 auto}.f_intro_bg .navbar-form{width:1010px;margin:0 auto!important;padding:0;display:table}.f_intro_bg .f_icon{float:left;margin-right:10px}.f_intro_bg .f_text{color:#fff;font-size:18px;float:left;line-height:30px;text-align:left;letter-spacing:.8px;margin:0 10px;text-transform:uppercase;font-family:nunito_sansbold}.f_intro_bg .search_input{height:65px;width:335px!important;border-radius:100px 0 0 100px!important;border-right:none;padding-left:30px!important;font-family:nunito_sansregular}.f_intro_bg .input-group-btn{width:1px}.f_intro_bg .dtc{float:none;display:table-cell;vertical-align:middle}.f_intro_bg .search_button{font-family:nunito_sansbold;z-index:4!important;border-radius:100px!important;background:#c34646;margin-left:-55px!important;border:1px solid #c34646;width:150px;height:65px;font-size:15px;color:#fff;text-transform:uppercase;outline:0!important;padding:5px 14px}@media screen and (max-width:991px) and (min-width:768px){header .navigation_container .container{width:auto}header .navigation_container .navbar-right li a{padding-left:12px;padding-right:12px}#HeadSearch .search_dots_section{margin-bottom:6px}}@media only screen and (max-width:990px){#main_content,#sidebar,.main-content{padding:0 20px}.f_logo_box,.f_version{margin-bottom:20px}.f_intro_bg .f_text{margin:20px 0;text-align:center;float:none;display:inline-block;width:100%}.f_intro_bg .navbar-form{width:96%;text-align:center;border:none;box-shadow:none;overflow:hidden}.f_intro_bg .f_icon{float:none;display:inline-block;margin:0}.f_intro_bg .input-group{display:inline-flex;align-items:center;justify-content:center}.f_intro_bg .search_input{width:335px!important;height:52px!important}.f_intro_bg .input-group-btn{display:inline-block;width:20%}.f_intro_bg .search_button{float:none;display:inline-block;width:115px;height:52px}.f_logo_box .navbar-brand img{display:inline-block}.f_contect{height:auto}.lef_to_right_border{border:none}.or_seprator{top:45%}}.search_dots_section{background-color:#f8f8f8}.search_dots_section input{border:none;box-shadow:none;border-radius:32px 0 0 30px;background:#fbfbfb;border:1px solid #eee}.search_dots_section button{background:#1e70b9;color:#fff;border-radius:0 30px 30px 0;outline:none!important}.search_dots_section button:before{content:'';width:0;border-bottom:8px solid transparent;border-right:8px solid #1e70b9;border-top:8px solid transparent;position:absolute;content:\"\";top:27%;left:-9px}.search-resultsbar .match{display:block;line-height:36px;border-bottom:1px solid #ccc;padding:0 15px}.search-resultsbar .match a{display:block}.search-resultsbar .match a:focus{color:#337ab7}@media only screen and (max-width:767px){.tool_area_banner{background:inherit}.top_b_home .search_box,.top_b_home .search_drop_box{width:80%}.app_link_box{margin-top:30px}.app_link_box:before{content:'Download Our App';position:absolute;top:-20px;left:0;right:0;font-size:15px;color:#505050;letter-spacing:1px}.top_nav,.top_nav .container{padding:0}.top_sst_logo{margin-left:10px}.right_link{width:100%}.right_link a{width:50%;text-align:center;border-left:none}.lang_drop{width:50%;text-align:center;border-right:none!important}.right_link a:last-child{border-right:none!important}.mob_center{text-align:center!important}.mob_hide{display:none!important}.mob_show{display:block!important}.mob_show_inline{display:inline-block!important}.navbar-inverse .navbar-toggle{border:none;background:0 0!important;right:30px;cursor:pointer}.toggle_search_icon{float:right;position:relative;right:-40px;top:14px;cursor:pointer}.toggle_search_icon .glyphicon{font-size:20px;color:#10814b}.navbar-inverse .navbar-toggle .icon-bar{background-color:#1e70b9}#main_content,#sidebar,.main-content{padding:0 10px}.navigation_container .navbar-right li a{text-align:left}.navigation_container .navbar-right li a:hover,.navigation_container .navbar-right .active a{background:#ea5050!important;color:#fff!important;border-radius:0;padding:10px 15px;display:block;margin-top:0}#HeadSearch{padding:0 35px;margin-bottom:10px;display:none}#HeadSearch .search-resultsbar{background:#fff;border-radius:10px;display:none;padding:0 0}.doted_br_hide{border:none;background:no-repeat;margin-left:-11px;margin-right:-11px}.responser img{width:200px}.or_seprator{top:45%}.doted_br_show{border:dashed 1.5px #ccc;background:#fbfbfb;padding:11px!important;margin-bottom:10px}.free_tool_box{width:138px;margin:0}.latest_blog_area .innerpare{min-height:150px}#rvtools{padding:0}.mob_pading{padding:0!important}.f_description_bg .f_graph{padding-top:30px}.contect_info,.address_info{display:inline-block;float:none;margin-bottom:15px}.contect_info p,.address_info p{font-size:18px;color:#fff}.contect_info span,.address_info span{color:#848484;font-size:15px}.f_description_bg .f_graph{background-position:bottom left;height:auto}.f_contect{border-left:none!important}.mor_pages{margin-left:100px;width:300px;margin:0 auto;text-align:center;margin-top:-70px}.mor_pages li{text-align:left;list-style:none;margin-bottom:9px;position:relative;width:150px;float:left;left:20px}.f_logo_box{padding:0}.f_logo_box .external{width:100%;text-align:center;display:block}.f_contect{padding:0!important}.f_contect .br{display:none}.footer{position:absolute;bottom:5px;background:0 0;margin:0 auto;float:none}.mob_hide_text{display:none}#accordion{padding:10px}.acordion_link{padding:15px 25px 10px;padding-left:7px;font-size:11px;text-transform:capitalize}.acordion_body li,.acordion_body p{font-size:13px}.accordion_box .acordion_link:after{top:40%}.f_logo_box .navbar-brand{text-align:center;margin:0 auto;margin-bottom:20px;display:block;width:180px;float:none}.f_logo_box p{text-align:center}.f_logo_box span{text-align:center}.responser{text-align:center}.mor_pages{padding-left:0}.mob_flex{display:flex!important}#new,#old{top:-30px}.vote_counter{margin-top:50px}.marg_b20{margin-bottom:20px}#favicon_generator .max_size_text{padding-right:20px}#img_resizer .img_input_box{width:95%;margin-top:20px}#cookie-bar a{display:block;width:137px;margin:0 auto;margin-top:10px}#sidebar{margin:0 auto;overflow:hidden;float:none!important}.dropdown-menu .main-noti-section{margin-top:4px;display:inline-block;margin-left:10px}.model-box{width:300px;margin:0 auto;left:0;right:0}.f_intro_bg .dtc{display:block}.f_intro_bg .equally_centralized{display:block!important}.f_intro_bg .search_input{width:100%!important;margin-left:0;border-radius:24px!important;margin-bottom:10px;text-align:center}.f_intro_bg .input-group{display:block;width:100%}.f_intro_bg .input-group-btn{width:100%!important}.f_intro_bg .search_button{margin-left:0!important;width:150px}}@media(min-width:768px){#BugReport .bug_modal .modal-dialog{width:495px;margin:30px auto}}.collapse.in{display:block!important}@media only screen and (max-width:1200px) and (min-width:1024px){#main_content,.main-content{width:640px}}@media only screen and (max-width:985px) and (min-width:768px){.navigation_container .navbar-right li a{font-size:12px}}@media only screen and (max-width:1024px){#main_content,.main-content{width:100%}#sidebar{width:100%;float:left;margin-bottom:15px}.sidebar_adds .ads{width:300px;background-color:#f7f7f7;margin:0 auto;height:auto;display:block;margin-bottom:19px}}@media only screen and (max-width:400px){.f_description_bg .f_graph{height:auto}.f_graph .mor_pages{margin-left:100px;width:300px;margin:0 auto;text-align:center;margin-top:0;height:290px;float:left}}@media only screen and (max-width:460px){.input_lable{text-align:center}.dropbox{display:block;text-align:center}.dropbox_style{display:inline-block}.google-drive{display:block;text-align:center;margin-top:10px}.img_input_box{width:100%}.mor_pages li{width:112px;float:none;display:inline-flex}.tool_area_banner{padding:0}#main_content,.main-content{padding:0}.asseenon_bg{background:#f2f2f2}.as_seen_box a{background-image:url(https://smallseotools.com/asets/images/aseenmob.png?10292);background-size:283px 900px;background-repeat:no-repeat;min-width:141px!important;min-height:75px!important;overflow:hidden}.aso1{background-position:0 0}.aso1:hover{background-position:0 -75px}.aso2{background-position:-141px 0}.aso2:hover{background-position:-141px -75px}.aso3{background-position:0 -150px}.aso3:hover{background-position:0 -225px}.aso4{background-position:-141px -150px}.aso4:hover{background-position:-141px -225px}.aso5{background-position:0 -300px}.aso5:hover{background-position:0 -375px}.aso6{background-position:-141px -300px}.aso6:hover{background-position:-141px -375px}.aso7{background-position:0 -450px}.aso7:hover{background-position:0 -525px}.aso8{background-position:-141px -450px}.aso8:hover{background-position:-141px -525px}.aso9{background-position:0 -600px}.aso9:hover{background-position:0 -675px}.aso10{background-position:-141px -600px}.aso10:hover{background-position:-141px -675px}.aso11{background-position:0 -750px}.aso11:hover{background-position:0 -825px}.aso12{background-position:-141px -750px}.aso12:hover{background-position:-141px -825px}}.clearfix{clear:both}</style>\n",
              "<script type=\"text/javascript\">\n",
              "var banner_popup_show='<a href=\"https://www.grammarly.com/?q=grammar&utm_source=placement&utm_medium=cpc&utm_content=sst_Popup2&utm_term=smallseotools\" title=\"\"><img src=\"https://smallseotools.com/over.png\" alt=\"\"/></a>';</script>\n",
              "<script type=\"text/javascript\">\n",
              "     (function(m,e,t,r,i,k,a){m[i]=m[i]||function(){(m[i].a=m[i].a||[]).push(arguments)};\n",
              "     m[i].l=1*new Date();k=e.createElement(t),a=e.getElementsByTagName(t)[0],k.async=1,k.src=r,a.parentNode.insertBefore(k,a)})\n",
              "     (window, document, \"script\", \"https://mc.yandex.ru/metrika/tag.js\", \"ym\");\n",
              "\n",
              "     ym(57002965, \"init\", {\n",
              "          clickmap:true,\n",
              "          trackLinks:true,\n",
              "          accurateTrackBounce:true,\n",
              "          webvisor:true\n",
              "     });\n",
              "  </script>\n",
              "<noscript><div><img alt=\"\" src=\"https://mc.yandex.ru/watch/57002965\" style=\"position:absolute; left:-9999px;\"/></div></noscript>\n",
              "<style>.ha_love_wraper{text-align:center;margin:15px 0px;}.love_code{width:100%;display:block;text-align:center;margin:10px 0px;overflow:hidden;}.love_code span{display:block}.button_box{clear:both;}.pic{background-image:url(https://smallseotools.com/teriiii_.png);width:730px;height:100px;display:inline-block;background-repeat:no-repeat;background-position:center;background-size:730px 100px;}.pic1{background-image:url(https://smallseotools.com/teriiii_1.png);width:730px;height:100px;display:inline-block;background-repeat:no-repeat;background-position:center;background-size:728px 90px;}.pic2{background-image:url(https://smallseotools.com/teriiii_2.png);width:730px;height:100px;display:inline-block;background-repeat:no-repeat;background-position:center;background-size:728px 90px;}.pic3{background-image:url(https://smallseotools.com/teriiii_3.png);width:730px;height:100px;display:inline-block;background-repeat:no-repeat;background-position:center;background-size:730px 100px;}.pic4{background-image:url(https://smallseotools.com/teriiii_4.gif);width:730px;height:100px;display:inline-block;background-repeat:no-repeat;background-position:center;background-size:728px 90px;}.pic5{background-image:url(https://smallseotools.com/teriiii_.png);width:730px;height:100px;display:inline-block;background-repeat:no-repeat;background-position:center;}.pic_square{background-image:url(https://smallseotools.com/teriiii_.gif);width:100%;height:250px;display:inline-block;background-repeat:no-repeat;}@media (max-width : 990px){.pic,.pic1,.pic2,.pic3,.pic4,.pic5{width:100%;background-size:contain;}}@media (min-width : 1025px) and (max-width : 1200px) {.pic,.pic1,.pic2,.pic3,.pic4,.pic5{width:100%;background-size:contain;}}@media (max-width : 600px){.pic,.pic2,.pic5{background-image:url(https://smallseotools.com/teriiii_.gif);width:100%;height:250px;}.pic1,.pic3,.pic4{background-image:url(https://smallseotools.com/teriiii_1.gif);width:100%;height:250px;}}@media only screen and (max-width:640px){.free_tool_box.da_link{width:100% !important;float:none}.category_box .adds_box{width:100%;margin-bottom:15px;}.category_box .adds_box div:first-child{margin-left:0!important}.category_box .free_tool_box{width:50%;display:inline-block;padding-right:10px;padding-left:10px}.pic_square{width:100%;height:300px;background-size:100% auto;}.after_check_mobile{height:280px;}}\n",
              "        #sidebar .pic1,#sidebar .pic3,#sidebar .pic4{background-image:url(https://smallseotools.com/teriiii_1.gif);width:100%;height:250px;background-size:contain;}\n",
              "        #sidebar .pic,#sidebar .pic2,#sidebar .pic5{background-image:url(https://smallseotools.com/teriiii_.gif);width:100%;height:250px;background-size:contain;}\n",
              "        \n",
              "        .error-popup-box{\n",
              "            width: 100%;\n",
              "            height: 100%;\n",
              "            background: #303030d9;\n",
              "            display: none;\n",
              "            position: absolute;\n",
              "            z-index: 100031;\n",
              "            position:fixed;\n",
              "        }\n",
              "        .error-popup{\n",
              "            display: block;\n",
              "            padding: 0px;\n",
              "            border: none;\n",
              "            border-radius: 0px;\n",
              "            background: transparent;\n",
              "            width: 550px;\n",
              "        }\n",
              "        .error-popup .heading {\n",
              "            background: url(https://smallseotools.com/asets/images/error-popup.png);\n",
              "            height: 160px;\n",
              "            /*background-size: cover;*/\n",
              "            background-size: auto;\n",
              "            background-position: center;\n",
              "        }\n",
              "        .error-popup .model_body{\n",
              "            min-height: 120px;\n",
              "            background: #fff;\n",
              "            padding: 30px;\n",
              "        }\n",
              "        .error-popup .error_type{\n",
              "            font-family: 'nunito_sansbold';\n",
              "            text-align: center;\n",
              "            font-size: 25px;\n",
              "            color: #222222;\n",
              "        }\n",
              "        .error-popup .error_type_desc{\n",
              "            text-align: center;\n",
              "            font-size: 17px;\n",
              "            color: #222222;\n",
              "        }\n",
              "        .error-popup .model_footer{\n",
              "            background: #fff;\n",
              "            height: 100px;\n",
              "            display: inline-block;\n",
              "            text-align: center;\n",
              "        }\n",
              "        .error-popup .model_footer .btn-danger{\n",
              "            color: #fff;\n",
              "            background: #d71818;\n",
              "            font-family: 'nunito_sansbold';\n",
              "            font-size: 17px;\n",
              "            padding: 10px 60px;\n",
              "            border-radius: 50px;\n",
              "            float: none !important;\n",
              "        }\n",
              "        @media (max-width:600px){\n",
              "            .error-popup{\n",
              "                width: 90%;\n",
              "                left: 0px;\n",
              "                margin: 0px auto;\n",
              "                right: 0px;\n",
              "            }\n",
              "        }\n",
              "@font-face {\n",
              " font-family: 'googlesans';\n",
              " font-display: swap;\n",
              " src: local('googlesans'), url(https://fonts.gstatic.com/s/googlesans/v14/4UaGrENHsxJlGDuGo1OIlL3Owp4.woff2) format('woff2');\n",
              "}\n",
              "@font-face {\n",
              " font-family: 'googlesans';\n",
              " font-display: swap;\n",
              " src: local('googlesans'), url(https://fonts.gstatic.com/s/googlesans/v14/4UabrENHsxJlGDuGo1OIlLU94YtzCwY.woff2) format('woff2');\n",
              "}\n",
              "@font-face {\n",
              " font-family: 'googlesans';\n",
              " font-display: swap;\n",
              " src: local('googlesans'), url(https://fonts.gstatic.com/s/googlesans/v14/4UaGrENHsxJlGDuGo1OIlL3Owp5eKQtG.woff2) format('woff2');\n",
              "}\n",
              "@font-face {\n",
              " font-family: 'roboto';\n",
              " font-display: swap;\n",
              " src: local('roboto'), url(https://fonts.gstatic.com/s/roboto/v19/KFOlCnqEu92Fr1MmSU5fBBc4AMP6lQ.woff2) format('woff2');\n",
              "}\n",
              "@font-face {\n",
              " font-family: 'roboto';\n",
              " font-display: swap;\n",
              " src: local('roboto'), url(https://fonts.gstatic.com/s/roboto/v19/KFOlCnqEu92Fr1MmEU9fBBc4.woff2) format('woff2');\n",
              "}\n",
              "@font-face {\n",
              " font-family: 'roboto';\n",
              " font-display: swap;\n",
              " src: local('roboto'), url(https://fonts.gstatic.com/s/roboto/v19/KFOmCnqEu92Fr1Mu4mxK.woff2) format('woff2');\n",
              "}\n",
              "@font-face {\n",
              " font-family: 'roboto';\n",
              " font-display: swap;\n",
              " src: local('roboto'), url(https://fonts.gstatic.com/s/roboto/v19/KFOlCnqEu92Fr1MmEU9fBBc4AMP6lQ.woff2) format('woff2');\n",
              "}\n",
              ".plag_improved{position:relative;}\n",
              ".navigation_container .navbar-right li.plag_improved a{background:#f5f5f5 !important;color:#000 !important;}\n",
              ".plag_improved sup {\n",
              "    background: #e2373f;\n",
              "    color: #fff;\n",
              "    position: absolute;\n",
              "    top: -12px;\n",
              "    text-align: center;\n",
              "    display: inline-block;\n",
              "    line-height: normal;\n",
              "    font-size: 11px;\n",
              "    font-family: arial;\n",
              "    border: 1px solid #fff;\n",
              "    right: 0px;\n",
              "    padding: 4px 11px;\n",
              "    border-radius: 40px;\n",
              "}\n",
              ".plag_improved_badge {\n",
              "    background: #e2373f;\n",
              "    color: #fff;\n",
              "    font-size: 11px;\n",
              "    border-radius: 30px;\n",
              "    padding: 4px 11px;\n",
              "    display: inline-block;\n",
              "    position: relative;\n",
              "    top: -1px;\n",
              "}\n",
              ".plag_improved_badge_home{\n",
              "    position: absolute;\n",
              "    top: 6px;\n",
              "    right: 10px;\n",
              "    font-size: 11px;\n",
              "    font-weight: normal;\n",
              "    padding: 4px 8px;\n",
              "    border: #fff 2px solid;\n",
              "}\n",
              "div#sidebar .plag_improved_badge{\n",
              "    right: -4px;\n",
              "    font-weight: normal;\n",
              "    padding: 2px 6px;\n",
              "    font-size: 10px;\n",
              "}\n",
              ".crona_alert{\n",
              "    background: #FFD5D7;\n",
              "    padding: 10px;\n",
              "    font-size: 16px;\n",
              "    color: #000;\n",
              "    font-weight: 700;\n",
              "    text-align: center;\n",
              "    margin-bottom: 10px;\n",
              "}\n",
              ".crona_alert p{\n",
              "    margin: 0px;\n",
              "}\n",
              ".crona_alert p strong{\n",
              "    background: #D3464D;\n",
              "    color: #fff;\n",
              "    padding: 7px 10px;\n",
              "    border-radius: 28px;\n",
              "    margin-left: 12px;\n",
              "    display:inline-block;\n",
              "}\n",
              "</style>\n",
              "<script data-cfasync=\"false\" type=\"text/javascript\">(function(w, d) { var s = d.createElement('script'); s.src = '//cdn.adpushup.com/41163/adpushup.js'; s.type = 'text/javascript'; s.async = true; (d.getElementsByTagName('head')[0] || d.getElementsByTagName('body')[0]).appendChild(s); })(window, document);</script>\n",
              "</head>\n",
              "<body>\n",
              "<noscript><iframe height=\"0\" src=\"https://www.googletagmanager.com/ns.html?id=GTM-NX2MHLX\" style=\"display:none;visibility:hidden\" width=\"0\"></iframe></noscript>\n",
              "<div class=\"error-popup-box\">\n",
              "<div class=\"model-bg\"></div>\n",
              "<div class=\"model-box error-popup\">\n",
              "<div class=\"heading\">\n",
              "</div>\n",
              "<div class=\"model_body\">\n",
              "<div class=\"error_type\"></div>\n",
              "<div class=\"error_type_desc\"></div>\n",
              "</div>\n",
              "<div class=\"model_footer\">\n",
              "<span class=\"btn btn-danger close-model pull-right\" onclick=\"removeError()\">Close</span>\n",
              "</div>\n",
              "</div>\n",
              "</div>\n",
              "<header>\n",
              "<div class=\"container-fluid top_nav\">\n",
              "<div class=\"container pn\">\n",
              "<div class=\"col-md-12 pn\">\n",
              "<div class=\"row mn\">\n",
              "<div class=\"col-md-6 mob_hide\">\n",
              "<div class=\"left_link\">\n",
              "<a class=\"top_social_link top_social_link_fb\" href=\"https://www.facebook.com/smallseotools\" target=\"_blank\" title=\"SmallSEOTools Facebook\"></a>\n",
              "<a class=\"top_social_link top_social_link_tw\" href=\"https://twitter.com/smallseotools1\" target=\"_blank\" title=\"SmallSEOTools Twitter \"></a>\n",
              "<a class=\"top_social_link top_social_link_li\" href=\"https://www.linkedin.com/company/content-arcade/\" target=\"_blank\" title=\"SmallSEOTools Linkedin\"></a>\n",
              "<a class=\"top_social_link top_social_link_yt\" href=\"https://www.youtube.com/channel/UCuqHvzAavqmyVlolYO1SXMQ\" target=\"_blank\" title=\"SmallSEOTools YouTube\"></a>\n",
              "</div>\n",
              "</div>\n",
              "<div class=\"col-md-6 mob_pading\">\n",
              "<div class=\"right_link\">\n",
              "<a href=\"https://smallseotools.com/register/\" rel=\"nofollow noopener\"><i class=\"glyphicon glyphicon-user\"></i>Register</a>\n",
              "<a href=\"https://smallseotools.com/login/\" rel=\"nofollow noopener\"><i class=\"glyphicon glyphicon-log-in\"></i>Login</a>\n",
              "</div>\n",
              "</div>\n",
              "</div>\n",
              "</div>\n",
              "</div>\n",
              "</div>\n",
              "<div id=\"lang_drop_sty\"></div>\n",
              "<div id=\"n_lang_drop_sty\" style=\"background:transparent;\"></div>\n",
              "<div class=\"container-fluid navigation_container mob_pading\">\n",
              "<div class=\"container pn\">\n",
              "<nav class=\"navbar navbar-inverse\">\n",
              "<div class=\"container-fluid\">\n",
              "<div class=\"navbar-header\">\n",
              "<button aria-label=\"toggle button\" class=\"navbar-toggle\" data-target=\"#myNavbar\" data-toggle=\"collapse\" type=\"button\">\n",
              "<span class=\"icon-bar\"></span>\n",
              "<span class=\"icon-bar\"></span>\n",
              "<span class=\"icon-bar\"></span>\n",
              "</button>\n",
              "<div class=\"toggle_search_icon mob_show\" data-target=\"#mob_search_bar\" data-toggle=\"collapse\" id=\"mobsearch\"><span class=\"glyphicon glyphicon-search\"></span></div>\n",
              "<a class=\"navbar-brand top_sst_logo\" href=\"https://smallseotools.com/\" title=\"SmallSEOTools.com\"></a>\n",
              "</div>\n",
              "<div class=\"collapse navbar-collapse\" id=\"myNavbar\">\n",
              "<ul class=\"nav navbar-nav navbar-right\">\n",
              "<li class=\"search_text_hide design_studio\">\n",
              "<a href=\"https://designstudio.smallseotools.com/\" onclick=\"pushEventVal('desogn_studio_navbar')\">Design Studio</a>\n",
              "</li>\n",
              "<li class=\"search_text_hide \">\n",
              "<a href=\"https://smallseotools.com/plagiarism-checker/\">\n",
              "Plagiarism Checker </a>\n",
              "</li>\n",
              "<li class=\" search_text_hide\"><a href=\"https://smallseotools.com/what-is-my-ip/\">What Is My IP</a></li>\n",
              "<li class=\"search_text_hide \"><a href=\"https://smallseotools.com/grammar-checker/\">Grammar Check</a></li>\n",
              "<li class=\"search_text_hide \"><a href=\"https://smallseotools.com/reverse-image-search/\">Reverse Image Search</a></li>\n",
              "<li class=\"searchbar mob_hide\">\n",
              "</li>\n",
              "<li class=\"search_box_main search_box n_search_box\" id=\"srch_togle\" style=\"display:none;\">\n",
              "<label for=\"top_search\">\n",
              "<input aria-label=\"Search\" autocomplete=\"off\" class=\"search_field n_search_field inp\" id=\"top_search\" placeholder=\"Type any word to search for SEO tools...\" type=\"text\"/>\n",
              "</label>\n",
              "<div class=\"search_drop_box n_search_drop_box\">\n",
              "<ul>\n",
              "</ul>\n",
              "</div>\n",
              "</li>\n",
              "<li class=\"last_notify_id\" data-notify_id=\"\"> </li>\n",
              "</ul>\n",
              "</div>\n",
              "</div>\n",
              "</nav>\n",
              "</div>\n",
              "</div>\n",
              "</header>\n",
              "<div class=\"container-fluid pn tool_area_banner\">\n",
              "<div class=\"home_page_banner\" style=\"min-height:100px;overflow:hidden\">\n",
              "<div class=\"col-md-12 text-center\" style=\"margin-bottom:20px;\">\n",
              "<script async=\"\" src=\"https://pagead2.googlesyndication.com/pagead/js/adsbygoogle.js\"></script>\n",
              "<ins class=\"adsbygoogle\" data-ad-client=\"ca-pub-2684854501397994\" data-ad-slot=\"4524335964\" style=\"display:inline-block;width:728px;height:90px\"></ins>\n",
              "<script>\n",
              "     (adsbygoogle = window.adsbygoogle || []).push({});\n",
              "</script> </div>\n",
              "</div>\n",
              "<div class=\"clearfix\"></div>\n",
              "<div class=\"container pn\">\n",
              "<div class=\"main-content\">\n",
              "<div class=\"col-md-12 col-lg-12\" id=\"alerts\">\n",
              "</div>\n",
              "<style>\n",
              "\t.check_resbtn {background-color: #1E70B9; text-decoration: none; padding: 15px 30px; font-size: 16px; outline: none; color: #fff; border: none; border-radius: 45px; box-shadow: 0 2px #0c5595; margin-bottom: 10px; display: inline-block; font-family: 'nunito_sansregular'; cursor: pointer; } .result_title_row {min-height: 45px; background: #1e70b9; border-radius: 5px 5px 0 0; margin-top: 20px; display: table; } .res_title {color: #fff; font-size: 13px; font-family: 'nunito_sansregular'; display: table-cell; float: none; word-break: break-word; padding: 10px; vertical-align: middle; } .result_content_row {border: 1px solid #e0e0e0; background: #fff; min-height: 45px; border-top: none; display: flex; border-radius: 0!important; box-shadow: none; margin-bottom: 0!important; width: 100%; } .res_con_title {color: gray; font-size: 12px; font-family: 'nunito_sansregular'; display: table-cell; float: none; padding: 10px; vertical-align: middle; word-break: break-word; } .b-left{border-left: 1px solid #ddd;} textarea.form-control{resize: vertical;}\n",
              "</style>\n",
              "<div class=\"col-md-12 tool_box box_shadow_border\">\n",
              "<div class=\"tool_heading text-center frs\" style=\"margin :10px 0px;\">\n",
              "<h1>GOOGLE INDEX CHECKER</h1>\n",
              "</div>\n",
              "<form action=\"\" class=\"\" id=\"googleIndex\" method=\"post\">\n",
              "<div class=\"col-md-12 col-xs-12 textarea_box p10 text-left\">\n",
              "<label class=\"Roboto_slab\">Enter Upto 5 Domain's (with http:// or https://)</label>\n",
              "<textarea class=\"form-control bg_ffffff border br4\" id=\"page-url-list\" name=\"url\" placeholder=\"List of 5 Domain's\" style=\"height: 195px;\"></textarea>\n",
              "</div>\n",
              "<div class=\"love_code\">\n",
              "<script async=\"\" src=\"https://pagead2.googlesyndication.com/pagead/js/adsbygoogle.js\"></script>\n",
              "<ins class=\"adsbygoogle\" data-ad-client=\"ca-pub-2684854501397994\" data-ad-slot=\"1317033090\" style=\"display:inline-block;width:728px;height:90px\"></ins>\n",
              "<script>\n",
              "    (adsbygoogle = window.adsbygoogle || []).push({});\n",
              "</script> <span class=\"text-center hidden tuny_baaz_ni_ana_\"><a class=\"pic2\" href=\"https://smallseotools.com/mazak_ae.php\" rel=\"nofollow noopener\" target=\"_blank\" title=\"read more\"></a></span> </div>\n",
              "<div class=\"button_box text-center\">\n",
              "<button class=\"check_resbtn g-recaptcha\" data-callback=\"onSubmit\" data-sitekey=\"6LcA_SsUAAAAAJT5iC8hzHl_zLL8tcyi6sxSxnxJ\" name=\"check\" type=\"submit\">View Index Status</button>\n",
              "</div>\n",
              "<div class=\"love_code\">\n",
              "<script async=\"\" src=\"https://pagead2.googlesyndication.com/pagead/js/adsbygoogle.js\"></script>\n",
              "<ins class=\"adsbygoogle\" data-ad-client=\"ca-pub-2684854501397994\" data-ad-slot=\"7586030493\" style=\"display:inline-block;width:336px;height:280px\"></ins>\n",
              "<script>\n",
              "     (adsbygoogle = window.adsbygoogle || []).push({});\n",
              "</script> <span class=\"text-center hidden tuny_baaz_ni_ana_\"><a class=\"pic4\" href=\"https://smallseotools.com/mazak_ae.php\" rel=\"nofollow noopener\" target=\"_blank\" title=\"read more\"></a></span> </div>\n",
              "</form>\n",
              "</div>\n",
              "<div class=\"clearfix\"></div>\n",
              "<div class=\"clearfix\"></div>\n",
              "<div aria-multiselectable=\"true\" class=\"panel-group\" id=\"accordion\" role=\"tablist\">\n",
              "<div class=\"panel panel-default accordion_box\">\n",
              "<div class=\"panel-heading\" id=\"headingOne\" role=\"tab\">\n",
              "<h2 class=\"panel-title\">\n",
              "<a aria-controls=\"collapseOne\" aria-expanded=\"true\" class=\"acordion_link external\" data-parent=\"#accordion\" data-toggle=\"collapse\" href=\"#collapseOne\" role=\"button\">\n",
              "<span>About Google Index Checker</span>\n",
              "</a>\n",
              "</h2>\n",
              "</div>\n",
              "<div aria-labelledby=\"headingOne\" class=\"panel-collapse collapse in\" id=\"collapseOne\" role=\"tabpanel\">\n",
              "<div class=\"panel-body acordion_body\">\n",
              "<p>Check the Google Index stats of multiple websites simultaneously with this Google Index Checker</p>\n",
              "<p>Many website owners, webmasters, and SEO professionals are now using tools like this Google Index Checker by Small SEO Tools to quickly and easily access stats on how many web pages (URLs) that Google can crawl or index on a particular website.</p>\n",
              "<p>This Google Index Checker tool provides valuable information that you can get in just a matter of seconds; allowing you to check the Google Index stats of up to 10 web pages at a time!</p>\n",
              "</div>\n",
              "</div>\n",
              "</div>\n",
              "<div class=\"panel panel-default accordion_box\">\n",
              "<div class=\"panel-heading\" id=\"headingTwo\" role=\"tab\">\n",
              "<h2 class=\"panel-title\">\n",
              "<a aria-controls=\"collapseTwo\" aria-expanded=\"true\" class=\"acordion_link external\" data-parent=\"#accordion\" data-toggle=\"collapse\" href=\"#collapseTwo\" role=\"button\">\n",
              "<span>How to use this Google Index Checker?</span>\n",
              "</a>\n",
              "</h2>\n",
              "</div>\n",
              "<div aria-expanded=\"true\" aria-labelledby=\"headingTwo\" class=\"panel-collapse collapse in\" id=\"collapseTwo\" role=\"tabpanel\" style=\"\">\n",
              "<div class=\"panel-body acordion_body\">\n",
              "<p>This Google Index Checker tool by Small SEO Tools is extremely useful for many website owners because it can tell you how many of your web pages have been indexed by Google. Simply enter the URL that you want to check in the space provided and click on the “Check” button, and then tool will process your request. It will generate the result in just a few seconds which determines the count of your website's posts that were indexed by Google.</p>\n",
              "<p>The Google website index checker is useful if you want to have an idea on how many of your web pages are being indexed by Google. It is important to get this valuable information because it can help you fix any issues on your pages so that Google will have them indexed and help you increase organic traffic.</p>\n",
              "</div>\n",
              "</div>\n",
              "</div>\n",
              "<div class=\"panel panel-default accordion_box\">\n",
              "<div class=\"panel-heading\" id=\"headingThree\" role=\"tab\">\n",
              "<h2 class=\"panel-title\">\n",
              "<a aria-controls=\"collapseThree\" aria-expanded=\"true\" class=\"acordion_link external\" data-parent=\"#accordion\" data-toggle=\"collapse\" href=\"#collapseThree\" role=\"button\">\n",
              "<span>How to index your Web Pages quickly?</span>\n",
              "</a>\n",
              "</h2>\n",
              "</div>\n",
              "<div aria-expanded=\"true\" aria-labelledby=\"headingThree\" class=\"panel-collapse collapse in\" id=\"collapseThree\" role=\"tabpanel\" style=\"\">\n",
              "<div class=\"panel-body acordion_body\">\n",
              "<p>If the result shows that there is a big number of pages that were not indexed by Google, the best thing to do is to get your web pages indexed fast is by creating a sitemap for your website. A sitemap is an XML file that you can install on your server so that it will have a record of all the pages on your website. To make it easier for you in generating your sitemap for your site, go to this link http://smallseotools.com/xml-sitemap-generator/ for our sitemap generator tool. Once the sitemap has been generated and installed, you must submit it to Google Webmaster Tools so it get indexed.</p>\n",
              "<p>It would help if you will share the posts on your web pages on different social media platforms like Facebook, Twitter, and Pinterest. You should also make sure that your web content is of high-quality.</p>\n",
              "<p>If your site is newly launched, it will normally take some time for Google to index your website's posts. But, if in case Google does not index your site's pages, just use the 'Crawl as Google,' you can find it in Google Webmaster Tools.</p>\n",
              "</div>\n",
              "</div>\n",
              "</div>\n",
              "<div class=\"panel panel-default accordion_box\">\n",
              "<div class=\"panel-heading\" id=\"headingFour\" role=\"tab\">\n",
              "<h2 class=\"panel-title\">\n",
              "<a aria-controls=\"collapseFour\" aria-expanded=\"true\" class=\"acordion_link external\" data-parent=\"#accordion\" data-toggle=\"collapse\" href=\"#collapseFour\" role=\"button\">\n",
              "<span>Why should you use this Google Index Checker?</span>\n",
              "</a>\n",
              "</h2>\n",
              "</div>\n",
              "<div aria-expanded=\"true\" aria-labelledby=\"headingFour\" class=\"panel-collapse collapse in\" id=\"collapseFour\" role=\"tabpanel\" style=\"\">\n",
              "<div class=\"panel-body acordion_body\">\n",
              "<p>Every website owner and webmaster wants to make sure that Google has indexed their site because it can help them in getting organic traffic. Using this Google Index Checker tool, you will have a hint on which among your pages are not indexed by Google.</p>\n",
              "<p>Google like other major search engines carefully look at every website that goes live on the web. It visits and scrutinizes all the websites that exist on the internet from time to time.</p>\n",
              "<p>With this index checker tool, you can check whether Google has indexed all your web pages. It doesn’t matter how many pages you have on your website, what really counts is the number of pages that Google has indexed. There will be times when Google choose to ignore big websites that contains a large number volumes of pages and prefer to index smaller sites with fewer pages. This is because Google analyzes the quality of text and the links of a website as well as the traffic. It will likely index websites that have content that is appealing to many site visitors and have links that attract more traffic.</p>\n",
              "</div>\n",
              "</div>\n",
              "</div>\n",
              "<div class=\"panel panel-default accordion_box\">\n",
              "<div class=\"panel-heading\" id=\"headingFiv\" role=\"tab\">\n",
              "<h2 class=\"panel-title\">\n",
              "<a aria-controls=\"collapseFiv\" aria-expanded=\"true\" class=\"acordion_link external\" data-parent=\"#accordion\" data-toggle=\"collapse\" href=\"#collapseFiv\" role=\"button\">\n",
              "<span>What does Google Index mean?</span>\n",
              "</a>\n",
              "</h2>\n",
              "</div>\n",
              "<div aria-expanded=\"true\" aria-labelledby=\"headingFiv\" class=\"panel-collapse collapse in\" id=\"collapseFiv\" role=\"tabpanel\" style=\"\">\n",
              "<div class=\"panel-body acordion_body\">\n",
              "<p>Google continuously visits millions of websites and creates an index for each website that gets its interest. However, it may not index every site that it visits. If Google does not find keywords, names or topics that are of interest, it will likely not index it.</p>\n",
              "<p>This is the reason why many website owners, webmasters, SEO professionals worry about Google indexing their websites. Because no one knows except Google how it operates and the measures it sets for indexing web pages. All we know is the three aspects that Google usually look for and take into account when indexing a web page are – relevance of content, authority, and traffic.</p>\n",
              "<p>Also, there is no definite time as to when Google will visit a particular site or if it will choose to index it. That is why it is important for a website owner to make sure that all issues on your web pages are fixed and ready for search engine optimization. To help you identify which pages on your website are not yet indexed by Google, this Google site index checker tool will do its job for you.</p>\n",
              "<p>If your website is not yet indexed, don't worry because Google works non-stop in checking and indexing websites. You may want to focus on improving the content on your website and increasing your traffic because as traffic builds up, your website also gains relevance and authority which will then make Google notice it and start ranking it. Just keep checking the Google Index using this Google index checker tool and work on getting a better performance for your website. This may usually take time to gain more organic traffic, especially for newly launched websites.</p>\n",
              "<p>Improving your links can also help you, you must use genuine links only. Do not go for paid link farms as they can do more harm than good to your website. Once your website has been indexed by Google, you should work hard to maintain it. You can achieve this by always updating your website so that it is always fresh and you should also make sure that you retain its relevance and authority so it will get a good position in page ranking.</p>\n",
              "</div>\n",
              "</div>\n",
              "</div>\n",
              "</div> </div>\n",
              "<div id=\"sidebar\">\n",
              "<div class=\"design_studio_sidebar\">\n",
              "<a href=\"https://designstudio.smallseotools.com/\" onclick=\"pushEventVal('desogn_studio_sidebar')\">Design Studio</a>\n",
              "</div>\n",
              "<div class=\"clearfix\"></div>\n",
              "<div class=\"popular_tool_box box_shadow_border pn mb10 mtn\">\n",
              "<div class=\"sidebar_adds p5 box_shadow_border sticky mn\">\n",
              "<div class=\"ha_love_wraper text-center\">\n",
              "<script async=\"\" src=\"https://pagead2.googlesyndication.com/pagead/js/adsbygoogle.js\"></script>\n",
              "<ins class=\"adsbygoogle\" data-ad-client=\"ca-pub-2684854501397994\" data-ad-slot=\"7042688091\" style=\"display:inline-block;width:300px;height:250px\"></ins>\n",
              "<script>\n",
              "     (adsbygoogle = window.adsbygoogle || []).push({});\n",
              "</script> <span class=\"text-center hidden tuny_baaz_ni_ana_\"><a class=\"pic\" href=\"https://smallseotools.com/mazak_ae.php\" rel=\"nofollow noopener\" target=\"_blank\" title=\"read more\"></a></span> </div>\n",
              "</div>\n",
              "<div class=\"clearfix\"></div>\n",
              "<ul>\n",
              "<li class=\"popular-seo-t pn\">\n",
              "<h3 class=\"mn p10\">Popular SEO Tools</h3>\n",
              "</li>\n",
              "<li>\n",
              "<span class=\"glyphicon glyphicon-ok\"></span>\n",
              "<a href=\"https://smallseotools.com/plagiarism-checker/\">\n",
              "Plagiarism Checker </a>\n",
              "</li>\n",
              "<li>\n",
              "<span class=\"glyphicon glyphicon-ok\"></span>\n",
              "<a href=\"https://smallseotools.com/grammar-checker/\">\n",
              "Grammar Check </a>\n",
              "</li>\n",
              "<li>\n",
              "<span class=\"glyphicon glyphicon-ok\"></span>\n",
              "<a href=\"https://smallseotools.com/reverse-image-search/\">\n",
              "Reverse Image Search </a>\n",
              "</li>\n",
              "<li>\n",
              "<span class=\"glyphicon glyphicon-ok\"></span>\n",
              "<a href=\"https://smallseotools.com/logo-maker/\" onclick=\"pushEventVal('logomaker_sidebar')\">Logo Maker</a>\n",
              "</li>\n",
              "<li>\n",
              "<span class=\"glyphicon glyphicon-ok\"></span>\n",
              "<a href=\"https://smallseotools.com/what-is-my-ip/\">\n",
              "What is My IP </a>\n",
              "</li>\n",
              "<li>\n",
              "<span class=\"glyphicon glyphicon-ok\"></span>\n",
              "<a href=\"https://smallseotools.com/pdf-to-word-converter/\">\n",
              "PDF To Word Converter </a>\n",
              "</li>\n",
              "<li>\n",
              "<span class=\"glyphicon glyphicon-ok\"></span>\n",
              "<a href=\"https://smallseotools.com/internet-speed-test/\">\n",
              "Internet Speed Test </a>\n",
              "</li>\n",
              "<li>\n",
              "<span class=\"glyphicon glyphicon-ok\"></span>\n",
              "<a href=\"https://smallseotools.com/website-seo-score-checker/\">\n",
              "SEO checker </a>\n",
              "</li>\n",
              "</ul>\n",
              "<div class=\"clearfix\"></div>\n",
              "<ul>\n",
              "<li class=\"popular-seo-t pn\">\n",
              "<h3 class=\"mn p10\">Other Tools</h3>\n",
              "</li>\n",
              "<li>\n",
              "<span class=\"glyphicon glyphicon-ok\"></span>\n",
              "<a href=\"https://smallseotools.com/article-rewriter/\" onclick=\"push_triggers('Landing from SideBar')\">Article Rewriter</a>\n",
              "<b class=\"plag_improved_badge\">Improved</b>\n",
              "</li>\n",
              "<li>\n",
              "<span class=\"glyphicon glyphicon-ok\"></span>\n",
              "<a href=\"https://smallseotools.com/keyword-position/\">Keyword Position</a>\n",
              "<b class=\"plag_improved_badge\">Improved</b>\n",
              "</li>\n",
              "<li>\n",
              "<span class=\"glyphicon glyphicon-ok\"></span>\n",
              "<a href=\"https://smallseotools.com/domain-authority-checker/\">Domain Authority Checker</a>\n",
              "</li>\n",
              "<li>\n",
              "<span class=\"glyphicon glyphicon-ok\"></span>\n",
              "<a href=\"https://smallseotools.com/backlink-checker/\">Backlink Checker</a>\n",
              "</li>\n",
              "<li>\n",
              "<span class=\"glyphicon glyphicon-ok\"></span>\n",
              "<a href=\"https://smallseotools.com/image-compressor/\">Image Compressor</a>\n",
              "</li>\n",
              "<li>\n",
              "<span class=\"glyphicon glyphicon-ok\"></span>\n",
              "<a href=\"https://smallseotools.com/online-video-downloader/\">Video Downloader</a>\n",
              "</li>\n",
              "<li>\n",
              "<span class=\"glyphicon glyphicon-ok\"></span>\n",
              "<a href=\"https://smallseotools.com/facebook-video-downloader/\">Facebook Video Downloader</a>\n",
              "</li>\n",
              "<li>\n",
              "<span class=\"glyphicon glyphicon-ok\"></span>\n",
              "<a href=\"https://smallseotools.com/word-to-pdf/\">Word To PDF</a>\n",
              "</li>\n",
              "<li>\n",
              "<span class=\"glyphicon glyphicon-ok\"></span>\n",
              "<a href=\"https://smallseotools.com/rgb-to-hex/\">RGB To HEX</a>\n",
              "</li>\n",
              "<li>\n",
              "<span class=\"glyphicon glyphicon-ok\"></span>\n",
              "<a href=\"https://smallseotools.com/image-resizer/\">Image Resizer</a>\n",
              "</li>\n",
              "<li>\n",
              "<span class=\"glyphicon glyphicon-ok\"></span>\n",
              "<a href=\"https://smallseotools.com/video-to-gif/\">Video To Gif</a>\n",
              "</li>\n",
              "</ul>\n",
              "<div class=\"clearfix\"></div>\n",
              "<div class=\"st_ofset_out\"></div>\n",
              "<div class=\"clearfix\"></div>\n",
              "<div class=\"st_sidebar pn\">\n",
              "<div class=\"ha_love_wraper text-center\">\n",
              "<div class=\"_ap_apex_ad\" id=\"2ca3ff8c-8c8a-4958-9bfc-f0f2ca57cf2f\">\n",
              "<script>\n",
              "var adpushup = adpushup || {};\n",
              "adpushup.que = adpushup.que || [];\n",
              "adpushup.que.push(function() {\n",
              "adpushup.triggerAd(\"2ca3ff8c-8c8a-4958-9bfc-f0f2ca57cf2f\");\n",
              "});\n",
              "</script>\n",
              "</div> <span class=\"text-center hidden tuny_baaz_ni_ana_\"><a class=\"pic2\" href=\"https://smallseotools.com/mazak_ae.php\" rel=\"nofollow noopener\" target=\"_blank\" title=\"read more\"></a></span> </div>\n",
              "</div>\n",
              "</div> </div>\n",
              "</div>\n",
              "</div>\n",
              "<div class=\"clearfix\"></div>\n",
              "<div class=\"f_intro_bg_test\"></div>\n",
              "<div class=\"clearfix\"></div>\n",
              "<div class=\"asseenon_bg sticky-stopper\">\n",
              "<div class=\"inerasseen container\">\n",
              "<div class=\"tool_heading text-center\">\n",
              "<h2>AS SEEN ON</h2>\n",
              "<div class=\"heading_border\"></div>\n",
              "</div>\n",
              "<div class=\"as_seen_box mt15 pb15 text-center\">\n",
              "<a class=\"aso1\"></a>\n",
              "<a class=\"aso2\"></a>\n",
              "<a class=\"aso3\"></a>\n",
              "<a class=\"aso4\"></a>\n",
              "<a class=\"aso5\"></a>\n",
              "<a class=\"aso6\"></a>\n",
              "<a class=\"aso7\"></a>\n",
              "<a class=\"aso8\"></a>\n",
              "<a class=\"aso9\"></a>\n",
              "<a class=\"aso10\"></a>\n",
              "<a class=\"aso11\"></a>\n",
              "<a class=\"aso12\"></a>\n",
              "<a class=\"aso13 external\" href=\"https://www.semrush.com/sem/?ref=0476999335&amp;refer_source=as_seen_on&amp;utm_source=berush&amp;utm_medium=promo&amp;utm_campaign=banner\" target=\"_blank\"></a>\n",
              "</div>\n",
              "</div>\n",
              "</div><footer>\n",
              "<div class=\"f_intro_bg text-center\">\n",
              "<form action=\"https://smallseotools.com/register/\" class=\"navbar-form mn\">\n",
              "<div class=\"col-md-6 col-sm-6 dtc pn lang_subscribe\">\n",
              "<div class=\"equally_centralized\">\n",
              "<img alt=\"image of sst subcriber\" class=\"f_icon\" height=\"63\" src=\"https://smallseotools.com/asets/images/form_subcribe_footer.png\" width=\"80\"/>\n",
              "<span class=\"f_text\">SUBSCRIBE TO OUR NEWSLETTER</span>\n",
              "</div>\n",
              "</div>\n",
              "<div class=\"col-md-6 col-sm-6 dtc pn\">\n",
              "<div class=\"input-group\">\n",
              "<input aria-label=\"Subscribe\" class=\"form-control search_input\" name=\"email\" placeholder=\"Enter your Email Address\" type=\"email\"/>\n",
              "<div class=\"input-group-btn\">\n",
              "<button class=\"btn btn-default search_button\" type=\"submit\">Subscribe</button>\n",
              "</div>\n",
              "</div>\n",
              "</div>\n",
              "</form>\n",
              "</div>\n",
              "<div class=\"f_description_bg text-center\">\n",
              "<div class=\"f_graph\">\n",
              "<div class=\"container\">\n",
              "<div class=\"col-lg-1 col-md-1\"></div>\n",
              "<div class=\"col-lg-3 col-md-3 col-sm-4 col-xs-12 f_logo_box f_contect pn\">\n",
              "<a class=\"navbar-brand ptn bootom_sst_logo top_sst_logo\" href=\"https://smallseotools.com/\" title=\"SmallSEOTools.com\"></a>\n",
              "<div class=\"contect_info col-xs-12 pn\">\n",
              "<p>CONTACT US</p>\n",
              "<span><a class=\"__cf_email__\" data-cfemail=\"41323431312e333501322c202d2d32242e352e2e2d326f222e2c\" href=\"/cdn-cgi/l/email-protection\">[email protected]</a></span>\n",
              "</div>\n",
              "<div class=\"address_info col-xs-12 pn\">\n",
              "<p>ADDRESS</p>\n",
              "<span>438, Streatham High Road <br/>London, UK. <br/>SW16 3PX</span>\n",
              "</div>\n",
              "</div>\n",
              "<div class=\"col-lg-4 col-md-4 col-sm-4 col-xs-12 lef_to_right_border f_version\">\n",
              "<p>YOU MAY LIKE <br/>OUR MOST POPULAR TOOLS &amp; APPS</p>\n",
              "<a href=\"https://smallseotools.com/plagiarism-checker-api/\" title=\"Plagiarism Checker Api\"><div class=\"ver_img f-api\"></div></a>\n",
              "<a href=\"https://apps.apple.com/gb/developer/content-arcade-dubai-ltd-fze/id1355616995\" target=\"_blank\" title=\"APPS On Itunes\"><div class=\"ver_img f-apple\"></div></a>\n",
              "<a href=\"https://play.google.com/store/apps/dev?id=6096060713339252212&amp;hl=en\" target=\"_blank\" title=\"APPS On Android\"><div class=\"ver_img f-androaid\"></div></a>\n",
              "<a href=\"https://www.plagiarismsoftware.com/\" target=\"_blank\"><div class=\"ver_img f-desktop\" title=\"Plagiarism Software\"></div></a>\n",
              "<a href=\"https://smallseotools.com/wordpress-plagiarism-checker/\" title=\"Wordpress Plagiarism Plugin\"><div class=\"ver_img f-wordpress\"></div></a>\n",
              "</div>\n",
              "<div class=\"col-lg-4 col-md-4 col-sm-4 col-xs-12 f_contect\" style=\"min-height: 230px;\">\n",
              "<div class=\"mor_pages\">\n",
              "<ul class=\"pn\">\n",
              "<li><a href=\"https://smallseotools.com/term-of-services/\" rel=\"nofollow noopener\">Terms of Services</a></li>\n",
              "<li><a href=\"https://smallseotools.com/testimonials/\">Testimonials</a></li>\n",
              "<li><a href=\"https://smallseotools.com/contact-us/\">Contact us</a></li>\n",
              "<li><a href=\"https://smallseotools.com/about-us/\">About us</a></li>\n",
              "<li><a href=\"https://smallseotools.com/advertise/\">Advertise</a></li>\n",
              "<li><a href=\"https://smallseotools.com/privacy/\" rel=\"nofollow noopener\">Privacy</a></li>\n",
              "<li><a href=\"https://smallseotools.com/blog/\">Blog</a></li>\n",
              "<li><a href=\"https://smallseotools.com/faqs/\">FAQs</a></li>\n",
              "</ul>\n",
              "</div>\n",
              "</div>\n",
              "</div>\n",
              "</div>\n",
              "<div class=\"clearfix\"></div>\n",
              "<div class=\"col-md-12 col-sm-12 col-xs-12 pn\">\n",
              "<div class=\"p10 footer\">\n",
              "<div class=\"container pn\">\n",
              "<div class=\"col-md-12 col-sm-12 col-xs-12\">\n",
              "<p class=\"text-center mn\">Copyright © 2012-2020 by <a href=\"https://smallseotools.com/\">SmallSEOTools.com</a> All Rights Reserved.\n",
              "</p>\n",
              "</div>\n",
              "</div>\n",
              "</div>\n",
              "</div>\n",
              "</div>\n",
              "<div class=\"modal fade bug_modal\" id=\"myModal\" role=\"dialog\">\n",
              "<div class=\"modal-dialog\">\n",
              "<div class=\"modal-content\">\n",
              "<div class=\"BugReport\" id=\"BugReport\">\n",
              "<div class=\"Bform\" id=\"Bform\">\n",
              "<div class=\"topBhead\">Report A Bug</div>\n",
              "<div class=\"ReportArea\">\n",
              "<div class=\"LinkArea plr\">\n",
              "<span>Google Index Checker</span><br/>\n",
              "</div>\n",
              "<div class=\"plr\" style=\"padding-top: 20px; padding-bottom: 20px\">\n",
              "<form action=\"https://smallseotools.com/google-index-checker/\" enctype=\"multipart/form-data\" id=\"bugform\" method=\"post\" name=\"bugform\">\n",
              "<label style=\"display: block;\">\n",
              "<span class=\"labheading\">Contact Email</span>\n",
              "<input class=\"form-control buginput\" id=\"bugemail\" name=\"bugemail\" placeholder=\"\" required=\"\" type=\"email\"/>\n",
              "</label>\n",
              "<label style=\"display: block;\">\n",
              "<span class=\"labheading\">Subject</span>\n",
              "<input class=\"form-control buginput\" id=\"bugsubject\" name=\"bugsubject\" placeholder=\"\" required=\"\" type=\"text\"/>\n",
              "</label>\n",
              "<label style=\"display: block;\">\n",
              "<span class=\"labheading\">Description</span>\n",
              "<textarea class=\"form-control buginput\" cols=\"50\" id=\"bugdesc\" name=\"bugdesc\" required=\"\" rows=\"5\"></textarea>\n",
              "</label>\n",
              "<div style=\"display: block;\">\n",
              "<span class=\"labheading\">Upload Screenshot</span>\n",
              "<span class=\"input-group nimg_input_box\" style=\"margin-top: 10px;\">\n",
              "<label class=\"input-group-addon nimg_input_addon\" for=\"file_upload12\">Choose File\n",
              "<input accept=\".png,.jpg,.jpeg\" id=\"file_upload12\" name=\"files\" onchange=\"$('#img_namee').attr('placeholder',this.files[0].name)\" style=\"display:none\" type=\"file\"/>\n",
              "</label>\n",
              "<input aria-label=\"file name show here\" class=\"form-control nimg_input_style\" id=\"img_namee\" placeholder=\"No file choosen\" readonly=\"\" type=\"text\"/>\n",
              "</span>\n",
              "</div>\n",
              "<div class=\"button_box\" style=\"margin-top: 15px;\">\n",
              "<input name=\"toolname\" type=\"hidden\" value=\"Google Index Checker\"/>\n",
              "<input name=\"toolurl\" type=\"hidden\" value=\"https://smallseotools.com/google-index-checker/\"/>\n",
              "<button class=\"g-recaptcha check_resbtn\" data-callback=\"validatebugcaptcha\" data-sitekey=\"6LcA_SsUAAAAAJT5iC8hzHl_zLL8tcyi6sxSxnxJ\" id=\"rbButton\" name=\"bugreport\" type=\"button\">Report</button>\n",
              "<button class=\"check_resbtn\" data-dismiss=\"modal\" onclick=\"hidePopup()\" type=\"button\">Cancel</button>\n",
              "</div>\n",
              "</form>\n",
              "</div>\n",
              "<div class=\"clearfix\"></div>\n",
              "</div>\n",
              "</div>\n",
              "</div>\n",
              "</div>\n",
              "</div>\n",
              "</div>\n",
              "<div class=\"BugReport-icon\" data-target=\"#myModal\" data-toggle=\"modal\" id=\"brIcon\" title=\"Report a bug\">\n",
              "<img alt=\"image of Bug report\" src=\"https://smallseotools.com/asets/images/bug.png\" title=\"Report A Bug\"/>\n",
              "</div>\n",
              "</footer>\n",
              "<script data-cfasync=\"false\" src=\"/cdn-cgi/scripts/5c5dd728/cloudflare-static/email-decode.min.js\"></script><script src=\"https://code.jquery.com/jquery-3.3.1.min.js\"></script>\n",
              "<div id=\"response_links\"></div>\n",
              "<script src=\"https://smallseotools.com/asets/js/bootstrap.min.js\"></script>\n",
              "<script src=\"https://smallseotools.com/asets/js/jquery.cookiebar.js\"></script>\n",
              "<script src=\"https://www.gstatic.com/firebasejs/5.8.3/firebase-app.js\"></script>\n",
              "<script src=\"https://www.gstatic.com/firebasejs/5.8.3/firebase-messaging.js\"></script>\n",
              "<script data-app-key=\"5h8fzky134gp78q\" id=\"dropboxjs\" src=\"https://www.dropbox.com/static/api/2/dropins.js\"></script>\n",
              "<script>\n",
              "    function removeError(){$(\".error-popup-box\").hide();}\n",
              "    var base_url_path='https://smallseotools.com/';\n",
              "        $(window).on('load',function(){\n",
              "        var width=$(window).width();\n",
              "        if(width < 768){\n",
              "            $('#accordion .panel-collapse').hide();\n",
              "            var mob_search_html=$('#sidebar_search').html();\n",
              "            $('#mob_search').html(mob_search_html);\n",
              "        }else{\n",
              "            $('#accordion .panel-collapse').addClass('in');\n",
              "            var web_search_html=$('#mob_search').html();\n",
              "            $('#mob_search').html('');\n",
              "            $('#mob_search_bar').hide();\n",
              "        }\n",
              "        // add Files code\n",
              "        // Initialize Firebase\n",
              "        var config = {\n",
              "            messagingSenderId: \"543959747848\"\n",
              "        };\n",
              "        firebase.initializeApp(config);\n",
              "        // Retrieve Firebase Messaging object.\n",
              "        if (firebase.messaging.isSupported()){\n",
              "            const messaging = firebase.messaging();\n",
              "            messaging.requestPermission().then(function() {\n",
              "            //console.log('Notification permission granted.');\n",
              "                    // TODO(developer): Retrieve an Instance ID token for use with FCM.\n",
              "                if(isTokenSentToServer()) {\n",
              "                    //console.log('Token already saved.');\n",
              "                    navigator.serviceWorker.getRegistrations().then(registrations => {\n",
              "                        if(registrations==''){\n",
              "                            getRegToken();\n",
              "                        }else{\n",
              "                            // console.log(\"FOUND sw\");\n",
              "                            // console.log(registrations);\n",
              "                        }\n",
              "                    });\n",
              "                }else{\n",
              "                    getRegToken();\n",
              "                }\n",
              "            })\n",
              "            .catch(function(err) {\n",
              "                //console.log('Unable to get permission to notify.', err);\n",
              "            });\n",
              "            function getRegToken(argument) {\n",
              "                 messaging.getToken()\n",
              "                    .then(function(currentToken) {\n",
              "                    if (currentToken) {\n",
              "                        saveToken(currentToken);\n",
              "                        //console.log(currentToken);\n",
              "                        //setTokenSentToServer(true);\n",
              "                    } else {\n",
              "                    //console.log('No Instance ID token available. Request permission to generate one.');\n",
              "                        setTokenSentToServer(false);\n",
              "                    }\n",
              "                })\n",
              "                .catch(function(err) {\n",
              "                    //console.log('An error occurred while retrieving token. ', err);\n",
              "                    setTokenSentToServer(false);\n",
              "                });\n",
              "            }\n",
              "            function setTokenSentToServer(sent) {\n",
              "                window.localStorage.setItem('sentToServer_sst', sent ? 1 : 0);\n",
              "            }\n",
              "            function isTokenSentToServer() {\n",
              "                return window.localStorage.getItem('sentToServer_sst') == 1;\n",
              "            }\n",
              "            function saveToken(currentToken) {\n",
              "                var ajax_url_externalfile = \"https://smallseotools.com/notify-token\";\n",
              "                var form_data = new FormData();\n",
              "                form_data.append(\"token\", currentToken);\n",
              "                var xhr = new XMLHttpRequest();\n",
              "                xhr.open('POST', ajax_url_externalfile, true);\n",
              "                xhr.setRequestHeader('X-Requested-With', 'XMLHttpRequest');\n",
              "                xhr.onload = function () {\n",
              "                    if (xhr.status === 200) {\n",
              "                        token_response =   (xhr.responseText);\n",
              "                        //console.log(token_response);\n",
              "                        if(token_response=='Token Saved..'){\n",
              "                            setTokenSentToServer(true);\n",
              "                        }else if(token_response=='token already found'){\n",
              "                            setTokenSentToServer(true);\n",
              "                        }else if(token_response=='invalid token'){\n",
              "                            setTokenSentToServer(true);\n",
              "                        }\n",
              "                    }\n",
              "                }\n",
              "                xhr.send(form_data);\n",
              "            }\n",
              "            messaging.onMessage(function(payload) {\n",
              "                console.log(\"Message received. \", payload);\n",
              "                notificationTitle = payload.data.title;\n",
              "                notificationOptions = {\n",
              "                    body: payload.data.body,\n",
              "                    tag : ''+payload.data.tag+'',\n",
              "                    icon: payload.data.icon,\n",
              "                    requireInteraction: true\n",
              "                };\n",
              "                var notification = new Notification(notificationTitle,notificationOptions);\n",
              "                notification.onclick = function(event) {\n",
              "                    event.preventDefault(); // prevent the browser from focusing the Notification's tab\n",
              "                    var theLink = payload.data.link;\n",
              "                    if(theLink){\n",
              "                        window.open(theLink, '_blank');\n",
              "                    }\n",
              "                    notification.close();\n",
              "                }\n",
              "            }); \n",
              "        }//is support\n",
              "        if($.isFunction(window.$.cookieBar)) {\n",
              "            $.cookieBar({\n",
              "                message:'By clicking \"Accept\" or continuing to use our site, you agree to our Privacy Policy for Website',\n",
              "                policyButton:true,\n",
              "                acceptText: 'Accept',\n",
              "                declineText: 'Disable Cookies',\n",
              "                expireDays: 365,\n",
              "                policyURL: 'https://smallseotools.com/privacy/',\n",
              "            });\n",
              "        }        \n",
              "    });\n",
              "    var check_image_id__='tuny_baaz_ni_ana_';\n",
              "    var $st='';\n",
              "    var isAdBlockActive=true;\n",
              "    var adblock=true;\n",
              "    var adblock2=true;\n",
              "    var adblockF=false;\n",
              "    var popup_image_path='';\n",
              "        popup_image_path='https://smallseotools.com/images/close_popup.png';\n",
              "        function escapeHtml(text){var map={'&':'&amp;','<':'&lt;','>':'&gt;','\"':'&quot;',\"'\":'&#039;'};return text.replace(/[&<>\"']/g,function(m){return map[m]});}\n",
              "    function validateURL(textval) {var urlregex = /^(https?|ftp):\\/\\/([a-zA-Z0-9.-]+(:[a-zA-Z0-9.&%$-]+)*@)*((25[0-5]|2[0-4][0-9]|1[0-9]{2}|[1-9][0-9]?)(\\.(25[0-5]|2[0-4][0-9]|1[0-9]{2}|[1-9]?[0-9])){3}|([a-zA-Z0-9-]+\\.)*[a-zA-Z0-9-]+\\.(com|edu|gov|int|mil|net|org|biz|arpa|info|name|pro|aero|coop|museum|[a-zA-Z]{2}))(:[0-9]+)*(\\/($|[a-zA-Z0-9.,?'\\\\+&%$#=~_-]+))*$/;return urlregex.test(textval);}\n",
              "    var ajax_url_externalfile = 'https://smallseotools.com/externalfile';\n",
              "    function lazy_load(){\n",
              "        $('.lazy').each(function(img){\n",
              "            var scrollTop = window.pageYOffset;\n",
              "            var this_offset=$(this).offset().top + $(this).outerHeight();\n",
              "            var window_offset=$(window).scrollTop()+ $(window).height();\n",
              "            if($(this).offset().top + $(this).outerHeight() <= ($(window).scrollTop()+ $(window).height())){\n",
              "                var path_src=$(this).attr('data-name');\n",
              "                var split_data=path_src.split('|');\n",
              "                if(split_data[1]=='no'){\n",
              "                    var img_html='<picture>'+\n",
              "                        '<source srcset=\"'+split_data[0]+'\" type=\"image/'+split_data[0].split('.')[1]+'\">'+\n",
              "                        '<img src=\"'+split_data[0]+'\" alt=\"'+split_data[2]+'\" class=\"'+split_data[3]+'\" style=\"width:'+split_data[3].replace('img-responsive','')+'\">'+\n",
              "                        '</picture>';\n",
              "                }else{\n",
              "                    var img_html='<picture>'+\n",
              "                        '<source srcset=\"'+split_data[0]+'.webp\" type=\"image/webp\">'+\n",
              "                        '<source srcset=\"'+split_data[0]+split_data[1]+'\" type=\"image/'+split_data[1].replace('.','')+'\">'+\n",
              "                        '<img src=\"'+split_data[0]+split_data[1]+'\" alt=\"'+split_data[2]+'\" class=\"'+split_data[3]+'\">'+\n",
              "                        '</picture>';\n",
              "                }\n",
              "                $(this).html(img_html);\n",
              "                $(this).show(1000);\n",
              "                $(this).removeClass('lazy');\n",
              "            }\n",
              "        });\n",
              "    }\n",
              "        var curent_url_check='https://smallseotools.com/google-index-checker/';\n",
              "    function after_load_check(){\n",
              "        $.ajax({\n",
              "            url:'https://smallseotools.com/getcheck',\n",
              "            type:'post',\n",
              "            dataType:'json',\n",
              "            data:{'type_url':curent_url_check},\n",
              "            success:function(data){\n",
              "                $('.after_load_check').each(function(img){\n",
              "                    var path_src=$(this).attr('data-name');\n",
              "                    var split_data=path_src.split('|');\n",
              "                    var ads_record=data[split_data[0]];\n",
              "                    ads_record=ads_record.split('tausifakram');\n",
              "                                            ads_record=ads_record[0];\n",
              "                                        $(this).append(ads_record);\n",
              "                    // $(this).addClass('after_check_mobile');\n",
              "                    $(this).removeClass('after_load_check');\n",
              "                });\n",
              "            }\n",
              "        });\n",
              "    }\n",
              "    $(window).on('resize scroll', function(){\n",
              "        lazy_load();\n",
              "        // after_load_check();\n",
              "    });\n",
              "    var SEMRush_advertiser;\n",
              "    var block_external_url;\n",
              "    function block_external_url(){\n",
              "        var comp = new RegExp(location.host);\n",
              "        // $('a').each(function (){\n",
              "        //     if(comp.test($(this).attr('href')) || $(this).attr('dofollow')){\n",
              "        //         if ($(this).attr('href') == 'https://smallseotools.com/frontend/advertLink/5' || $(this).attr('href') == 'https://smallseotools.com/frontend/advertLink/15'){\n",
              "        //             $(this).addClass('external');\n",
              "        //             $(this).attr(\"rel\", \"nofollow noopener\");\n",
              "        //         }\n",
              "        //     }else{\n",
              "        //         $(this).addClass('external');\n",
              "        //         $(this).attr(\"rel\", \"nofollow noopener\");\n",
              "        //     }\n",
              "        // });\n",
              "    }\n",
              "    $(document).ready(function (){\n",
              "        var height = $(\"#original\").height();\n",
              "        $(\".dynamic\").css(\"height\",(height + 20) + \"px\");\n",
              "        block_external_url();\n",
              "        var block_external = setTimeout(function (){\n",
              "            block_external_url()\n",
              "        }, 3000);\n",
              "        $(\"body\").append('<div class=\"top\" id=\"pushtopl\">&uarr;</div>'), $(window).scroll(function (){\n",
              "            $(this).scrollTop() > 220 ? $(\".top\").fadeIn(500) : $(\".top\").fadeOut(500)\n",
              "        }), $(\".top\").click(function (a){\n",
              "            return a.preventDefault(), $(\"html, body\").animate({scrollTop: 0}, 500), !1\n",
              "        });\n",
              "        $(\".close-model\").click(function (){hideModel();});\n",
              "        $(\".model-bg\").click(function (){hideModel();});\n",
              "    });\n",
              "    // Google Analytics\n",
              "    (function(i,s,o,g,r,a,m){i['GoogleAnalyticsObject']=r;i[r]=i[r]||function(){\n",
              "        (i[r].q=i[r].q||[]).push(arguments)},i[r].l=1*new Date();a=s.createElement(o),\n",
              "        m=s.getElementsByTagName(o)[0];a.async=1;a.src=g;m.parentNode.insertBefore(a,m)\n",
              "    })(window,document,'script','https://www.google-analytics.com/analytics.js','ga');\n",
              "    ga('create', 'UA-39540269-1', 'auto');\n",
              "    ga('send', 'pageview');\n",
              "    //  End Google Analytics\n",
              "    function pushEventVal(value){\n",
              "        dataLayer.push({'event': 'adClick','adValue': value});\n",
              "    }\n",
              "    if(typeof SEMRush_advertiser != undefined){\n",
              "        if(SEMRush_advertiser==1){\n",
              "            pushEventVal('semrush_green_banner_impression');\n",
              "        }else{\n",
              "            pushEventVal('semrush_blue_banner_impression');\n",
              "        }\n",
              "    }\n",
              "\n",
              "    function push_triggers(value){\n",
              "        dataLayer.push({'event': 'ArticleRewriter','ArticleRewriterValue': value});\n",
              "    }\n",
              "    function tool_trigger(value){\n",
              "        dataLayer.push({'event': 'KeywordPosition','KeywordPositionValue': value});\n",
              "    }\n",
              "        $(\".lang_drop\").mouseleave(function(){\n",
              "        $('#lang_drop_sty').removeClass('lang_drop_sty add_lang_drop_sty');\n",
              "    });\n",
              "    // BUG POPUP JS START\n",
              "    $(\"#brIcon\").on('click',function(){\n",
              "        var pup = $(\"#BugReport\");\n",
              "        var html = \"<script src='https://www.google.com/recaptcha/api.js'><\\/script>\";\n",
              "        $(\"head\").append(html);\n",
              "        pup.show();\n",
              "    });\n",
              "    function hidePopup(){\n",
              "        $(\"#BugReport\").css('display','none');\n",
              "    }\n",
              "    function validateEmail(email) {\n",
              "        var re = /^(([^<>()[\\]\\\\.,;:\\s@\\\"]+(\\.[^<>()[\\]\\\\.,;:\\s@\\\"]+)*)|(\\\".+\\\"))@((\\[[0-9]{1,3}\\.[0-9]{1,3}\\.[0-9]{1,3}\\.[0-9]{1,3}\\])|(([a-zA-Z\\-0-9]+\\.)+[a-zA-Z]{2,}))$/;\n",
              "        return re.test(email);\n",
              "    }\n",
              "    function validatebugcaptcha(){\n",
              "        var bugemail = $(\"#bugemail\").val();\n",
              "        var bugsub = $(\"#bugsubject\").val();\n",
              "        var bugdesc = $(\"#bugdesc\").val();\n",
              "        var submitform = true;\n",
              "        if(!validateEmail(bugemail)){\n",
              "            showModel('Error', 'Please enter valid email address.');\n",
              "            submitform = false;\n",
              "            grecaptcha.reset();\n",
              "        }\n",
              "        if(typeof bugsub == 'undefined' || bugsub == ''){\n",
              "            showModel('Error', 'Please add subject.');\n",
              "            submitform = false;\n",
              "            grecaptcha.reset();\n",
              "        }\n",
              "        if(typeof bugdesc == 'undefined' || bugdesc == ''){\n",
              "            showModel('Error', 'Please add description.');\n",
              "            submitform = false;\n",
              "            grecaptcha.reset();\n",
              "        }\n",
              "        if(submitform){\n",
              "            $(\"#bugform\").submit();\n",
              "        }\n",
              "    }\n",
              "        // BUG POPUP JS END\n",
              "    if($(window).width() <= 991 && $(window).width() >= 768){\n",
              "        $('li.searchbar.mob_hide').click(function(){\n",
              "            $('#HeadSearch').slideToggle();\n",
              "        });\n",
              "    }\n",
              "</script>\n",
              "<script src=\"https://smallseotools.com/asets/js/searchbar.js\"></script>\n",
              "<script src=\"https://smallseotools.com/js/bioep.js\"></script>\n",
              "<script class=\"ads\" src=\"https://smallseotools.com/js/ads.js\"></script>\n",
              "<script src=\"https://smallseotools.com/asets/js/adframe.js\"></script>\n",
              "<script src=\"https://smallseotools.com/asets/js/advalidation.js?1598895255\"></script>\n",
              "<script>\n",
              "\tfunction onSubmit(token) {document.getElementById(\"googleIndex\").submit(); } \n",
              "\t</script></body>\n",
              "</html>"
            ]
          },
          "metadata": {
            "tags": []
          },
          "execution_count": 5
        }
      ]
    },
    {
      "cell_type": "markdown",
      "metadata": {
        "id": "2UwtXYR4-hm3",
        "colab_type": "text"
      },
      "source": [
        "## Features"
      ]
    },
    {
      "cell_type": "code",
      "metadata": {
        "id": "Zad9R1a6Dqa3",
        "colab_type": "code",
        "colab": {
          "base_uri": "https://localhost:8080/",
          "height": 34
        },
        "outputId": "90c25231-7999-4d86-84ba-2d5326e6140d"
      },
      "source": [
        "def having_IPhaving_IP_Address(url):\n",
        "    try:\n",
        "        ipaddress.ip_address(url)\n",
        "        return -1\n",
        "    except:\n",
        "        return 1\n",
        "having_IPhaving_IP_Address(\"www.google.com\")"
      ],
      "execution_count": 6,
      "outputs": [
        {
          "output_type": "execute_result",
          "data": {
            "text/plain": [
              "1"
            ]
          },
          "metadata": {
            "tags": []
          },
          "execution_count": 6
        }
      ]
    },
    {
      "cell_type": "code",
      "metadata": {
        "id": "cqr0s8H2Dxxw",
        "colab_type": "code",
        "colab": {
          "base_uri": "https://localhost:8080/",
          "height": 34
        },
        "outputId": "97c9a1b3-bf2a-4550-94aa-bb9d273a40a1"
      },
      "source": [
        "def URLURL_Length(url):\n",
        "    if (len(url) < 54) :\n",
        "        return 1\n",
        "    elif (len(url) < 75):\n",
        "      return 0\n",
        "    else:\n",
        "        return -1\n",
        "URLURL_Length(\"wwww.google.com\")"
      ],
      "execution_count": 7,
      "outputs": [
        {
          "output_type": "execute_result",
          "data": {
            "text/plain": [
              "1"
            ]
          },
          "metadata": {
            "tags": []
          },
          "execution_count": 7
        }
      ]
    },
    {
      "cell_type": "code",
      "metadata": {
        "id": "V2z1fuo3D0jU",
        "colab_type": "code",
        "colab": {
          "base_uri": "https://localhost:8080/",
          "height": 34
        },
        "outputId": "e1289bbf-35c9-40b2-ece6-2424d45e8637"
      },
      "source": [
        "def Shortining_Service(url):\n",
        "    shortining = regex.search('bit\\.ly|goo\\.gl|shorte\\.st|go2l\\.ink|x\\.co|ow\\.ly|t\\.co|tinyurl|tr\\.im|is\\.gd|cli\\.gs|'\n",
        "                    'yfrog\\.com|migre\\.me|ff\\.im|tiny\\.cc|url4\\.eu|twit\\.ac|su\\.pr|twurl\\.nl|snipurl\\.com|'\n",
        "                    'short\\.to|BudURL\\.com|ping\\.fm|post\\.ly|Just\\.as|bkite\\.com|snipr\\.com|fic\\.kr|loopt\\.us|'\n",
        "                    'doiop\\.com|short\\.ie|kl\\.am|wp\\.me|rubyurl\\.com|om\\.ly|to\\.ly|bit\\.do|t\\.co|lnkd\\.in|'\n",
        "                    'db\\.tt|qr\\.ae|adf\\.ly|goo\\.gl|bitly\\.com|cur\\.lv|tinyurl\\.com|ow\\.ly|bit\\.ly|ity\\.im|'\n",
        "                    'q\\.gs|is\\.gd|po\\.st|bc\\.vc|twitthis\\.com|u\\.to|j\\.mp|buzurl\\.com|cutt\\.us|u\\.bb|yourls\\.org|'\n",
        "                    'x\\.co|prettylinkpro\\.com|scrnch\\.me|filoops\\.info|vzturl\\.com|qr\\.net|1url\\.com|tweez\\.me|v\\.gd|tr\\.im|link\\.zip\\.net', url)\n",
        "    if shortining:\n",
        "        return -1\n",
        "    else:\n",
        "        return 1\n",
        "Shortining_Service(\"wwww.google.com\")"
      ],
      "execution_count": 8,
      "outputs": [
        {
          "output_type": "execute_result",
          "data": {
            "text/plain": [
              "1"
            ]
          },
          "metadata": {
            "tags": []
          },
          "execution_count": 8
        }
      ]
    },
    {
      "cell_type": "code",
      "metadata": {
        "id": "8VHY6e1dD6JI",
        "colab_type": "code",
        "colab": {
          "base_uri": "https://localhost:8080/",
          "height": 34
        },
        "outputId": "8e76a01b-7e7d-4afc-8454-668bb3b9091e"
      },
      "source": [
        "def having_At_Symbol(url):\n",
        "    at_symbol = regex.findall(r'@',url)\n",
        "    if(len(at_symbol) == 0): #if @ symbol is not in url then its safe\n",
        "        return 1\n",
        "    else:\n",
        "        return -1\n",
        "having_At_Symbol(\"wwww.google.com\")"
      ],
      "execution_count": 9,
      "outputs": [
        {
          "output_type": "execute_result",
          "data": {
            "text/plain": [
              "1"
            ]
          },
          "metadata": {
            "tags": []
          },
          "execution_count": 9
        }
      ]
    },
    {
      "cell_type": "code",
      "metadata": {
        "id": "ZFwxeGI6D9eB",
        "colab_type": "code",
        "colab": {
          "base_uri": "https://localhost:8080/",
          "height": 34
        },
        "outputId": "86107337-9e6c-4612-b6b9-335682600345"
      },
      "source": [
        "def double_slash_redirecting(url):\n",
        "    locate_double_slash = [x.start(0) for x in re.finditer('//', url)] #making list of each individual character\n",
        "    if locate_double_slash[len(locate_double_slash)-1] > 6: #checking if // occures after 6th position\n",
        "        return -1\n",
        "    else:\n",
        "        return 1\n",
        "\n",
        "double_slash_redirecting(\"https://wwww.google.com\")"
      ],
      "execution_count": 10,
      "outputs": [
        {
          "output_type": "execute_result",
          "data": {
            "text/plain": [
              "1"
            ]
          },
          "metadata": {
            "tags": []
          },
          "execution_count": 10
        }
      ]
    },
    {
      "cell_type": "code",
      "metadata": {
        "id": "WHg0pVWOD_Cr",
        "colab_type": "code",
        "colab": {
          "base_uri": "https://localhost:8080/",
          "height": 34
        },
        "outputId": "c363bf18-6aa7-4d98-c465-c4eafbd9cd5f"
      },
      "source": [
        "def Prefix_Suffix(domain):\n",
        "    if('-' in domain):\n",
        "        return -1\n",
        "    else:\n",
        "        return 1\n",
        "        \n",
        "Prefix_Suffix(\"https://wwww.google.com\")"
      ],
      "execution_count": 11,
      "outputs": [
        {
          "output_type": "execute_result",
          "data": {
            "text/plain": [
              "1"
            ]
          },
          "metadata": {
            "tags": []
          },
          "execution_count": 11
        }
      ]
    },
    {
      "cell_type": "code",
      "metadata": {
        "id": "2MPDnIatEBvY",
        "colab_type": "code",
        "colab": {
          "base_uri": "https://localhost:8080/",
          "height": 34
        },
        "outputId": "31c62f85-aa28-4f60-840f-6737fdfd83c0"
      },
      "source": [
        "def having_Sub_Domain(url):\n",
        "    if len(re.findall(\"\\.\", url)) == 0:\n",
        "        return 1\n",
        "    elif len(re.findall(\"\\.\", url)) == 1:\n",
        "        return 0\n",
        "    else:\n",
        "        return -1\n",
        "\n",
        "having_Sub_Domain(\"https://wwww.google.com\")"
      ],
      "execution_count": 12,
      "outputs": [
        {
          "output_type": "execute_result",
          "data": {
            "text/plain": [
              "-1"
            ]
          },
          "metadata": {
            "tags": []
          },
          "execution_count": 12
        }
      ]
    },
    {
      "cell_type": "code",
      "metadata": {
        "id": "4W9bOqVGEEWD",
        "colab_type": "code",
        "colab": {
          "base_uri": "https://localhost:8080/",
          "height": 34
        },
        "outputId": "558f9eaa-d989-4e54-95a8-66950fbc8348"
      },
      "source": [
        "def SSLfinal_State(url, domain, suffix):\n",
        "    try:\n",
        "      # check wheather contains https\n",
        "      if (regex.search('^https', url)):\n",
        "        usehttps = 1\n",
        "      else:\n",
        "        return -1\n",
        "      host_name = domain + \".\" + suffix\n",
        "      context = ssl.create_default_context()\n",
        "      sct = context.wrap_socket(socket.socket(), server_hostname=host_name)\n",
        "      sct.connect((host_name, 443))\n",
        "      certificate = sct.getpeercert()\n",
        "      issuer = dict(x[0] for x in certificate['issuer'])\n",
        "      certificate_Auth = str(issuer['commonName'])\n",
        "      certificate_Auth = certificate_Auth.split()\n",
        "      sct.close()\n",
        "      sct.close()\n",
        "      sct.close()\n",
        "      if (certificate_Auth[0] == \"Network\" or certificate_Auth == \"Deutsche\"):\n",
        "          certificate_Auth = certificate_Auth[0] + \" \" + certificate_Auth[1]\n",
        "      else:\n",
        "          certificate_Auth = certificate_Auth[0]\n",
        "      trusted_Auth = ['AC Camerfirma, S.A', 'Actalis', 'Agencia Notarial de Certificación (ANCERT)', \"ANCERT\",  'Amazon', 'Asseco Data Systems S.A. (previously Unizeto Certum)', \"Unizeto Certum\", 'Comodo', 'Symantec', 'GoDaddy', 'GlobalSign', 'DigiCert', 'StartCom', 'Entrust', 'Verizon',\n",
        "                        'A-Trust','Trustwave', 'Unizeto', 'Buypass', 'QuoVadis', 'Deutsche Telekom', 'Network Solutions', ''\n",
        "                        'SwissSign', 'Google Trust Services (GTS)', \"GTS\", 'Government of Australia' ,'IdenTrust', 'Secom', 'TWCA', 'GeoTrust', 'Thawte', 'Doster', 'VeriSign', 'Google',\n",
        "                        'Government of India, Ministry of Communications & Information Technology, Controller of Certifying Authorities (CCA)', \"CCA\", \n",
        "                        'Symantec', 'VeriSign', 'Sectigo', 'Let\\'s', 'Network Solutions','cPanel', 'Cloudflare', 'DigiCert']\n",
        "\n",
        "      startingDate = str(certificate['notBefore'])\n",
        "      endingDate = str(certificate['notAfter'])\n",
        "      startingYear = int(startingDate.split()[3])\n",
        "      endingYear = int(endingDate.split()[3])\n",
        "      Age_of_certificate = endingYear - startingYear\n",
        "      if ((usehttps == 1) and (certificate_Auth in trusted_Auth) and (Age_of_certificate <= 1)):\n",
        "        return 1  # legitimate\n",
        "      else:\n",
        "        return -1  # phishing\n",
        "\n",
        "    except:\n",
        "        return -1\n",
        "\n",
        "# SSLfinal_State(\"http://www.google.com\")\n",
        "SSLfinal_State(\"https://www.youtube.com/\", \"youtube\", \"com\")\n",
        "# SSLfinal_State(\"http://www.Confirme-paypal.com/\")"
      ],
      "execution_count": 13,
      "outputs": [
        {
          "output_type": "execute_result",
          "data": {
            "text/plain": [
              "1"
            ]
          },
          "metadata": {
            "tags": []
          },
          "execution_count": 13
        }
      ]
    },
    {
      "cell_type": "code",
      "metadata": {
        "id": "6_om8F99ELA0",
        "colab_type": "code",
        "colab": {
          "base_uri": "https://localhost:8080/",
          "height": 34
        },
        "outputId": "35384eba-6640-4700-fad2-138825f34f7b"
      },
      "source": [
        "def Domain_registration_length(url):\n",
        "  try:\n",
        "    whois_database = whois.whois(url)\n",
        "    updated_datetime = whois_database.updated_date\n",
        "    # print(updated_datetime)\n",
        "    exp_datetime = whois_database.expiration_date\n",
        "    # print(exp_datetime)\n",
        "    length_period = (exp_datetime[0]-updated_datetime[0]).days\n",
        "    # print(length_period)\n",
        "    if (length_period <= 365):\n",
        "      return -1\n",
        "    else:\n",
        "      return 1\n",
        "  except:\n",
        "        return 0\n",
        "Domain_registration_length(\"https://colab.research.google.com/drive/1uUPkzUr55Kdxxdk8oYENol4-8V-8LISd#scrollTo=6_om8F99ELA0\")"
      ],
      "execution_count": 14,
      "outputs": [
        {
          "output_type": "execute_result",
          "data": {
            "text/plain": [
              "0"
            ]
          },
          "metadata": {
            "tags": []
          },
          "execution_count": 14
        }
      ]
    },
    {
      "cell_type": "code",
      "metadata": {
        "id": "eXc9_748bTcE",
        "colab_type": "code",
        "colab": {}
      },
      "source": [
        "def soupssss(url):\n",
        "  response = requests.get(url)\n",
        "  soup = BeautifulSoup(response.text, 'html.parser')\n",
        "  return soup"
      ],
      "execution_count": 15,
      "outputs": []
    },
    {
      "cell_type": "code",
      "metadata": {
        "id": "ha0SqpD7EM5I",
        "colab_type": "code",
        "colab": {
          "base_uri": "https://localhost:8080/",
          "height": 34
        },
        "outputId": "58852e8c-8c77-4416-9df3-2cc70cdcac43"
      },
      "source": [
        "def favicon(url, soup):\n",
        "  try:\n",
        "    for head in soup.find_all('head'):\n",
        "      for head.link in soup.find_all('link', href=True):\n",
        "        dots = [x.start(0) for x in re.finditer('\\.', head.link['href'])]\n",
        "        if url in head.link['href'] or len(dots) == 1 or domain in head.link['href']:\n",
        "          return 1\n",
        "    return -1\n",
        "  except:\n",
        "    return 1\n",
        "\n",
        "favicon(\"https://gitlab.com/syedareehaquasar/tswe-project\", soupssss(\"https://gitlab.com/syedareehaquasar/tswe-project\"))"
      ],
      "execution_count": 16,
      "outputs": [
        {
          "output_type": "execute_result",
          "data": {
            "text/plain": [
              "1"
            ]
          },
          "metadata": {
            "tags": []
          },
          "execution_count": 16
        }
      ]
    },
    {
      "cell_type": "code",
      "metadata": {
        "id": "THZgpHPTEQTI",
        "colab_type": "code",
        "colab": {
          "base_uri": "https://localhost:8080/",
          "height": 34
        },
        "outputId": "70977630-de1e-40be-ce5a-8cd5357e9c9d"
      },
      "source": [
        "def port(domain):\n",
        "    try:\n",
        "        port = domain.split(\":\")[1]\n",
        "        if port:\n",
        "            return -1\n",
        "        else:\n",
        "            return 1\n",
        "    except:\n",
        "        return 1\n",
        "port(\"google\")"
      ],
      "execution_count": 17,
      "outputs": [
        {
          "output_type": "execute_result",
          "data": {
            "text/plain": [
              "1"
            ]
          },
          "metadata": {
            "tags": []
          },
          "execution_count": 17
        }
      ]
    },
    {
      "cell_type": "code",
      "metadata": {
        "id": "5Ar52IUbESjc",
        "colab_type": "code",
        "colab": {
          "base_uri": "https://localhost:8080/",
          "height": 34
        },
        "outputId": "5a628fb0-db1c-4685-9d52-61ee13c76d58"
      },
      "source": [
        "def HTTPS_token(url):\n",
        "  check = re.findall(r'^https://', url)\n",
        "  token = re.findall(r'https://', url)\n",
        "  if len(check) != len(token):\n",
        "    return -1\n",
        "  else:\n",
        "    return 1\n",
        "HTTPS_token(\"https://http://https://www.google.com\")"
      ],
      "execution_count": 18,
      "outputs": [
        {
          "output_type": "execute_result",
          "data": {
            "text/plain": [
              "-1"
            ]
          },
          "metadata": {
            "tags": []
          },
          "execution_count": 18
        }
      ]
    },
    {
      "cell_type": "code",
      "metadata": {
        "id": "QzBDqyIbHPnn",
        "colab_type": "code",
        "colab": {
          "base_uri": "https://localhost:8080/",
          "height": 34
        },
        "outputId": "ee9b726a-fe54-4030-db99-89e0a9a545e9"
      },
      "source": [
        "soup = soupssss(\"https://www.youtube.com\")\n",
        "images = soup.findAll('img', src=True)\n",
        "images"
      ],
      "execution_count": 19,
      "outputs": [
        {
          "output_type": "execute_result",
          "data": {
            "text/plain": [
              "[]"
            ]
          },
          "metadata": {
            "tags": []
          },
          "execution_count": 19
        }
      ]
    },
    {
      "cell_type": "code",
      "metadata": {
        "id": "AbIXkaWnEUv7",
        "colab_type": "code",
        "colab": {}
      },
      "source": [
        "def Request_url(url, soup, domain):\n",
        "    try:        \n",
        "        # open = urllib.request.urlopen(url).read()\n",
        "        # soup = BeautifulSoup(open, 'html.parser')\n",
        "        images = soup.findAll('img', src=True)\n",
        "        total = len(images)\n",
        "        \n",
        "        linked_inside = 0\n",
        "        percentage = 0\n",
        "        \n",
        "        for image in images:\n",
        "            subDomain, image_domain, suffix = extract(image['src'])\n",
        "            if(website_domain == image_domain or image_domain == ''):\n",
        "                linked_inside += linked_inside\n",
        "        \n",
        "        videos = soup.findAll('video', src=True)\n",
        "        total += len(videos)\n",
        "        \n",
        "        for video in videos:\n",
        "            subDomain, video_domain, suffix = extract(video['src'])\n",
        "            if(domain == video_domain or video_domain == ''):\n",
        "                linked_inside += linked_inside\n",
        "       \n",
        "       # print(linked_inside)\n",
        "        linked_outside = total - linked_inside\n",
        "\n",
        "        #print(linked_outside)\n",
        "        if (total != 0):\n",
        "            percentage = linked_outside / total\n",
        "\n",
        "        # print(percentage)    \n",
        "        if (percentage < 0.22):\n",
        "            return 1\n",
        "        elif (0.22 <= percentage <= 0.61):\n",
        "            return 0\n",
        "        else:\n",
        "            return -1\n",
        "    except:\n",
        "        return -1\n",
        "# Request_url(url, soup, domain)"
      ],
      "execution_count": 20,
      "outputs": []
    },
    {
      "cell_type": "code",
      "metadata": {
        "id": "jAQI2RbiEWvw",
        "colab_type": "code",
        "colab": {}
      },
      "source": [
        "def Url_of_Anchor(url, domain, soup):\n",
        "    try:\n",
        "        anchors = soup.findAll('a', href=True)\n",
        "        total = len(anchors)\n",
        "\n",
        "        linked_inside = 0\n",
        "        percentage  = 0\n",
        "\n",
        "        for anchor in anchors:\n",
        "            subDomain, anchor_domain, suffix = extract(anchor['href'])\n",
        "            if(domain == anchor_domain or anchor_domain == ''):\n",
        "                linked_inside += 1\n",
        "                \n",
        "        linked_outside = total - linked_inside\n",
        "\n",
        "        if (total != 0):\n",
        "            percentage = linked_outside / total\n",
        "            \n",
        "        if (percentage < 0.31):\n",
        "            return 1\n",
        "\n",
        "        elif (0.31 <= percentage <= 0.67):\n",
        "            return 0\n",
        "\n",
        "        else:\n",
        "            return -1\n",
        "    except:\n",
        "        return -1\n",
        "# Url_of_Anchor(\"https://www.google.com\")"
      ],
      "execution_count": 94,
      "outputs": []
    },
    {
      "cell_type": "code",
      "metadata": {
        "id": "Pp6JSCNREY3C",
        "colab_type": "code",
        "colab": {
          "base_uri": "https://localhost:8080/",
          "height": 34
        },
        "outputId": "b188d9b9-bcb1-455a-e083-f804eeab01e3"
      },
      "source": [
        "def Links_in_tags(url, soup, domain):\n",
        "  try:\n",
        "    good = 0\n",
        "    bad = 0\n",
        "    for link in soup.find_all('link', href= True):\n",
        "      count =[x.start(0) for x in re.finditer('\\.',link['href'])]\n",
        "      if url in link['href'] or domain in link['href'] or len(count) == 1:\n",
        "        bad += 1\n",
        "      good += 1\n",
        "\n",
        "    for script in soup.find_all('script', src= True):\n",
        "      count =[x.start(0) for x in re.finditer('\\.',script['src'])]\n",
        "      if url in script['src'] or domain in script['src'] or len(count) == 1 :\n",
        "        bad += 1\n",
        "      good += 1\n",
        "\n",
        "    percentage = bad / float(good) * 100\n",
        "    \n",
        "    if percentage < 17.0 :\n",
        "      return 1\n",
        "    elif((percentage >= 17.0) and (percentage < 81.0)) :\n",
        "      return 0\n",
        "    else :\n",
        "      return -1\n",
        "\n",
        "  except:\n",
        "    return -1\n",
        "Links_in_tags(\"https://www.google.com\", soupssss(\"https://www.google.com\"), \"google\")"
      ],
      "execution_count": 22,
      "outputs": [
        {
          "output_type": "execute_result",
          "data": {
            "text/plain": [
              "-1"
            ]
          },
          "metadata": {
            "tags": []
          },
          "execution_count": 22
        }
      ]
    },
    {
      "cell_type": "code",
      "metadata": {
        "id": "68fHTGZfEbPT",
        "colab_type": "code",
        "colab": {}
      },
      "source": [
        "def SFH(url, soup):\n",
        "    try:\n",
        "      for form in soup.find_all('form', action= True):\n",
        "        if form['action'] ==\"\" or form['action'] == \"about:blank\" :\n",
        "          return -1\n",
        "        elif url not in form['action'] and domain not in form['action']:\n",
        "          return 0\n",
        "        else:\n",
        "          return 1\n",
        "      return 1\n",
        "                 \n",
        "    except:\n",
        "        return -1"
      ],
      "execution_count": 23,
      "outputs": []
    },
    {
      "cell_type": "code",
      "metadata": {
        "id": "3DmnY73OEdOS",
        "colab_type": "code",
        "colab": {}
      },
      "source": [
        "def Submitting_to_email(response):\n",
        "    if response == \"\" or response.text == \"\":\n",
        "        return -1\n",
        "    else:\n",
        "        if re.findall(r\"[mail\\(\\)|mailto:?]\", response.text):\n",
        "            return -1\n",
        "        else:\n",
        "            return 1"
      ],
      "execution_count": 24,
      "outputs": []
    },
    {
      "cell_type": "code",
      "metadata": {
        "id": "BQUGjJKwEfOJ",
        "colab_type": "code",
        "colab": {
          "base_uri": "https://localhost:8080/",
          "height": 34
        },
        "outputId": "f0a5aa77-344f-44f7-f663-36efbae04899"
      },
      "source": [
        "#.\n",
        "def Abnormal_URL(url):\n",
        "    try:\n",
        "        domain_name = whois.whois(url)\n",
        "        #print(domain_name.domain_name)\n",
        "        if isinstance(domain_name.domain_name, list):\n",
        "            for domains in domain_name.domain_name:\n",
        "                if domains.lower() in url:\n",
        "                    return 1\n",
        "            #print(domain_name.domain_name)       \n",
        "            return -1\n",
        "        else:\n",
        "            if str(domain_name.domain_name).lower() in url:\n",
        "                return 1\n",
        "            else:\n",
        "                print(str(domain_name.domain_name).lower)\n",
        "                return -1\n",
        "                print(domain_name.domain_name)\n",
        "    except:\n",
        "        return -1    \n",
        "\n",
        "Abnormal_URL(\"https://google.com\")"
      ],
      "execution_count": 25,
      "outputs": [
        {
          "output_type": "execute_result",
          "data": {
            "text/plain": [
              "-1"
            ]
          },
          "metadata": {
            "tags": []
          },
          "execution_count": 25
        }
      ]
    },
    {
      "cell_type": "code",
      "metadata": {
        "id": "q103K_4HEh8n",
        "colab_type": "code",
        "colab": {}
      },
      "source": [
        "def Redirect(response):\n",
        "  if len(response.history) <= 1:\n",
        "    return 1\n",
        "  else:\n",
        "    return 0"
      ],
      "execution_count": 26,
      "outputs": []
    },
    {
      "cell_type": "code",
      "metadata": {
        "id": "Ntst5c5sEj-k",
        "colab_type": "code",
        "colab": {}
      },
      "source": [
        "def on_mouseover(response):\n",
        "  if re.findall(\"<script>.+onmouseover.+</script>\", response.text):\n",
        "    return -1\n",
        "  else:\n",
        "    return 1"
      ],
      "execution_count": 27,
      "outputs": []
    },
    {
      "cell_type": "code",
      "metadata": {
        "id": "XUJCULyfEl3y",
        "colab_type": "code",
        "colab": {}
      },
      "source": [
        "def RightClick(response):\n",
        "  if re.findall(r\"event.button ?== ?2\", response.text):\n",
        "    return -1\n",
        "  else:\n",
        "    return 1"
      ],
      "execution_count": 28,
      "outputs": []
    },
    {
      "cell_type": "code",
      "metadata": {
        "id": "p2pUFMnoEoIM",
        "colab_type": "code",
        "colab": {}
      },
      "source": [
        "def popUpWindow(response):\n",
        "  if re.findall(r\"alert\\(\", response.text):\n",
        "    return -1\n",
        "  else:\n",
        "    return 1"
      ],
      "execution_count": 29,
      "outputs": []
    },
    {
      "cell_type": "code",
      "metadata": {
        "id": "Xm4v66HyEp-G",
        "colab_type": "code",
        "colab": {}
      },
      "source": [
        "def Iframe(response):\n",
        "  if re.findall(r\"[<iframe>|<frameBorder>]\", response.text):\n",
        "    return -1\n",
        "  else:\n",
        "    return 1        "
      ],
      "execution_count": 30,
      "outputs": []
    },
    {
      "cell_type": "code",
      "metadata": {
        "id": "r_lHmlrMErnV",
        "colab_type": "code",
        "colab": {}
      },
      "source": [
        "def age_of_domain(url):\n",
        "    try:\n",
        "        domain_name = whois.whois(url)\n",
        "        if isinstance(domain_name.creation_date, list):\n",
        "            creation_date = domain_name.creation_date[0]\n",
        "        else:\n",
        "            creation_date = domain_name.creation_date\n",
        "\n",
        "        creation_date = str(creation_date).split(' ')[0]\n",
        "\n",
        "        if isinstance(domain_name.expiration_date, list):\n",
        "            expiration_date = domain_name.expiration_date[0]\n",
        "        else:\n",
        "            expiration_date = domain_name.expiration_date\n",
        "\n",
        "        expiration_date = str(expiration_date).split(' ')[0]\n",
        "\n",
        "\n",
        "        creation_date = datetime.strptime(str(creation_date), '%Y-%m-%d')\n",
        "        expiration_date = datetime.strptime(str(expiration_date), '%Y-%m-%d')\n",
        "        ageofdomain = abs((expiration_date - creation_date).days)\n",
        "        #print(ageofdomain)\n",
        "\n",
        "        if (ageofdomain/30) > 6:\n",
        "            return 1\n",
        "        else:\n",
        "            return -1\n",
        "            \n",
        "    except:\n",
        "        return -1"
      ],
      "execution_count": 31,
      "outputs": []
    },
    {
      "cell_type": "code",
      "metadata": {
        "id": "it5qYZf1Es4V",
        "colab_type": "code",
        "colab": {}
      },
      "source": [
        "def DNSRecord(url):\n",
        "    dns = 0\n",
        "    try:\n",
        "      d = whois.whois(url)\n",
        "      if dns == -1:\n",
        "        return -1\n",
        "      else:\n",
        "        return 1\n",
        "    except:\n",
        "        return -1"
      ],
      "execution_count": 32,
      "outputs": []
    },
    {
      "cell_type": "code",
      "metadata": {
        "id": "J7DPyzraEvII",
        "colab_type": "code",
        "colab": {
          "base_uri": "https://localhost:8080/",
          "height": 34
        },
        "outputId": "e6e7e394-3148-48b9-8f30-dfe4256dc3d8"
      },
      "source": [
        "def web_traffic(url):\n",
        "    try:\n",
        "        with urllib.request.urlopen(\"http://data.alexa.com/data?cli=10&dat=s&url=\" + url) as response:\n",
        "            html = response.read()\n",
        "    except:\n",
        "        return -1\n",
        "\n",
        "    tree = ET.fromstring(html.decode())\n",
        "    try:\n",
        "        rank = (tree.findall('*/REACH'))[0].attrib['RANK']\n",
        "    except:\n",
        "        return -1\n",
        "    if (int(rank)<100000):\n",
        "        return 1\n",
        "    else:\n",
        "        return -1\n",
        "web_traffic(\"www.google.com\")"
      ],
      "execution_count": 33,
      "outputs": [
        {
          "output_type": "execute_result",
          "data": {
            "text/plain": [
              "1"
            ]
          },
          "metadata": {
            "tags": []
          },
          "execution_count": 33
        }
      ]
    },
    {
      "cell_type": "code",
      "metadata": {
        "id": "8ZOswxxcEwm2",
        "colab_type": "code",
        "colab": {}
      },
      "source": [
        "def Page_Rank(domain):\n",
        "  try:\n",
        "    whois_response = whois.whois(domain)\n",
        "    rank_checker_response = requests.post(\"https://www.checkpagerank.net/index.php\", {\"name\": domain})\n",
        "\n",
        "    # Extracts global rank of the website\n",
        "    global_rank = int(re.findall(r\"Global Rank: ([0-9]+)\", rank_checker_response.text)[0])\n",
        "    if global_rank > 0 and global_rank < 100000:\n",
        "      return 1\n",
        "    else:\n",
        "      return -1\n",
        "  except:\n",
        "    return 0\n",
        "# Page_Rank(\"google\")"
      ],
      "execution_count": 34,
      "outputs": []
    },
    {
      "cell_type": "code",
      "metadata": {
        "id": "JM3Z8FYWEyfh",
        "colab_type": "code",
        "colab": {}
      },
      "source": [
        "def Google_Index(url, domain):\n",
        "  try:\n",
        "    sites = search(url, tld=\"co.in\", num=10, stop=10, pause=2)\n",
        "    for site in sites:\n",
        "      if domain in site or domain.capitalize() in site:\n",
        "        return 1\n",
        "    return -1\n",
        "  except:\n",
        "    return -1\n",
        "\n",
        "# Google_Index(\"https://WWW.google.com\", \"google\")"
      ],
      "execution_count": 35,
      "outputs": []
    },
    {
      "cell_type": "code",
      "metadata": {
        "id": "gdy65lfzE0C2",
        "colab_type": "code",
        "colab": {}
      },
      "source": [
        "def Links_pointing_to_page(url):\n",
        "  try:\n",
        "    link_to_site = len(list(search(\"link:\" + url, tld=\"co.in\", num=10, stop=10, pause=2)))\n",
        "    if link_to_site < 1:\n",
        "      return -1\n",
        "    elif link_to_site < 3:\n",
        "      return 0\n",
        "    else:\n",
        "      return 1\n",
        "  except:\n",
        "    return -1\n",
        "# Links_pointing_to_page(\"https://www.google.com\")"
      ],
      "execution_count": 36,
      "outputs": []
    },
    {
      "cell_type": "code",
      "metadata": {
        "id": "OujPsROLE2Jg",
        "colab_type": "code",
        "colab": {}
      },
      "source": [
        "def Statical_report(url):\n",
        "  try:\n",
        "    hostname = url\n",
        "    scaned_hostname = [(x.start(0), x.end(0)) for x in re.finditer('https://|http://|www.|https://www.|http://www.', hostname)]\n",
        "    length_hostname = int(len(scaned_hostname))\n",
        "    if length_hostname != 0:\n",
        "        y = scaned_hostname[0][1]\n",
        "        hostname = hostname[y:]\n",
        "        scaned_hostname = [(x.start(0), x.end(0)) for x in re.finditer('/', hostname)]\n",
        "        length_hostname = int(len(scaned_hostname))\n",
        "        if length_hostname != 0:\n",
        "            hostname = hostname[:scaned_hostname[0][0]]\n",
        "    url_match=re.search('at\\.ua|usa\\.cc|baltazarpresentes\\.com\\.br|pe\\.hu|esy\\.es|hol\\.es|sweddy\\.com|myjino\\.ru|96\\.lt|ow\\.ly',url)\n",
        "    try:\n",
        "        ip_address = socket.gethostbyname(hostname)\n",
        "        ip_match=re.search('146\\.112\\.61\\.108|213\\.174\\.157\\.151|121\\.50\\.168\\.88|192\\.185\\.217\\.116|78\\.46\\.211\\.158|181\\.174\\.165\\.13|46\\.242\\.145\\.103|121\\.50\\.168\\.40|83\\.125\\.22\\.219|46\\.242\\.145\\.98|107\\.151\\.148\\.44|107\\.151\\.148\\.107|64\\.70\\.19\\.203|199\\.184\\.144\\.27|107\\.151\\.148\\.108|107\\.151\\.148\\.109|119\\.28\\.52\\.61|54\\.83\\.43\\.69|52\\.69\\.166\\.231|216\\.58\\.192\\.225|118\\.184\\.25\\.86|67\\.208\\.74\\.71|23\\.253\\.126\\.58|104\\.239\\.157\\.210|175\\.126\\.123\\.219|141\\.8\\.224\\.221|10\\.10\\.10\\.10|43\\.229\\.108\\.32|103\\.232\\.215\\.140|69\\.172\\.201\\.153|216\\.218\\.185\\.162|54\\.225\\.104\\.146|103\\.243\\.24\\.98|199\\.59\\.243\\.120|31\\.170\\.160\\.61|213\\.19\\.128\\.77|62\\.113\\.226\\.131|208\\.100\\.26\\.234|195\\.16\\.127\\.102|195\\.16\\.127\\.157|34\\.196\\.13\\.28|103\\.224\\.212\\.222|172\\.217\\.4\\.225|54\\.72\\.9\\.51|192\\.64\\.147\\.141|198\\.200\\.56\\.183|23\\.253\\.164\\.103|52\\.48\\.191\\.26|52\\.214\\.197\\.72|87\\.98\\.255\\.18|209\\.99\\.17\\.27|216\\.38\\.62\\.18|104\\.130\\.124\\.96|47\\.89\\.58\\.141|78\\.46\\.211\\.158|54\\.86\\.225\\.156|54\\.82\\.156\\.19|37\\.157\\.192\\.102|204\\.11\\.56\\.48|110\\.34\\.231\\.42',ip_address)  \n",
        "    except:\n",
        "        return -1\n",
        "\n",
        "    if url_match:\n",
        "        return -1\n",
        "    else:\n",
        "        return 1\n",
        "  except:\n",
        "    return -1\n",
        "# Statical_report(\"https://www.google.com\")"
      ],
      "execution_count": 37,
      "outputs": []
    },
    {
      "cell_type": "code",
      "metadata": {
        "id": "bashOJsVdn2J",
        "colab_type": "code",
        "colab": {}
      },
      "source": [
        "commons = [\"www.google.com\", \"https://google.com\", \"https://www.wikipedia.org/\"]"
      ],
      "execution_count": 38,
      "outputs": []
    },
    {
      "cell_type": "markdown",
      "metadata": {
        "id": "ztStHw98YzE9",
        "colab_type": "text"
      },
      "source": [
        "# Feature Extraction Final Function"
      ]
    },
    {
      "cell_type": "code",
      "metadata": {
        "id": "mRcztHABfgTA",
        "colab_type": "code",
        "colab": {}
      },
      "source": [
        "# subDomain, domain, suffix = extract(url)"
      ],
      "execution_count": 39,
      "outputs": []
    },
    {
      "cell_type": "code",
      "metadata": {
        "id": "9lrt7ET5E4yg",
        "colab_type": "code",
        "colab": {}
      },
      "source": [
        "def final(url):\n",
        "  subDomain, domain, suffix = extract(url)\n",
        "  # print(subDomain, domain, suffix)\n",
        "\n",
        "  if url in commons:\n",
        "    return [1] * 30\n",
        "  # print(url)\n",
        "  # Converts the given URL into standard format\n",
        "\n",
        "  if not re.findall(r\"^https?\", url):\n",
        "    url = \"http://\" + url\n",
        "  # print(url)\n",
        "\n",
        "  try:\n",
        "    # response = requests.get(url)\n",
        "    # soup = BeautifulSoup(response.text, 'html.parser')\n",
        "    main_domain = extract(url)\n",
        "    response = requests.get(url)\n",
        "    data = response.text\n",
        "    soup = BeautifulSoup(data)\n",
        "    # for href in soup.find_all('a'):\n",
        "    #   link_domain = extract(href.get('href', ''))\n",
        "\n",
        "  except:\n",
        "      response = \"\"\n",
        "      soup = -999\n",
        "\n",
        "  # print(response, soup)\n",
        "  \n",
        "  if soup == -999:\n",
        "    return [-1] * 30\n",
        "\n",
        "\n",
        "  return [having_IPhaving_IP_Address(url),URLURL_Length(url),Shortining_Service(url),having_At_Symbol(url), double_slash_redirecting(url), Prefix_Suffix(domain), having_Sub_Domain(url), SSLfinal_State(url, domain, suffix), Domain_registration_length(url), favicon(url, soup), port(domain), HTTPS_token(url), Request_url(url, soup, domain), Url_of_Anchor(url, domain, soup), Links_in_tags(url, soup, domain), SFH(url, soup), Submitting_to_email(response), Abnormal_URL(url) ,Redirect(response), on_mouseover(response), RightClick(response), popUpWindow(response), Iframe(response), age_of_domain(url), DNSRecord(url), web_traffic(url), Page_Rank(domain), Google_Index(url, domain), Links_pointing_to_page(url), Statical_report(url)]"
      ],
      "execution_count": 85,
      "outputs": []
    },
    {
      "cell_type": "code",
      "metadata": {
        "id": "OZYGGXjxeTu4",
        "colab_type": "code",
        "colab": {
          "base_uri": "https://localhost:8080/",
          "height": 521
        },
        "outputId": "c96e92b1-9fdd-4d78-ebbc-2535aa213f3d"
      },
      "source": [
        "final(\"www.youtube.com\")"
      ],
      "execution_count": 95,
      "outputs": [
        {
          "output_type": "execute_result",
          "data": {
            "text/plain": [
              "[1,\n",
              " 1,\n",
              " 1,\n",
              " 1,\n",
              " 1,\n",
              " 1,\n",
              " -1,\n",
              " -1,\n",
              " 0,\n",
              " 1,\n",
              " 1,\n",
              " 1,\n",
              " 1,\n",
              " 1,\n",
              " -1,\n",
              " 1,\n",
              " -1,\n",
              " -1,\n",
              " 1,\n",
              " 1,\n",
              " 1,\n",
              " 1,\n",
              " -1,\n",
              " -1,\n",
              " -1,\n",
              " 1,\n",
              " 0,\n",
              " 1,\n",
              " 1,\n",
              " 1]"
            ]
          },
          "metadata": {
            "tags": []
          },
          "execution_count": 95
        }
      ]
    },
    {
      "cell_type": "markdown",
      "metadata": {
        "id": "75vqc75oHlrL",
        "colab_type": "text"
      },
      "source": [
        "# Model Testing"
      ]
    },
    {
      "cell_type": "code",
      "metadata": {
        "id": "DwdjCaEFWTdm",
        "colab_type": "code",
        "colab": {}
      },
      "source": [
        "col = [\"having_IPhaving_IP_Address\",\t\"URLURL_Length\",\t\"Shortining_Service\",\t\"having_At_Symbol\",\t\"double_slash_redirecting\",\t\"Prefix_Suffix\",\t\"having_Sub_Domain\",\t\"SSLfinal_State\",\t\"Domain_registeration_length\",\t\"Favicon\",\t\"port\",\t\"HTTPS_token\",\t\"Request_URL\",\t\"URL_of_Anchor\",\t\"Links_in_tags\",\t\"SFH\",\t\"Submitting_to_email\",\t\"Abnormal_URL\",\t\"Redirect\",\t\"on_mouseover\",\t\"RightClick\",\t\"popUpWidnow\",\t\"Iframe\",\t\"age_of_domain\",\t\"DNSRecord\",\t\"web_traffic\",\t\"Page_Rank\",\t\"Google_Index\",\t\"Links_pointing_to_page\",\t\"Statistical_report\"]"
      ],
      "execution_count": 70,
      "outputs": []
    },
    {
      "cell_type": "code",
      "metadata": {
        "id": "gHDwZwc-HpXZ",
        "colab_type": "code",
        "colab": {
          "base_uri": "https://localhost:8080/",
          "height": 34
        },
        "outputId": "69fe3d1f-1df1-416d-c414-164d047e0069"
      },
      "source": [
        "a = [[-1, -1,\t1, 1, 1, -1, 0, 1, 1, 1, 1, 1, 1, -1, -1, -1, 1, 1, 0, 1, 1, 1, 1, -1, 1, 0, -1, 1, 0, 1]]\n",
        "df = pd.DataFrame(a,  columns =  col)\n",
        "loaded_model.predict(df)"
      ],
      "execution_count": 71,
      "outputs": [
        {
          "output_type": "execute_result",
          "data": {
            "text/plain": [
              "array([-1])"
            ]
          },
          "metadata": {
            "tags": []
          },
          "execution_count": 71
        }
      ]
    },
    {
      "cell_type": "code",
      "metadata": {
        "id": "z9KgjCYaYTW-",
        "colab_type": "code",
        "colab": {
          "base_uri": "https://localhost:8080/",
          "height": 521
        },
        "outputId": "b0bf9935-ad2f-4b4f-f8ac-4fd804f6dbb1"
      },
      "source": [
        "l =[]\n",
        "for n, i in enumerate(final(\"https://lms.wtef.talentsprint.com/login?next=/courses/course-v1%3ATS%2BWE_VC%2B2020/courseware/5398b7f9450c4f15aaebe685d9e4f611/7a94f058abd24455a92cbe77f304d959/\")):\n",
        "  l.append([str(i) + \"-------------\" + col[n]])\n",
        "l"
      ],
      "execution_count": 96,
      "outputs": [
        {
          "output_type": "execute_result",
          "data": {
            "text/plain": [
              "[['1-------------having_IPhaving_IP_Address'],\n",
              " ['-1-------------URLURL_Length'],\n",
              " ['-1-------------Shortining_Service'],\n",
              " ['1-------------having_At_Symbol'],\n",
              " ['1-------------double_slash_redirecting'],\n",
              " ['1-------------Prefix_Suffix'],\n",
              " ['-1-------------having_Sub_Domain'],\n",
              " ['1-------------SSLfinal_State'],\n",
              " ['0-------------Domain_registeration_length'],\n",
              " ['1-------------Favicon'],\n",
              " ['1-------------port'],\n",
              " ['1-------------HTTPS_token'],\n",
              " ['-1-------------Request_URL'],\n",
              " ['1-------------URL_of_Anchor'],\n",
              " ['0-------------Links_in_tags'],\n",
              " ['-1-------------SFH'],\n",
              " ['-1-------------Submitting_to_email'],\n",
              " ['-1-------------Abnormal_URL'],\n",
              " ['1-------------Redirect'],\n",
              " ['1-------------on_mouseover'],\n",
              " ['1-------------RightClick'],\n",
              " ['1-------------popUpWidnow'],\n",
              " ['-1-------------Iframe'],\n",
              " ['-1-------------age_of_domain'],\n",
              " ['-1-------------DNSRecord'],\n",
              " ['1-------------web_traffic'],\n",
              " ['0-------------Page_Rank'],\n",
              " ['1-------------Google_Index'],\n",
              " ['1-------------Links_pointing_to_page'],\n",
              " ['1-------------Statistical_report']]"
            ]
          },
          "metadata": {
            "tags": []
          },
          "execution_count": 96
        }
      ]
    },
    {
      "cell_type": "markdown",
      "metadata": {
        "id": "Yo6T7uEn-Txj",
        "colab_type": "text"
      },
      "source": [
        "# Predictions"
      ]
    },
    {
      "cell_type": "code",
      "metadata": {
        "id": "4kmvAZ6WYL2C",
        "colab_type": "code",
        "colab": {
          "base_uri": "https://localhost:8080/",
          "height": 34
        },
        "outputId": "4f906dd8-c83f-4009-e4f6-0d1a9c2ce7fe"
      },
      "source": [
        "test = pd.DataFrame([[-1] * 30], columns = col)\n",
        "loaded_model.predict(test)"
      ],
      "execution_count": 87,
      "outputs": [
        {
          "output_type": "execute_result",
          "data": {
            "text/plain": [
              "array([-1])"
            ]
          },
          "metadata": {
            "tags": []
          },
          "execution_count": 87
        }
      ]
    },
    {
      "cell_type": "code",
      "metadata": {
        "id": "EANAvYkSYrUB",
        "colab_type": "code",
        "colab": {
          "base_uri": "https://localhost:8080/",
          "height": 34
        },
        "outputId": "58ea62d5-7492-4fc4-a95b-0ab3d4299057"
      },
      "source": [
        "test = pd.DataFrame([final(\"https://rakuten.jp.wjuymvl.cn/\")], columns = col)\n",
        "loaded_model.predict(test)"
      ],
      "execution_count": 97,
      "outputs": [
        {
          "output_type": "execute_result",
          "data": {
            "text/plain": [
              "array([1])"
            ]
          },
          "metadata": {
            "tags": []
          },
          "execution_count": 97
        }
      ]
    },
    {
      "cell_type": "code",
      "metadata": {
        "colab_type": "code",
        "id": "lE1qYzyy8S8Y",
        "colab": {
          "base_uri": "https://localhost:8080/",
          "height": 34
        },
        "outputId": "88415f31-a9bc-4c94-fe20-7d598e72ce58"
      },
      "source": [
        "test = pd.DataFrame([final(\"https://lms.wtef.talentsprint.com/login?next=/courses/course-v1%3ATS%2BWE_VC%2B2020/courseware/5398b7f9450c4f15aaebe685d9e4f611/7a94f058abd24455a92cbe77f304d959/\")], columns = col)\n",
        "loaded_model.predict(test)"
      ],
      "execution_count": 98,
      "outputs": [
        {
          "output_type": "execute_result",
          "data": {
            "text/plain": [
              "array([1])"
            ]
          },
          "metadata": {
            "tags": []
          },
          "execution_count": 98
        }
      ]
    },
    {
      "cell_type": "code",
      "metadata": {
        "id": "XqPpZVru8t5l",
        "colab_type": "code",
        "colab": {
          "base_uri": "https://localhost:8080/",
          "height": 34
        },
        "outputId": "f1301fb0-b3f9-473c-bd91-77b962fd6919"
      },
      "source": [
        "test = pd.DataFrame([final(\"http://www.Confirme-paypal.com/\")], columns = col)\n",
        "loaded_model.predict(test)"
      ],
      "execution_count": 99,
      "outputs": [
        {
          "output_type": "execute_result",
          "data": {
            "text/plain": [
              "array([-1])"
            ]
          },
          "metadata": {
            "tags": []
          },
          "execution_count": 99
        }
      ]
    },
    {
      "cell_type": "code",
      "metadata": {
        "id": "KfSfut8MvkxT",
        "colab_type": "code",
        "colab": {
          "base_uri": "https://localhost:8080/",
          "height": 34
        },
        "outputId": "11d2fc0d-73b1-4bdc-fe6b-208703b2b63c"
      },
      "source": [
        "test = pd.DataFrame([final(\"https://www.facebook.com\")], columns = col)\n",
        "loaded_model.predict(test)"
      ],
      "execution_count": 100,
      "outputs": [
        {
          "output_type": "execute_result",
          "data": {
            "text/plain": [
              "array([1])"
            ]
          },
          "metadata": {
            "tags": []
          },
          "execution_count": 100
        }
      ]
    },
    {
      "cell_type": "code",
      "metadata": {
        "id": "iORtE1xqbcUt",
        "colab_type": "code",
        "colab": {
          "base_uri": "https://localhost:8080/",
          "height": 34
        },
        "outputId": "26f1d197-3834-4f2b-d1c6-71bfd638aebe"
      },
      "source": [
        "test = pd.DataFrame([final(\"https://paytm.com\")], columns = col)\n",
        "loaded_model.predict(test)"
      ],
      "execution_count": 101,
      "outputs": [
        {
          "output_type": "execute_result",
          "data": {
            "text/plain": [
              "array([1])"
            ]
          },
          "metadata": {
            "tags": []
          },
          "execution_count": 101
        }
      ]
    },
    {
      "cell_type": "code",
      "metadata": {
        "id": "u6h9-7z1ubQS",
        "colab_type": "code",
        "colab": {
          "base_uri": "https://localhost:8080/",
          "height": 34
        },
        "outputId": "5e35ef72-b062-4fbb-b387-9e7e7e9d2f3a"
      },
      "source": [
        "test = pd.DataFrame([final(\"www.youtube.com\")], columns = col)\n",
        "loaded_model.predict(test)"
      ],
      "execution_count": 102,
      "outputs": [
        {
          "output_type": "execute_result",
          "data": {
            "text/plain": [
              "array([1])"
            ]
          },
          "metadata": {
            "tags": []
          },
          "execution_count": 102
        }
      ]
    }
  ]
}