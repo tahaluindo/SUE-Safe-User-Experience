{
  "nbformat": 4,
  "nbformat_minor": 0,
  "metadata": {
    "colab": {
      "name": "updated Dataset_features.ipynb",
      "provenance": [],
      "collapsed_sections": []
    },
    "kernelspec": {
      "name": "python3",
      "display_name": "Python 3"
    }
  },
  "cells": [
    {
      "cell_type": "markdown",
      "metadata": {
        "id": "0BwrQIg6Vfys",
        "colab_type": "text"
      },
      "source": [
        "[Dataset Used ](https://www.kaggle.com/akashkr/phishing-website-dataset)"
      ]
    },
    {
      "cell_type": "markdown",
      "metadata": {
        "id": "6nFpu8gTbKSc",
        "colab_type": "text"
      },
      "source": [
        "#Importing Libraries"
      ]
    },
    {
      "cell_type": "code",
      "metadata": {
        "id": "TDJYhjuyzngq",
        "colab_type": "code",
        "colab": {
          "base_uri": "https://localhost:8080/",
          "height": 191
        },
        "outputId": "9689b439-1c41-4372-e225-182623c50506"
      },
      "source": [
        "import sys\n",
        "import csv\n",
        "import pandas as pd\n",
        "import regex\n",
        "#provides the capabilities to create, manipulate and operate on IPv4 and IPv6 addresses and networks.\n",
        "#used for extracting having_ip_address feature \n",
        "import ipaddress\n",
        "!pip install tldextract\n",
        "from tldextract import extract\n",
        "import ssl\n",
        "from urllib.request import urlopen, Request\n",
        "import xml.etree.ElementTree as ET\n",
        "import datetime\n",
        "from bs4 import BeautifulSoup\n",
        "import urllib, bs4, re\n",
        "from googlesearch import search\n",
        "!pip install whois\n",
        "import whois\n",
        "from datetime import datetime\n",
        "import time\n",
        "import requests\n",
        "import urllib.request\n",
        "from urllib.parse import urlencode\n",
        "import subprocess\n",
        "import urllib3, requests, json\n",
        "import socket "
      ],
      "execution_count": 1,
      "outputs": [
        {
          "output_type": "stream",
          "text": [
            "Requirement already satisfied: tldextract in /usr/local/lib/python3.6/dist-packages (2.2.3)\n",
            "Requirement already satisfied: idna in /usr/local/lib/python3.6/dist-packages (from tldextract) (2.10)\n",
            "Requirement already satisfied: requests-file>=1.4 in /usr/local/lib/python3.6/dist-packages (from tldextract) (1.5.1)\n",
            "Requirement already satisfied: requests>=2.1.0 in /usr/local/lib/python3.6/dist-packages (from tldextract) (2.23.0)\n",
            "Requirement already satisfied: six in /usr/local/lib/python3.6/dist-packages (from requests-file>=1.4->tldextract) (1.15.0)\n",
            "Requirement already satisfied: chardet<4,>=3.0.2 in /usr/local/lib/python3.6/dist-packages (from requests>=2.1.0->tldextract) (3.0.4)\n",
            "Requirement already satisfied: urllib3!=1.25.0,!=1.25.1,<1.26,>=1.21.1 in /usr/local/lib/python3.6/dist-packages (from requests>=2.1.0->tldextract) (1.24.3)\n",
            "Requirement already satisfied: certifi>=2017.4.17 in /usr/local/lib/python3.6/dist-packages (from requests>=2.1.0->tldextract) (2020.6.20)\n",
            "Requirement already satisfied: whois in /usr/local/lib/python3.6/dist-packages (0.9.7)\n"
          ],
          "name": "stdout"
        }
      ]
    },
    {
      "cell_type": "markdown",
      "metadata": {
        "id": "rGgwf85q2dAt",
        "colab_type": "text"
      },
      "source": [
        "#Address Bar based Features"
      ]
    },
    {
      "cell_type": "markdown",
      "metadata": {
        "id": "WW2euzJ_dKDm",
        "colab_type": "text"
      },
      "source": [
        "#1. having_IPhaving_IP_Address feature"
      ]
    },
    {
      "cell_type": "markdown",
      "metadata": {
        "id": "JOzagqJw2DPs",
        "colab_type": "text"
      },
      "source": [
        "If an IP address is used as an alternative of the domain name in the URL, such as “http://125.98.3.123/fake.html”, users can be sure that someone is trying to steal their personal information. Sometimes, the IP address is even transformed into hexadecimal code as shown in the following link “http://0x58.0xCC.0xCA.0x62/2/paypal.ca/index.html”."
      ]
    },
    {
      "cell_type": "code",
      "metadata": {
        "id": "aBEQaCRudJP8",
        "colab_type": "code",
        "colab": {}
      },
      "source": [
        "def having_IPhaving_IP_Address():\n",
        "    try:\n",
        "        ipaddress.ip_address(url)\n",
        "        return -1 #phishing\n",
        "    except:\n",
        "        return 1 #legitmate\n",
        "\n",
        "\n",
        "\n",
        "\n",
        "#URLs Used for testing \n",
        "#url = \"::ffff:0:0/96\"\n",
        "#url = \"https://colab.research.google.com/drive/1jMU6LoeG6rvic9KpcpzJqSd7wavK2t3k#scrollTo=aBEQaCRudJP8\"\n",
        "#print(having_IPhaving_IP_Address(url))\n"
      ],
      "execution_count": 2,
      "outputs": []
    },
    {
      "cell_type": "markdown",
      "metadata": {
        "id": "xZgOnp5RDQ1l",
        "colab_type": "text"
      },
      "source": [
        "#2. **URLURL_Length**"
      ]
    },
    {
      "cell_type": "markdown",
      "metadata": {
        "id": "gqASr1PwDYTz",
        "colab_type": "text"
      },
      "source": [
        "Phishers can use long URL to hide the doubtful part in the address bar.To ensure accuracy of our study, we calculated the length of URLs in the dataset and produced an average URL length. The results showed that if the length of the URL is greater than or equal 54 characters then the URL classified as phishing. By reviewing our dataset we were able to find 1220 URLs lengths equals to 54 or more which constitute&nbsp;48.8% of the total dataset size."
      ]
    },
    {
      "cell_type": "code",
      "metadata": {
        "id": "Cx1bSrnVdHmz",
        "colab_type": "code",
        "colab": {}
      },
      "source": [
        "def URLURL_Length():\n",
        "    if (len(url) < 54) :\n",
        "        return 1 #legitmate\n",
        "    elif (len(url) < 75):\n",
        "      return 0 #suspicious\n",
        "    else:\n",
        "        return -1 #phishing\n",
        "\n",
        "\n",
        "\n",
        "\n",
        "\n",
        "#testing\n",
        "#url = \"https://colab.research.google.com/drive/1XrF8kR2BaIjJ1oUIj8uj8-65fsUulB4q#scrollTo=OKBhxt8facgY&uniqifier=1\"\n",
        "#url = \"https://gitlab.com/syedareehaquasar/tswe-project\"\n",
        "#url = \"https://lms.wtef.talentsprint.com/login?next=/courses/course-v1%3ATS%2BWE_VC%2B2020/courseware/5398b7f9450c4f15aaebe685d9e4f611/7a94f058abd24455a92cbe77f304d959/\"\n",
        "#url = \"https://cse.mait.ac.in/cms/login/index.php\"\n",
        "#url = \"https://in.insidesherpa.com/modules/ms2CK9b2SCWGXwPMS/wgp2gXHtLTq5Yo58z\"\n",
        "#url = \"https://wise.talentsprint.com/login/index.php#section-14\"\n",
        "#url = \"https://github.com/Jcharis/Machine-Learning-In-Julia-JCharisTech/blob/master/Detecting%20Malicious%20Url%20With%20Machine%20Learning%20In%20Python.ipynb\"\n",
        "#url = \"https://syedareehaquasar.github.io/Phishing-website/\"\n",
        "#url = \"https://www.w3schools.com/html/tryit.asp?filename=tryhtml_default\"\n",
        "#url = \"https://en.wikipedia.org/wiki/Certificate_authority\"        \n",
        "#print(URLURL_Length(url))"
      ],
      "execution_count": 3,
      "outputs": []
    },
    {
      "cell_type": "markdown",
      "metadata": {
        "id": "HazOurMAqrjV",
        "colab_type": "text"
      },
      "source": [
        "#3. **Shortining_Service**"
      ]
    },
    {
      "cell_type": "markdown",
      "metadata": {
        "id": "gK_cVLzqq57i",
        "colab_type": "text"
      },
      "source": [
        "URL shortening is a method on the “World Wide Web” in which a URL may be made considerably smaller in length and still lead to the required webpage. This is accomplished by means of an “HTTP Redirect” on a domain name that is short, which links to the webpage that has a long URL. For example, the URL “http://portal.hud.ac.uk/” can be shortened to “bit.ly/19DXSk4”.\n",
        "\n",
        "Rule: IF{TinyURL → Phishing\n",
        "Otherwise→ Legitimate}"
      ]
    },
    {
      "cell_type": "code",
      "metadata": {
        "id": "RkSHF0f4r8At",
        "colab_type": "code",
        "colab": {}
      },
      "source": [
        "def Shortining_Service():\n",
        "    shortining = regex.search('bit\\.ly|goo\\.gl|shorte\\.st|go2l\\.ink|x\\.co|ow\\.ly|t\\.co|tinyurl|tr\\.im|is\\.gd|cli\\.gs|'\n",
        "                    'yfrog\\.com|migre\\.me|ff\\.im|tiny\\.cc|url4\\.eu|twit\\.ac|su\\.pr|twurl\\.nl|snipurl\\.com|'\n",
        "                    'short\\.to|BudURL\\.com|ping\\.fm|post\\.ly|Just\\.as|bkite\\.com|snipr\\.com|fic\\.kr|loopt\\.us|'\n",
        "                    'doiop\\.com|short\\.ie|kl\\.am|wp\\.me|rubyurl\\.com|om\\.ly|to\\.ly|bit\\.do|t\\.co|lnkd\\.in|'\n",
        "                    'db\\.tt|qr\\.ae|adf\\.ly|goo\\.gl|bitly\\.com|cur\\.lv|tinyurl\\.com|ow\\.ly|bit\\.ly|ity\\.im|'\n",
        "                    'q\\.gs|is\\.gd|po\\.st|bc\\.vc|twitthis\\.com|u\\.to|j\\.mp|buzurl\\.com|cutt\\.us|u\\.bb|yourls\\.org|'\n",
        "                    'x\\.co|prettylinkpro\\.com|scrnch\\.me|filoops\\.info|vzturl\\.com|qr\\.net|1url\\.com|tweez\\.me|v\\.gd|tr\\.im|link\\.zip\\.net',url)\n",
        "    if shortining:\n",
        "        return -1 #phishing\n",
        "    else:\n",
        "        return 1  #legitmate\n",
        "\n",
        "\n",
        "\n",
        "\n",
        "\n",
        "\n",
        "\n",
        "#testing\n",
        "#url = \"https://colab.research.google.com/drive/1XrF8kR2BaIjJ1oUIj8uj8-65fsUulB4q#scrollTo=OKBhxt8facgY&uniqifier=1\"\n",
        "#url = \"https://gitlab.com/syedareehaquasar/tswe-project\"\n",
        "#url = \"https://lms.wtef.talentsprint.com/login?next=/courses/course-v1%3ATS%2BWE_VC%2B2020/courseware/5398b7f9450c4f15aaebe685d9e4f611/7a94f058abd24455a92cbe77f304d959/\"\n",
        "#url = \"https://cse.mait.ac.in/cms/login/index.php\"\n",
        "#url = \"https://in.insidesherpa.com/modules/ms2CK9b2SCWGXwPMS/wgp2gXHtLTq5Yo58z\"\n",
        "#url = \"https://wise.talentsprint.com/login/index.php#section-14\"\n",
        "#url = \"https://github.com/Jcharis/Machine-Learning-In-Julia-JCharisTech/blob/master/Detecting%20Malicious%20Url%20With%20Machine%20Learning%20In%20Python.ipynb\"\n",
        "#url = \"https://syedareehaquasar.github.io/Phishing-website/\"\n",
        "#url = \"https://www.w3schools.com/html/tryit.asp?filename=tryhtml_default\"\n",
        "#url = \"https://en.wikipedia.org/wiki/Certificate_authority\"\n",
        "#Urls used for testing\n",
        "#print(Shortining_Service(url))\n",
        "#url = 'bit.ly/19DXSk4'\n",
        "#print(Shortining_Service(url))"
      ],
      "execution_count": 4,
      "outputs": []
    },
    {
      "cell_type": "markdown",
      "metadata": {
        "id": "1fF35LGetBJX",
        "colab_type": "text"
      },
      "source": [
        "#4. **having_At_Symbol**"
      ]
    },
    {
      "cell_type": "markdown",
      "metadata": {
        "id": "ttkL2O8wtEoU",
        "colab_type": "text"
      },
      "source": [
        "Using “@” symbol in the URL leads the browser to ignore everything preceding the “@” symbol and the real address often follows the “@” symbol.\n",
        "Rule: IF {Url Having @ Symbol→ Phishing and Otherwise→ Legitimate"
      ]
    },
    {
      "cell_type": "code",
      "metadata": {
        "id": "YVuQHuj1tVNe",
        "colab_type": "code",
        "colab": {}
      },
      "source": [
        "def having_At_Symbol():\n",
        "    at_symbol = regex.findall(r'@',url)\n",
        "    if(len(at_symbol) == 0): #if @ symbol is not in url then its safe\n",
        "        return 1\n",
        "    else:\n",
        "        return -1\n",
        "\n",
        "#urls used for testing\n",
        "#url = \"https://www.kaggle.com/akashkr/phishing-website-dataset\"\n",
        "#print(having_At_Symbol(url))"
      ],
      "execution_count": 5,
      "outputs": []
    },
    {
      "cell_type": "markdown",
      "metadata": {
        "id": "uBfp6lz6vuz3",
        "colab_type": "text"
      },
      "source": [
        "#5. **double_slash_redirecting**"
      ]
    },
    {
      "cell_type": "markdown",
      "metadata": {
        "id": "QMceucFLvzh8",
        "colab_type": "text"
      },
      "source": [
        "The existence of “//” within the URL path means that the user will be redirected to another website.\n",
        "An example of such URL’s is: “http://www.legitimate.com//http://www.phishing.com”. We examin\n",
        "the location where the “//” appears. We find that if the URL starts with “HTTP”, that means the “//”\n",
        "should appear in the **sixth position**. However, if the URL employs “HTTPS” then the “//” should\n",
        "appear in seventh position.\n",
        "Rule: IF {\n",
        "ThePosition of the Last Occurrence of \"//\" in the URL > 7 → Phishing and \n",
        "Otherwise → Legitimate}\n"
      ]
    },
    {
      "cell_type": "code",
      "metadata": {
        "id": "szy8tzEvul0G",
        "colab_type": "code",
        "colab": {}
      },
      "source": [
        "def double_slash_redirecting():\n",
        "    locate_double_slash = [x.start(0) for x in re.finditer('//', url)] #making list of each individual character\n",
        "    if locate_double_slash[len(locate_double_slash)-1] > 6: #checking if // occures after 6th position\n",
        "        return -1\n",
        "    else:\n",
        "        return 1\n",
        "\n",
        "\n",
        "\n",
        "\n",
        "#urls used for testing\n",
        "#print(double_slash_redirecting(url))\n",
        "#url = 'http://www.legitimate.com//http://www.phishing.com'  \n",
        "#print(double_slash_redirecting(url))      \n",
        "#url = \"https://colab.research.google.com/drive/1XrF8kR2BaIjJ1oUIj8uj8-65fsUulB4q#scrollTo=OKBhxt8facgY&uniqifier=1\"\n",
        "#url = \"https://gitlab.com/syedareehaquasar/tswe-project\"\n",
        "#url = \"https://lms.wtef.talentsprint.com/login?next=/courses/course-v1%3ATS%2BWE_VC%2B2020/courseware/5398b7f9450c4f15aaebe685d9e4f611/7a94f058abd24455a92cbe77f304d959/\"\n",
        "#url = \"https://cse.mait.ac.in/cms/login/index.php\"\n",
        "#url = \"https://in.insidesherpa.com/modules/ms2CK9b2SCWGXwPMS/wgp2gXHtLTq5Yo58z\"\n",
        "#url = \"https://wise.talentsprint.com/login/index.php#section-14\"\n",
        "#url = \"https://github.com/Jcharis/Machine-Learning-In-Julia-JCharisTech/blob/master/Detecting%20Malicious%20Url%20With%20Machine%20Learning%20In%20Python.ipynb\"\n",
        "#url = \"https://syedareehaquasar.github.io/Phishing-website/\"\n",
        "#url = \"https://www.w3schools.com/html/tryit.asp?filename=tryhtml_default\"\n",
        "#url = \"https://en.wikipedia.org/wiki/Certificate_authority\""
      ],
      "execution_count": 6,
      "outputs": []
    },
    {
      "cell_type": "markdown",
      "metadata": {
        "id": "WQZ06M_xyIJd",
        "colab_type": "text"
      },
      "source": [
        "#6. **Prefix_Suffix**"
      ]
    },
    {
      "cell_type": "markdown",
      "metadata": {
        "id": "rWv0OBfsyOfa",
        "colab_type": "text"
      },
      "source": [
        "The dash symbol is rarely used in legitimate URLs. Phishers tend to add prefixes or suffixes separated by (-) to the domain name so that users feel that they are dealing with a legitimate webpage. For example http://www.Confirme-paypal.com/.\n",
        "Rule: IF {Domain Name Part Includes (−) Symbol → Phishing and Otherwise → Legitimate}"
      ]
    },
    {
      "cell_type": "code",
      "metadata": {
        "id": "so10i-ocwio7",
        "colab_type": "code",
        "colab": {}
      },
      "source": [
        "def Prefix_Suffix():\n",
        "    subDomain, domain, suffix = extract(url)\n",
        " #   print(subDomain,domain,suffix) #checking in between to check if it works fine\n",
        "    #print(domain.count(\"-\"))\n",
        "    if(domain.count('-')):\n",
        "        return -1\n",
        "    else:\n",
        "        return 1  \n",
        "\n",
        "\n",
        "#urls used for testing\n",
        "#url ='http://www.Confirme-paypal.com/'\n",
        "#print(Prefix_Suffix(url))"
      ],
      "execution_count": 7,
      "outputs": []
    },
    {
      "cell_type": "markdown",
      "metadata": {
        "id": "xfWsb92P0R9j",
        "colab_type": "text"
      },
      "source": [
        "#7. **having_Sub_Domain**"
      ]
    },
    {
      "cell_type": "markdown",
      "metadata": {
        "id": "no1kckpSZn0q",
        "colab_type": "text"
      },
      "source": [
        "Let us assume we have the following link: http://www.hud.ac.uk/students/. A domain name might\n",
        "include the country-code top-level domains (ccTLD), which in our example is “uk”. The “ac” part is\n",
        "shorthand for “academic”, the combined “ac.uk” is called a second-level domain (SLD) and “hud” is\n",
        "the actual name of the domain. To produce a rule for extracting this feature, we firstly have to omit\n",
        "the (www.) from the URL which is in fact a sub domain in itself. Then, we have to remove the\n",
        "(ccTLD) if it exists. Finally, we count the remaining dots. If the number of dots is greater than one,\n",
        "then the URL is classified as “Suspicious” since it has one sub domain. However, if the dots are\n",
        "greater than two, it is classified as “Phishing” since it will have multiple sub domains. Otherwise, if\n",
        "the URL has no sub domains, we will assign “Legitimate” to the feature."
      ]
    },
    {
      "cell_type": "markdown",
      "metadata": {
        "id": "6XYwrJsi2bFN",
        "colab_type": "text"
      },
      "source": [
        "Rule: IF {\n",
        "Dots In Domain Part = 1 → Legitimate                                               \n",
        "Dots In Domain Part = 2 → Suspicious                                                           \n",
        "Otherwise → Phishing}"
      ]
    },
    {
      "cell_type": "code",
      "metadata": {
        "id": "BScmFtFpz4mq",
        "colab_type": "code",
        "colab": {}
      },
      "source": [
        "def having_Sub_Domain():\n",
        "    subDomain, domain, suffix = extract(url)\n",
        "    #print(subDomain)\n",
        "    if len(re.findall(\"\\.\",url)) == 1:\n",
        "        return 1\n",
        "    elif len(re.findall(\"\\.\", url)) == 2:\n",
        "        return 0\n",
        "    else:\n",
        "        return -1\n",
        "\n",
        "\n",
        "\n",
        "#urls used for testing\n",
        "#url = \"http://www.hud.ac.uk/students/\"\n",
        "#url = \"https://www.crummy.com/software/BeautifulSoup/bs4/doc/#navigating-the-tree\"\n",
        "#url = \"https://colab.research.google.com/drive/1jMU6LoeG6rvic9KpcpzJqSd7wavK2t3k#scrollTo=BScmFtFpz4mq\"\n",
        "#print(having_Sub_Domain(url))\n"
      ],
      "execution_count": 8,
      "outputs": []
    },
    {
      "cell_type": "markdown",
      "metadata": {
        "id": "U4r48dfIZv06",
        "colab_type": "text"
      },
      "source": [
        "#8. **SSLfinal_State**"
      ]
    },
    {
      "cell_type": "markdown",
      "metadata": {
        "id": "Fm1cj2BXgIl-",
        "colab_type": "text"
      },
      "source": [
        "The existence of HTTPS is very important in giving the impression of website legitimacy, but this is\n",
        "clearly not enough. The authors in (Mohammad, Thabtah and McCluskey 2012) (Mohammad,\n",
        "Thabtah and McCluskey 2013) suggest checking the certificate assigned with HTTPS including the\n",
        "extent of the trust certificate issuer, and the certificate age. Certificate Authorities that are consistently \n",
        "listed among the top trustworthy names include: “GeoTrust, GoDaddy, Network Solutions, Thawte,\n",
        "Comodo, Doster and VeriSign”. Furthermore, by testing out our datasets, we find that the minimum\n",
        "age of a reputable certificate is two years.\n"
      ]
    },
    {
      "cell_type": "code",
      "metadata": {
        "id": "OKBhxt8facgY",
        "colab_type": "code",
        "colab": {}
      },
      "source": [
        "def SSLfinal_State():\n",
        "    try:\n",
        "        # check wheather contains https\n",
        "        if (regex.search('^https', url)):\n",
        "            https_used = 1\n",
        "        else:\n",
        "            https_used = 0\n",
        "            return -1\n",
        "        subDomain, domain, suffix = extract(url)\n",
        "        host_name = domain + \".\" + suffix\n",
        "        context = ssl.create_default_context()\n",
        "        sct = context.wrap_socket(socket.socket(), server_hostname = host_name)\n",
        "        print(sct)\n",
        "        sct.connect((host_name, 443))\n",
        "        print(sct)\n",
        "        certificate = sct.getpeercert()\n",
        "        print(certificate)\n",
        "        issuer = dict(x[0] for x in certificate['issuer'])\n",
        "        certificate_auth = str(issuer['commonName'])\n",
        "        certificate_auth = certificate_auth.split()\n",
        "        if (certificate_auth[0] == \"Network\" or certificate_auth == \"Deutsche\"):\n",
        "            certificate_auth = certificate_auth[0] + \" \" + certificate_auth[1]\n",
        "        else:\n",
        "            certificate_auth = certificate_auth[0]\n",
        "        trusted_auth = ['GTS','AC Camerfirma, S.A', 'Actalis', 'Agencia Notarial de Certificación (ANCERT)', 'Amazon', 'Asseco Data Systems S.A. (previously Unizeto Certum)', 'Comodo', 'Symantec', 'GoDaddy', 'GlobalSign', 'DigiCert', 'StartCom', 'Entrust', 'Verizon',\n",
        "                        'A-Trust','Trustwave', 'Unizeto', 'Buypass', 'QuoVadis', 'Deutsche Telekom', 'Network Solutions',\n",
        "                        'SwissSign', 'Google Trust Services (GTS)','Government of Australia' ,'IdenTrust', 'Secom', 'TWCA', 'GeoTrust', 'Thawte', 'Doster', 'VeriSign', 'Google',\n",
        "                        'Government of India, Ministry of Communications & Information Technology, Controller of Certifying Authorities (CCA)',\n",
        "                        'Symantec', 'VeriSign', 'Sectigo', 'Let\\'s', 'Network Solutions','cPanel', 'Cloudflare', 'DigiCert','GeoTrust', 'GoDaddy',\n",
        "                        'Network Solutions', 'Thawte','Comodo', 'Doster','VeriSign']\n",
        "\n",
        "        # age of certificate\n",
        "        starting_date = str(certificate['notBefore'])\n",
        "        ending_date = str(certificate['notAfter'])\n",
        "        starting_year = int(starting_date.split()[3])\n",
        "        ending_year = int(ending_date.split()[3])\n",
        "        age_of_certificate = ending_year - starting_year\n",
        "        #print(age_of_certificate) checking in between to understand which value should be returned by code further.\n",
        "        #print(starting_date)\n",
        "        #print(ending_date)\n",
        "        #print(str(https_used) + \" , \" + certificate_auth + \" , \" + str(age_of_certificate))\n",
        "        #a ? (b || c) : (b && c)\n",
        "        if ((https_used == 1) and (certificate_auth in trusted_auth) and (age_of_certificate >= 1)):\n",
        "            return 1  # legitimate\n",
        "        elif ((https_used == 1 ) and (certificate_auth in trusted_auth)):\n",
        "            return 0\n",
        "        else:\n",
        "            return -1  # phishing\n",
        "\n",
        "    except Exception as e:\n",
        "        return -1\n",
        "\n",
        "\n",
        "\n",
        "\n",
        "\n",
        "\n",
        "#testing\n",
        "#url = \"https://colab.research.google.com/drive/1XrF8kR2BaIjJ1oUIj8uj8-65fsUulB4q#scrollTo=OKBhxt8facgY&uniqifier=1\"\n",
        "#url = \"https://gitlab.com/syedareehaquasar/tswe-project\"\n",
        "#url = \"https://lms.wtef.talentsprint.com/login?next=/courses/course-v1%3ATS%2BWE_VC%2B2020/courseware/5398b7f9450c4f15aaebe685d9e4f611/7a94f058abd24455a92cbe77f304d959/\"\n",
        "#url = \"https://cse.mait.ac.in/cms/login/index.php\"\n",
        "#url = \"https://in.insidesherpa.com/modules/ms2CK9b2SCWGXwPMS/wgp2gXHtLTq5Yo58z\"\n",
        "#url = \"https://wise.talentsprint.com/login/index.php#section-14\"\n",
        "#url = \"https://github.com/Jcharis/Machine-Learning-In-Julia-JCharisTech/blob/master/Detecting%20Malicious%20Url%20With%20Machine%20Learning%20In%20Python.ipynb\"\n",
        "#url = \"https://syedareehaquasar.github.io/Phishing-website/\"\n",
        "#url = \"https://www.w3schools.com/html/tryit.asp?filename=tryhtml_default\"\n",
        "#url = \"https://en.wikipedia.org/wiki/Certificate_authority\"\n",
        "#url = \"https://www.youtube.com\"\n",
        "#print(SSLfinal_State())\n",
        "#print(url)"
      ],
      "execution_count": 9,
      "outputs": []
    },
    {
      "cell_type": "markdown",
      "metadata": {
        "id": "M_YsZV6Sgpqz",
        "colab_type": "text"
      },
      "source": [
        "#9. **Domain_registeration_length**"
      ]
    },
    {
      "cell_type": "markdown",
      "metadata": {
        "id": "ETSw7WnCgzc7",
        "colab_type": "text"
      },
      "source": [
        "Based on the fact that a phishing website lives for a short period of time, we believe that trustworthy domains are regularly paid for several years in advance. In our dataset, we find that the longest fraudulent domains have been used for one year only.\n",
        "Rule: IF{ Domains Expires on≤ 1 years → Phishing and Otherwise→ Legitimate }"
      ]
    },
    {
      "cell_type": "code",
      "metadata": {
        "id": "kx3v01BydX4x",
        "colab_type": "code",
        "colab": {}
      },
      "source": [
        "#url = \"https://www.youtube.com/\"\n",
        "#url = \"https://colab.research.google.com/drive/1n6mdw3JErb1xs3fJbCtmZNFZ1ite2PVQ#scrollTo=hSHMj7OEsWQB\"\n",
        "#url = \"https://syedareehaquasar.github.io/Phishing-website/\"\n",
        "def Domain_registration_length():\n",
        "    try:\n",
        "        whois_database = whois.whois(url)\n",
        "        updated_datetime = whois_database.updated_date\n",
        "        #print(updated_datetime)\n",
        "        exp_datetime = whois_database.expiration_date\n",
        "        #print(exp_datetime)\n",
        "        length_period = (exp_datetime[0]-updated_datetime[0]).days\n",
        "        #print(length_period)\n",
        "        if(length_period <= 365):\n",
        "            return -1\n",
        "        else:\n",
        "            return 1\n",
        "    except:\n",
        "        return 0\n",
        "#print(domain_registration(url))"
      ],
      "execution_count": 10,
      "outputs": []
    },
    {
      "cell_type": "markdown",
      "metadata": {
        "id": "mH0T2OEiin1e",
        "colab_type": "text"
      },
      "source": [
        "#10. **Favicon** "
      ]
    },
    {
      "cell_type": "markdown",
      "metadata": {
        "id": "INfKEwc7ivfE",
        "colab_type": "text"
      },
      "source": [
        "A favicon is a graphic image (icon) associated with a specific webpage. Many existing user agents such as graphical browsers and newsreaders show favicon as a visual reminder of the website identity in the address bar. If the favicon is loaded from a domain other than that shown in the address bar, then the webpage is likely to be considered a Phishing attempt.\n",
        "Rule: IF{Favicon Loaded From External Domain→ PhishingOtherwise→ Legitimate"
      ]
    },
    {
      "cell_type": "code",
      "metadata": {
        "id": "QGwK207kiuiS",
        "colab_type": "code",
        "colab": {}
      },
      "source": [
        "def favicon():\n",
        "  try:\n",
        "    for head in soup.find_all('head'):\n",
        "      for head.link in soup.find_all('link', href=True):\n",
        "        dots = [x.start(0) for x in re.finditer('\\.', head.link['href'])]\n",
        "        if url in head.link['href'] or len(dots) == 1 or domain in head.link['href']:\n",
        "          return 1\n",
        "    return -1\n",
        "  except:\n",
        "    return 1\n",
        "\n",
        "\n",
        "\n",
        "\n",
        "#favicon(\"https://gitlab.com/syedareehaquasar/tswe-project\", soupssss(\"https://gitlab.com/syedareehaquasar/tswe-project\"))"
      ],
      "execution_count": 11,
      "outputs": []
    },
    {
      "cell_type": "markdown",
      "metadata": {
        "id": "k0i02--nJxOF",
        "colab_type": "text"
      },
      "source": [
        "#11.**port**    "
      ]
    },
    {
      "cell_type": "markdown",
      "metadata": {
        "id": "IhwF8Pi5ZiT3",
        "colab_type": "text"
      },
      "source": [
        "This feature is useful in validating if a particular service (e.g. HTTP) is up or down on a specific server. In the aim of controlling intrusions, it is much better to merely open ports that you need. Several firewalls, Proxy and Network Address Translation (NAT) servers will, by default, block all or most of the ports and only open the ones selected. If all ports are open, phishers can run almost any service they want and as a result, user information is threatened. The most important ports and their preferred status are shown in Table.\n",
        "Rule: IF{Port # is of the Preffered Status→ Phishing and Otherwise→ Legitimate![Image 1.png](data:image/png;base64,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)"
      ]
    },
    {
      "cell_type": "code",
      "metadata": {
        "id": "r0OoseH3zTjN",
        "colab_type": "code",
        "colab": {}
      },
      "source": [
        "def port():\n",
        "    try:\n",
        "        port = domain.split(\":\")[1]\n",
        "        \n",
        "        if port:\n",
        "            return -1\n",
        "        else:\n",
        "            return 1\n",
        "    except:\n",
        "        return 1\n",
        "\n",
        "\n",
        "\n",
        "\n",
        "#url = \"https://colab.research.google.com/drive/1jMU6LoeG6rvic9KpcpzJqSd7wavK2t3k#scrollTo=r0OoseH3zTjN\"\n",
        "#domain = extract(url)\n",
        "#print(port())  \n",
        "#print(url)      "
      ],
      "execution_count": 12,
      "outputs": []
    },
    {
      "cell_type": "markdown",
      "metadata": {
        "id": "IJWfTUdQ76tp",
        "colab_type": "text"
      },
      "source": [
        "#12.**HTTPS_token**  "
      ]
    },
    {
      "cell_type": "markdown",
      "metadata": {
        "id": "FB6dRVGi8E3O",
        "colab_type": "text"
      },
      "source": [
        "The phishers may add the “HTTPS” token to the domain part of a URL in order to trick users. For example, http://https-www-paypal-it-webapps-mpp-home.soft-hair.com/.Rule: IF{Using HTTP Token in Domain Part of The URL→ Phishing and Otherwise→ Legitimate"
      ]
    },
    {
      "cell_type": "code",
      "metadata": {
        "id": "8Qz2Lvrz3Ha1",
        "colab_type": "code",
        "colab": {}
      },
      "source": [
        "def HTTPS_token():\n",
        "  check = re.findall(r'^https://', url)\n",
        "  token = re.findall(r'https://', url)\n",
        "  if len(check) != len(token):\n",
        "    return -1\n",
        "  else:\n",
        "    return 1\n",
        "\n",
        "\n",
        "\n",
        "\n",
        "\n",
        "#urls for testing\n",
        "#url = \"https://http://https://www.google.com\")    \n",
        "#print(HTTPS_token(url))"
      ],
      "execution_count": 13,
      "outputs": []
    },
    {
      "cell_type": "markdown",
      "metadata": {
        "id": "4Ed3hAr07f_W",
        "colab_type": "text"
      },
      "source": [
        "#Abnormal Based Features"
      ]
    },
    {
      "cell_type": "markdown",
      "metadata": {
        "id": "Dx9iZCFmR5dm",
        "colab_type": "text"
      },
      "source": [
        "#13. **Request_URL**"
      ]
    },
    {
      "cell_type": "markdown",
      "metadata": {
        "id": "wYPJLHqFSAYa",
        "colab_type": "text"
      },
      "source": [
        "Request URL examines whether the external objects contained within a webpage such as images, videos and sounds are loaded from another domain. In legitimate webpages, the webpage address and most of objects embedded within the webpage are sharing the same domain.\n",
        "Rule: IF {% of Request URL <22% → Legitimate %of Request URL≥22% and 61%→ SuspiciousOtherwise→ feature=Phishing"
      ]
    },
    {
      "cell_type": "code",
      "metadata": {
        "id": "cLuPcbQBSFO8",
        "colab_type": "code",
        "colab": {}
      },
      "source": [
        "def Request_url():\n",
        "    try:\n",
        "        subDomain, domain, suffix = extract(url)\n",
        "        website_domain = domain\n",
        "        \n",
        "        open = urllib.request.urlopen(url).read()\n",
        "        soup = BeautifulSoup(open, 'html.parser')\n",
        "        images = soup.findAll('img', src=True)\n",
        "        total = len(images)\n",
        "        \n",
        "        linked_inside = 0\n",
        "        percentage = 0\n",
        "        for image in images:\n",
        "            subDomain, domain, suffix = extract(image['src'])\n",
        "            image_domain = domain\n",
        "            if(website_domain == image_domain or image_domain == ''):\n",
        "                linked_inside += linked_inside\n",
        "        videos = soup.findAll('video', src=True)\n",
        "        total += len(videos)\n",
        "        \n",
        "        for video in videos:\n",
        "            subDomain, domain, suffix = extract(video['src'])\n",
        "            video_domain = domain\n",
        "            if(website_domain == video_domain or video_domain == ''):\n",
        "                linked_inside += linked_inside\n",
        "       \n",
        "       # print(linked_inside) # checking in between to make sure code is working fine\n",
        "        linked_outside = total - linked_inside\n",
        "        #print(linked_outside)\n",
        "        if(total != 0):\n",
        "            percentage = linked_outside / total\n",
        "        #print(percentage)    \n",
        "        if(percentage < 0.22):\n",
        "            return 1\n",
        "        elif(0.22 <= percentage <= 0.61):\n",
        "            return 0\n",
        "        else:\n",
        "            return -1\n",
        "    except:\n",
        "        #print(\"a\") # to check which part of code is running and when\n",
        "        return -1\n",
        "\n",
        "\n",
        "\n",
        "\n",
        "\n",
        "#testing\n",
        "#url = \"https://colab.research.google.com/drive/1XrF8kR2BaIjJ1oUIj8uj8-65fsUulB4q#scrollTo=cLuPcbQBSFO8\"\n",
        "#url = \"https://www.google.com\"\n",
        "#url = \"https://instagram.com\"\n",
        "#url = \"https://youtube.com\"\n",
        "#url = \"https://gitlab.com/syedareehaquasar/tswe-project\"\n",
        "#url = \"https://meet.google.com/jcv-inos-ryi?authuser=0&hl=en-GB\"\n",
        "#print(request_url(url))"
      ],
      "execution_count": 14,
      "outputs": []
    },
    {
      "cell_type": "markdown",
      "metadata": {
        "id": "kYK_dwLkTiiX",
        "colab_type": "text"
      },
      "source": [
        "#14. **URL_of_Anchor**"
      ]
    },
    {
      "cell_type": "markdown",
      "metadata": {
        "id": "bP5LZozJTogN",
        "colab_type": "text"
      },
      "source": [
        "![image.png](data:image/png;base64,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)"
      ]
    },
    {
      "cell_type": "code",
      "metadata": {
        "id": "trXzkLHO81vg",
        "colab_type": "code",
        "colab": {}
      },
      "source": [
        "def Url_of_Anchor():\n",
        "    try:\n",
        "        subDomain, domain, suffix = extract(url)\n",
        "        website_domain = domain\n",
        "        open = urllib.request.urlopen(url).read()\n",
        "        soup = BeautifulSoup(open, 'html.parser') #web scrapping\n",
        "        anchors = soup.findAll('a', href=True)\n",
        "        total = len(anchors)\n",
        "        linked_inside = 0\n",
        "        percentage  = 0\n",
        "        for anchor in anchors:\n",
        "            subDomain, domain, suffix = extract(anchor['href'])\n",
        "            anchor_domain = domain\n",
        "            if(website_domain == anchor_domain or anchor_domain == ''):\n",
        "                linked_inside += 1\n",
        "        linked_outside = total - linked_inside\n",
        "        if(total != 0):\n",
        "            percentage = linked_outside / total\n",
        "            \n",
        "        if(percentage < 0.31):\n",
        "            return 1\n",
        "        elif(0.31 <= percentage <= 0.67):\n",
        "            return 0\n",
        "        else:\n",
        "            return -1\n",
        "    except:\n",
        "        return -1\n",
        "\n",
        "\n",
        "\n",
        "\n",
        "\n",
        "\n",
        "        \n",
        "# urls used for testing\n",
        "#url = \"https://mail.google.com/mail/u/0/?ogbl#inbox\"        \n",
        "#print(url_of_anchor(url))\n",
        "    "
      ],
      "execution_count": 15,
      "outputs": []
    },
    {
      "cell_type": "markdown",
      "metadata": {
        "id": "ehyVToMyiz4v",
        "colab_type": "text"
      },
      "source": [
        "#15.**Links_in_tags**  "
      ]
    },
    {
      "cell_type": "markdown",
      "metadata": {
        "id": "yR_FcE-AjA4m",
        "colab_type": "text"
      },
      "source": [
        "![image.png](data:image/png;base64,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)"
      ]
    },
    {
      "cell_type": "code",
      "metadata": {
        "id": "ZAmqvioOaLXH",
        "colab_type": "code",
        "colab": {}
      },
      "source": [
        "def Links_in_tags():\n",
        "    good = 0\n",
        "    bad =0\n",
        "    if soup == -999:\n",
        "        return -1\n",
        "    else:\n",
        "        for link in soup.find_all('link', href= True):\n",
        "           count =[x.start(0) for x in re.finditer('\\.',link['href'])]\n",
        "           if url in link['href'] or domain in link['href'] or len(count) == 1:\n",
        "              bad += 1\n",
        "           good += 1\n",
        "\n",
        "        for script in soup.find_all('script', src= True):\n",
        "           count =[x.start(0) for x in re.finditer('\\.',script['src'])]\n",
        "           if url in script['src'] or domain in script['src'] or len(count) == 1 :\n",
        "              bad += 1\n",
        "           good += 1\n",
        "        try:\n",
        "            percentage = bad / float(good) * 100\n",
        "        except:\n",
        "            return 1\n",
        "\n",
        "        if percentage < 17.0 :\n",
        "           return 1\n",
        "        elif((percentage >= 17.0) and (percentage < 81.0)) :\n",
        "           return 0\n",
        "        else :\n",
        "           return -1\n",
        "\n",
        "\n",
        "\n",
        "\n",
        "#print(Links_in_tags())      "
      ],
      "execution_count": 16,
      "outputs": []
    },
    {
      "cell_type": "markdown",
      "metadata": {
        "id": "35y-NQodlz2i",
        "colab_type": "text"
      },
      "source": [
        "#16. **SFH**"
      ]
    },
    {
      "cell_type": "markdown",
      "metadata": {
        "id": "KLutJ3bhnBP9",
        "colab_type": "text"
      },
      "source": [
        "SFHs that contain an empty string or “about:blank” are considered doubtful because an action should be taken upon the submitted information. In addition, if the domain name in SFHs is different from the domain name of the webpage, this reveals that the webpage is suspicious because the submitted information is rarely handled by external domains.\n",
        "Rule: IF{SFH is \"about: blank\" Or Is Empty → Phishing SFH Refers To A Different Domain→ Suspicious and Otherwise → Legitimate"
      ]
    },
    {
      "cell_type": "code",
      "metadata": {
        "id": "R4uDoJKnlod7",
        "colab_type": "code",
        "colab": {}
      },
      "source": [
        "#url = \"https://colab.research.google.com/drive/1jMU6LoeG6rvic9KpcpzJqSd7wavK2t3k#scrollTo=R4uDoJKnlod7\"\n",
        "#subDomain, domain, suffix = extract(url)\n",
        "def SFH():\n",
        "    try:\n",
        "      for form in soup.find_all('form', action= True):\n",
        "        if form['action'] ==\"\" or form['action'] == \"about:blank\" :\n",
        "          return -1\n",
        "        elif url not in form['action'] and domain not in form['action']:\n",
        "          return 0\n",
        "        else:\n",
        "          return 1\n",
        "      return 1\n",
        "                 \n",
        "    except:\n",
        "        return -1\n",
        "\n",
        "\n",
        "\n",
        "\n",
        "#url = \"https://mail.google.com/mail/u/0/?tab=rm&ogbl\"\n",
        "#url = \"https://colab.research.google.com/drive/1XrF8kR2BaIjJ1oUIj8uj8-65fsUulB4q#scrollTo=Lm6TQoNKoa8_\"\n",
        "#url = \"https://www.google.com/?gws_rd=ssl\"\n",
        "#response = requests.get(url)\n",
        "#print(response)\n",
        "#print(SFH())"
      ],
      "execution_count": 17,
      "outputs": []
    },
    {
      "cell_type": "markdown",
      "metadata": {
        "id": "oZUfW1KXotjD",
        "colab_type": "text"
      },
      "source": [
        "#17. **Submitting_to_email** "
      ]
    },
    {
      "cell_type": "markdown",
      "metadata": {
        "id": "5wOoPwaPo7HO",
        "colab_type": "text"
      },
      "source": [
        "Web form allows a user to submit his personal information that is directed to a server for processing. A phisher might redirect the user’s information to his personal email. To that end, a server-side script language might be used such as “mail()” function in PHP. One more client-side function that might be used for this purpose is the “mailto:” function.\n",
        "Rule: IF{Using \"mail()\" or \"mailto:\" Function to Submit User Information→ Phishing and Otherwise → Legitimate"
      ]
    },
    {
      "cell_type": "code",
      "metadata": {
        "id": "Lm6TQoNKoa8_",
        "colab_type": "code",
        "colab": {}
      },
      "source": [
        "def Submitting_to_email():\n",
        "    if response == \"\":\n",
        "        #print(\"a\") # checking which part of function is executing\n",
        "        return -1\n",
        "    else:\n",
        "        if re.findall(r\"[mail\\(\\)|mailto:?]\", response.text):\n",
        "         #   print(\"b\")\n",
        "            return -1\n",
        "        else:\n",
        "          #  print(\"c\")\n",
        "            return 1\n",
        "\n",
        "\n",
        "\n",
        "#testing\n",
        "#url = \"https://mail.google.com/mail/u/0/?tab=rm&ogbl\"\n",
        "#url = \"https://colab.research.google.com/drive/1XrF8kR2BaIjJ1oUIj8uj8-65fsUulB4q#scrollTo=Lm6TQoNKoa8_\"\n",
        "#url = \"https://www.google.com/?gws_rd=ssl\"\n",
        "#response = requests.get(url)\n",
        "#print(response)\n",
        "#print(Submitting_to_email())            "
      ],
      "execution_count": 18,
      "outputs": []
    },
    {
      "cell_type": "markdown",
      "metadata": {
        "id": "OKbN0W2Y98DY",
        "colab_type": "text"
      },
      "source": [
        "#18 . **Abnormal_URL**  "
      ]
    },
    {
      "cell_type": "markdown",
      "metadata": {
        "id": "jm4A5xurCDVI",
        "colab_type": "text"
      },
      "source": [
        "This feature can be extracted from WHOIS database. For a legitimate website, identity is typically\n",
        "part of its URL.\n",
        "Rule: IF {\n",
        "The Host Name Is Not Included In URL → Phishing\n",
        "Otherwise → Legitimate"
      ]
    },
    {
      "cell_type": "code",
      "metadata": {
        "id": "NnxkLeaI701g",
        "colab_type": "code",
        "colab": {}
      },
      "source": [
        "def Abnormal_URL():\n",
        "    try:\n",
        "        domain_name = whois.whois(url)\n",
        "        #print(domain_name.domain_name)\n",
        "        if isinstance(domain_name.domain_name, list):\n",
        "            for domains in domain_name.domain_name:\n",
        "                if domains.lower() in url:\n",
        "                    return 1\n",
        "            #print(domain_name.domain_name)       \n",
        "            return -1\n",
        "        else:\n",
        "            if str(domain_name.domain_name).lower() in url:\n",
        "                return 1\n",
        "            else:\n",
        "                print(str(domain_name.domain_name).lower)\n",
        "                return -1\n",
        "                print(domain_name.domain_name)\n",
        "    except:\n",
        "        return -1\n",
        "\n",
        "#print(abnormal_url(url))"
      ],
      "execution_count": 19,
      "outputs": []
    },
    {
      "cell_type": "markdown",
      "metadata": {
        "id": "hVOUD2moFSQe",
        "colab_type": "text"
      },
      "source": [
        "#HTML and JavaScript based Features"
      ]
    },
    {
      "cell_type": "markdown",
      "metadata": {
        "id": "F2z8THN8-339",
        "colab_type": "text"
      },
      "source": [
        "# 19. **Redirect** "
      ]
    },
    {
      "cell_type": "markdown",
      "metadata": {
        "id": "cqCZlu07-8gl",
        "colab_type": "text"
      },
      "source": [
        "The fine line that distinguishes phishing websites from legitimate ones is how many times a website has been redirected. In our dataset, we find that legitimate websites have been redirected one time max. On the other hand, phishing websites containing this feature have been redirected at least 4 times.\n",
        "Rule: IF {#ofRedirect Page≤1 → Legitimate#of Redirect Page≥2 And<4→ Suspicious and Otherwise → Phishing"
      ]
    },
    {
      "cell_type": "code",
      "metadata": {
        "id": "0WhHZaCL-ki8",
        "colab_type": "code",
        "colab": {}
      },
      "source": [
        "def Redirect():\n",
        "    if response == \"\":\n",
        "        return -1\n",
        "    else:\n",
        "        if (len(response.history) <= 1):\n",
        "            return 1\n",
        "        else:\n",
        "            return 0\n",
        "\n",
        "\n",
        "\n",
        "\n",
        "            \n",
        "        #else:\n",
        "         #   return 1\n",
        "#print(Redirect())          "
      ],
      "execution_count": 20,
      "outputs": []
    },
    {
      "cell_type": "markdown",
      "metadata": {
        "id": "jKPuJFwo_pJv",
        "colab_type": "text"
      },
      "source": [
        "#20. **on_mouseover** "
      ]
    },
    {
      "cell_type": "markdown",
      "metadata": {
        "id": "yOL8VQgsLsuf",
        "colab_type": "text"
      },
      "source": [
        "Phishers may use JavaScript to show a fake URL in the status bar to users. To extract this feature, we\n",
        "must dig-out the webpage source code, particularly the “onMouseOver” event, and check if it makes\n",
        "any changes on the status bar. "
      ]
    },
    {
      "cell_type": "code",
      "metadata": {
        "id": "BuK_UwNB_omi",
        "colab_type": "code",
        "colab": {}
      },
      "source": [
        "def on_mouseover():\n",
        "    if re.findall(\"<script>.+onmouseover.+</script>\", response.text):\n",
        "        return -1\n",
        "    else:\n",
        "        return 1\n",
        "\n",
        "\n",
        "        \n",
        "#print(on_mouseover())\n"
      ],
      "execution_count": 21,
      "outputs": []
    },
    {
      "cell_type": "markdown",
      "metadata": {
        "id": "OVqGqWHkHiCA",
        "colab_type": "text"
      },
      "source": [
        "#21. **RightClick**\n",
        "\n",
        "\n",
        "\n"
      ]
    },
    {
      "cell_type": "markdown",
      "metadata": {
        "id": "lQLWH0z3Lz0I",
        "colab_type": "text"
      },
      "source": [
        "Phishers use JavaScript to disable the right-click function, so that users cannot view and save the\n",
        "webpage source code. This feature is treated exactly as “Using onMouseOver to hide the Link”.\n",
        "Nonetheless, for this feature, we will search for event “event.button==2” in the webpage source code\n",
        "and check if the right click is disabled. "
      ]
    },
    {
      "cell_type": "code",
      "metadata": {
        "id": "71W-VZV3_mhD",
        "colab_type": "code",
        "colab": {}
      },
      "source": [
        "def RightClick():\n",
        "    if response == \"\":\n",
        "        return -1\n",
        "    else:\n",
        "        if re.findall(r\"event.button ?== ?2\", response.text):\n",
        "            return -1\n",
        "        else:\n",
        "            return 1\n",
        "\n",
        "\n",
        "            \n",
        "#print(RightClick())"
      ],
      "execution_count": 22,
      "outputs": []
    },
    {
      "cell_type": "markdown",
      "metadata": {
        "id": "FCElxYDGIZaH",
        "colab_type": "text"
      },
      "source": [
        "#22. **popUpWindow**"
      ]
    },
    {
      "cell_type": "markdown",
      "metadata": {
        "id": "Itak7AFPL4sE",
        "colab_type": "text"
      },
      "source": [
        "It is unusual to find a legitimate website asking users to submit their personal information through a\n",
        "pop-up window. On the other hand, this feature has been used in some legitimate websites and its\n",
        "main goal is to warn users about fraudulent activities or broadcast a welcome announcement, though\n",
        "no personal information was asked to be filled in through these pop-up windows."
      ]
    },
    {
      "cell_type": "code",
      "metadata": {
        "id": "jTNqFTjw_K2I",
        "colab_type": "code",
        "colab": {}
      },
      "source": [
        "def popUpWindow():\n",
        "    if response == \"\":\n",
        "        return -1\n",
        "    else:\n",
        "        if re.findall(r\"alert\\(\", response.text):\n",
        "            return -1\n",
        "        else:\n",
        "            return 1\n",
        "\n",
        "\n",
        "\n",
        "            \n",
        "#print(popUpWindow(url))"
      ],
      "execution_count": 23,
      "outputs": []
    },
    {
      "cell_type": "markdown",
      "metadata": {
        "id": "vPqBkq2tJOAa",
        "colab_type": "text"
      },
      "source": [
        "#23. **Iframe** "
      ]
    },
    {
      "cell_type": "markdown",
      "metadata": {
        "id": "xD4hz107L8Ny",
        "colab_type": "text"
      },
      "source": [
        "IFrame is an HTML tag used to display an additional webpage into one that is currently shown.\n",
        "Phishers can make use of the “iframe” tag and make it invisible i.e. without frame borders. In this\n",
        "regard, phishers make use of the “frameBorder” attribute which causes the browser to render a visual\n",
        "delineation"
      ]
    },
    {
      "cell_type": "code",
      "metadata": {
        "id": "mmxlPsZ8J40m",
        "colab_type": "code",
        "colab": {}
      },
      "source": [
        "def Iframe():\n",
        "    if response == \"\":\n",
        "        return -1\n",
        "    else:\n",
        "        if re.findall(r\"[<iframe>|<frameBorder>]\", response.text):\n",
        "            return -1\n",
        "        else:\n",
        "            return 1\n",
        "\n",
        "\n",
        "\n",
        "\n",
        "#print(Iframe(url))            "
      ],
      "execution_count": 24,
      "outputs": []
    },
    {
      "cell_type": "markdown",
      "metadata": {
        "id": "uKe26j5iKRTv",
        "colab_type": "text"
      },
      "source": [
        "#24. **age_of_domain**"
      ]
    },
    {
      "cell_type": "markdown",
      "metadata": {
        "id": "85KZd9dPL_Vk",
        "colab_type": "text"
      },
      "source": [
        "This feature can be extracted from WHOIS database (Whois 2005). Most phishing websites live for a\n",
        "short period of time. By reviewing our dataset, we find that the minimum age of the legitimate domain\n",
        "is 6 months. "
      ]
    },
    {
      "cell_type": "code",
      "metadata": {
        "id": "_49ehYFwKTmQ",
        "colab_type": "code",
        "colab": {}
      },
      "source": [
        "def age_of_domain():\n",
        "    try:\n",
        "        domain_name = whois.whois(url)\n",
        "        if isinstance(domain_name.creation_date, list):\n",
        "            creation_date = domain_name.creation_date[0]\n",
        "        else:\n",
        "            creation_date = domain_name.creation_date\n",
        "\n",
        "        creation_date = str(creation_date).split(' ')[0]\n",
        "\n",
        "        if isinstance(domain_name.expiration_date, list):\n",
        "            expiration_date = domain_name.expiration_date[0]\n",
        "        else:\n",
        "            expiration_date = domain_name.expiration_date\n",
        "\n",
        "        expiration_date = str(expiration_date).split(' ')[0]\n",
        "\n",
        "\n",
        "        creation_date = datetime.strptime(str(creation_date), '%Y-%m-%d')\n",
        "        expiration_date = datetime.strptime(str(expiration_date), '%Y-%m-%d')\n",
        "        ageofdomain = abs((expiration_date - creation_date).days)\n",
        "        #print(ageofdomain)\n",
        "        if (ageofdomain/30) > 6:\n",
        "            return 1\n",
        "        else:\n",
        "            return -1\n",
        "    except:\n",
        "        return -1\n",
        "\n",
        "\n",
        "\n",
        "\n",
        "#url = \"www.hi.com\"\n",
        "#print(age_of_domain())"
      ],
      "execution_count": 25,
      "outputs": []
    },
    {
      "cell_type": "markdown",
      "metadata": {
        "id": "sMlA6erX_uzT",
        "colab_type": "text"
      },
      "source": [
        "#25. **DNSRecord** "
      ]
    },
    {
      "cell_type": "markdown",
      "metadata": {
        "id": "V7fsgtXHMDNB",
        "colab_type": "text"
      },
      "source": [
        "For phishing websites, either the claimed identity is not recognized by the WHOIS database (Whois\n",
        "2005) or no records founded for the hostname (Pan and Ding 2006). If the DNS record is empty or not\n",
        "found then the website is classified as “Phishing”, otherwise it is classified as “Legitimate”. "
      ]
    },
    {
      "cell_type": "code",
      "metadata": {
        "id": "RZc9JYic_2Kp",
        "colab_type": "code",
        "colab": {}
      },
      "source": [
        "def DNSRecord():\n",
        "    dns = 0\n",
        "    try:\n",
        "        d = whois.whois(url)\n",
        "        #print(d) # checking in between to check if which part should be executed for this value\n",
        "    except:\n",
        "        dns = -1\n",
        "    if dns == -1:\n",
        "        return -1\n",
        "    else:\n",
        "        return 1\n",
        "\n",
        "\n",
        "\n",
        "#print(DNSRecord())"
      ],
      "execution_count": 26,
      "outputs": []
    },
    {
      "cell_type": "markdown",
      "metadata": {
        "id": "g2s3r-DfBRH5",
        "colab_type": "text"
      },
      "source": [
        "#26 . **web_traffic**"
      ]
    },
    {
      "cell_type": "markdown",
      "metadata": {
        "id": "f3va3cdKMIS3",
        "colab_type": "text"
      },
      "source": [
        "This feature measures the popularity of the website by determining the number of visitors and the\n",
        "number of pages they visit. However, since phishing websites live for a short period of time, they may\n",
        "not be recognized by the Alexa database (Alexa the Web Information Company., 1996). By reviewing\n",
        "our dataset, we find that in worst scenarios, legitimate websites ranked among the top 100,000.\n",
        "Furthermore, if the domain has no traffic or is not recognized by the Alexa database, it is classified as\n",
        "“Phishing”. Otherwise, it is classified as “Suspicious”. "
      ]
    },
    {
      "cell_type": "code",
      "metadata": {
        "id": "ggZDY7Y0A9hf",
        "colab_type": "code",
        "colab": {}
      },
      "source": [
        "def web_traffic():\n",
        "    try:\n",
        "        with urllib.request.urlopen(\"http://data.alexa.com/data?cli=10&dat=s&url=\" + url) as response:\n",
        "            html = response.read()\n",
        "    except:\n",
        "        return -1\n",
        "\n",
        "    tree = ET.fromstring(html.decode())\n",
        "    try:\n",
        "        rank = (tree.findall('*/REACH'))[0].attrib['RANK']\n",
        "        if (int(rank)<100000):\n",
        "            return 1\n",
        "        else:\n",
        "            return -1\n",
        "    except:\n",
        "        return -1\n",
        "    \n",
        "\n",
        "\n",
        "\n",
        "\n",
        "#print(web_traffic())"
      ],
      "execution_count": 27,
      "outputs": []
    },
    {
      "cell_type": "markdown",
      "metadata": {
        "id": "NpwwB08RB_uU",
        "colab_type": "text"
      },
      "source": [
        "#27. **Page_Rank**"
      ]
    },
    {
      "cell_type": "markdown",
      "metadata": {
        "id": "Ull5OTcUML1I",
        "colab_type": "text"
      },
      "source": [
        "PageRank is a value ranging from “0” to “1”. PageRank aims to measure how important a webpage is\n",
        "on the Internet. The greater the PageRank value the more important the webpage. In our datasets, we\n",
        "find that about 95% of phishing webpages have no PageRank. Moreover, we find that the remaining\n",
        "5% of phishing webpages may reach a PageRank value up to “0.2”"
      ]
    },
    {
      "cell_type": "code",
      "metadata": {
        "id": "eHpGrLhqB_Ab",
        "colab_type": "code",
        "colab": {}
      },
      "source": [
        "#url = \"www.google.com\"\n",
        "def Page_Rank():\n",
        "    try:\n",
        "        whois_response = whois.whois(domain)\n",
        "        rank_checker_response = requests.post(\"https://www.checkpagerank.net/index.php\", {\"name\": domain})\n",
        "\n",
        "        # Extracts global rank of the website\n",
        "        global_rank = int(re.findall(r\"Global Rank: ([0-9]+)\", rank_checker_response.text)[0])\n",
        "        if global_rank > 0 and global_rank < 100000:\n",
        "            return 1\n",
        "        else:\n",
        "            return -1\n",
        "    except:\n",
        "        return 0\n",
        "\n",
        "\n",
        "\n",
        "#print(Page_Rank())"
      ],
      "execution_count": 28,
      "outputs": []
    },
    {
      "cell_type": "markdown",
      "metadata": {
        "id": "DM7rZqghChIu",
        "colab_type": "text"
      },
      "source": [
        "#28. **Google_Index**"
      ]
    },
    {
      "cell_type": "markdown",
      "metadata": {
        "id": "mKOLzjNcMPue",
        "colab_type": "text"
      },
      "source": [
        "This feature examines whether a website is in Google’s index or not. When a site is indexed by\n",
        "Google, it is displayed on search results (Webmaster resources, 2014). Usually, phishing webpages \n",
        "are merely accessible for a short period and as a result, many phishing webpages may not be found on\n",
        "the Google index."
      ]
    },
    {
      "cell_type": "code",
      "metadata": {
        "id": "CiDoWfVNBo2X",
        "colab_type": "code",
        "colab": {}
      },
      "source": [
        "def Google_Index():\n",
        "  try:\n",
        "    sites = search(url, tld=\"co.in\", num=10, stop=10, pause=2)\n",
        "    for site in sites:\n",
        "      if domain in site or domain.capitalize() in site:\n",
        "        return 1\n",
        "    return -1\n",
        "  except:\n",
        "    return -1\n",
        "\n",
        "\n",
        "\n",
        "\n",
        "#print(Google_Index(url))        "
      ],
      "execution_count": 29,
      "outputs": []
    },
    {
      "cell_type": "markdown",
      "metadata": {
        "id": "1iF4d2R0Dfl1",
        "colab_type": "text"
      },
      "source": [
        "#29. **Links_pointing_to_page**  "
      ]
    },
    {
      "cell_type": "markdown",
      "metadata": {
        "id": "rL1ZkFZvMSyQ",
        "colab_type": "text"
      },
      "source": [
        "The number of links pointing to the webpage indicates its legitimacy level, even if some links are of\n",
        "the same domain (Dean, 2014). In our datasets and due to its short life span, we find that 98% of\n",
        "phishing dataset items have no links pointing to them. On the other hand, legitimate websites have at\n",
        "least 2 external links pointing to them"
      ]
    },
    {
      "cell_type": "code",
      "metadata": {
        "id": "JbKAGbvBDqhd",
        "colab_type": "code",
        "colab": {}
      },
      "source": [
        "def Links_pointing_to_page():\n",
        "    response = requests.get(url)\n",
        "    #print(response)\n",
        "    if response == \"\":\n",
        "        print(\"a\")\n",
        "        return -1\n",
        "    else:\n",
        "        num_of_links = len(re.findall(r\"<a href=\", response.text))\n",
        "       # print(num_of_links)\n",
        "        if num_of_links == 0:\n",
        "            return -1\n",
        "        elif num_of_links <= 2:\n",
        "            return 0\n",
        "        else:\n",
        "            return 1\n",
        "\n",
        "\n",
        "#testing\n",
        "#url = \"https://www.google.com\"\n",
        "#url = \"https://www.youtube.com/\"\n",
        "#url = \"https://colab.research.google.com/drive/1XrF8kR2BaIjJ1oUIj8uj8-65fsUulB4q#scrollTo=MZLK38BXETIw\"            \n",
        "#print(Links_pointing_to_page())\n",
        "#print(url)"
      ],
      "execution_count": 30,
      "outputs": []
    },
    {
      "cell_type": "markdown",
      "metadata": {
        "id": "MZLK38BXETIw",
        "colab_type": "text"
      },
      "source": [
        "#30. **Statistical_report**"
      ]
    },
    {
      "cell_type": "markdown",
      "metadata": {
        "id": "_k4mR6TbMWfs",
        "colab_type": "text"
      },
      "source": [
        "Several parties such as PhishTank (PhishTank Stats, 2010-2012), and StopBadware (StopBadware,\n",
        "2010-2012) formulate numerous statistical reports on phishing websites at every given period of time;\n",
        "some are monthly and others are quarterly. In our research, we used 2 forms of the top ten statistics\n",
        "from PhishTank: “Top 10 Domains” and “Top 10 IPs” according to statistical-reports published in the\n",
        "last three years, starting in January2010 to November 2012. Whereas for “StopBadware”, we used\n",
        "“Top 50” IP addresses."
      ]
    },
    {
      "cell_type": "code",
      "metadata": {
        "id": "xXpGDawAEX_L",
        "colab_type": "code",
        "colab": {}
      },
      "source": [
        "#import socket\n",
        "#import re\n",
        "def statistical_report():\n",
        "    hostname = url\n",
        "    scaned_hostname = [(x.start(0), x.end(0)) for x in re.finditer('https://|http://|www.|https://www.|http://www.', hostname)]\n",
        "    length_hostname = int(len(scaned_hostname))\n",
        "    if length_hostname != 0:\n",
        "        y = scaned_hostname[0][1]\n",
        "        hostname = hostname[y:]\n",
        "        scaned_hostname = [(x.start(0), x.end(0)) for x in re.finditer('/', hostname)]\n",
        "        length_hostname = int(len(scaned_hostname))\n",
        "        if length_hostname != 0:\n",
        "            hostname = hostname[:scaned_hostname[0][0]] # this data was taken from PhisTank and StopBadware\n",
        "    url_match = re.search('at\\.ua|usa\\.cc|baltazarpresentes\\.com\\.br|pe\\.hu|esy\\.es|hol\\.es|sweddy\\.com|myjino\\.ru|96\\.lt|ow\\.ly',url)\n",
        "    try:\n",
        "        ip_address = socket.gethostbyname(hostname) \n",
        "         # this data was taken from PhisTank and StopBadware\n",
        "        ip_match = re.search('146\\.112\\.61\\.108|213\\.174\\.157\\.151|121\\.50\\.168\\.88|192\\.185\\.217\\.116|78\\.46\\.211\\.158|181\\.174\\.165\\.13|46\\.242\\.145\\.103|121\\.50\\.168\\.40|83\\.125\\.22\\.219|46\\.242\\.145\\.98|107\\.151\\.148\\.44|107\\.151\\.148\\.107|64\\.70\\.19\\.203|199\\.184\\.144\\.27|107\\.151\\.148\\.108|107\\.151\\.148\\.109|119\\.28\\.52\\.61|54\\.83\\.43\\.69|52\\.69\\.166\\.231|216\\.58\\.192\\.225|118\\.184\\.25\\.86|67\\.208\\.74\\.71|23\\.253\\.126\\.58|104\\.239\\.157\\.210|175\\.126\\.123\\.219|141\\.8\\.224\\.221|10\\.10\\.10\\.10|43\\.229\\.108\\.32|103\\.232\\.215\\.140|69\\.172\\.201\\.153|216\\.218\\.185\\.162|54\\.225\\.104\\.146|103\\.243\\.24\\.98|199\\.59\\.243\\.120|31\\.170\\.160\\.61|213\\.19\\.128\\.77|62\\.113\\.226\\.131|208\\.100\\.26\\.234|195\\.16\\.127\\.102|195\\.16\\.127\\.157|34\\.196\\.13\\.28|103\\.224\\.212\\.222|172\\.217\\.4\\.225|54\\.72\\.9\\.51|192\\.64\\.147\\.141|198\\.200\\.56\\.183|23\\.253\\.164\\.103|52\\.48\\.191\\.26|52\\.214\\.197\\.72|87\\.98\\.255\\.18|209\\.99\\.17\\.27|216\\.38\\.62\\.18|104\\.130\\.124\\.96|47\\.89\\.58\\.141|78\\.46\\.211\\.158|54\\.86\\.225\\.156|54\\.82\\.156\\.19|37\\.157\\.192\\.102|204\\.11\\.56\\.48|110\\.34\\.231\\.42',ip_address)  \n",
        "        #close()\n",
        "    except:\n",
        "        return -1\n",
        "\n",
        "    if url_match:\n",
        "        return -1\n",
        "    else:\n",
        "        return 1\n",
        "\n",
        "\n",
        "\n",
        "\n",
        "\n",
        "        #testing\n",
        "#url = \"https://colab.research.google.com/drive/1n6mdw3JErb1xs3fJbCtmZNFZ1ite2PVQ#scrollTo=ziTgv2P9WFC-\"\n",
        "#print(statistical_report(url))"
      ],
      "execution_count": 31,
      "outputs": []
    },
    {
      "cell_type": "markdown",
      "metadata": {
        "id": "SM5URFu5xpEK",
        "colab_type": "text"
      },
      "source": [
        "#FINAL FUNCTION"
      ]
    },
    {
      "cell_type": "code",
      "metadata": {
        "id": "dUh1fdRTw93w",
        "colab_type": "code",
        "colab": {
          "base_uri": "https://localhost:8080/",
          "height": 123
        },
        "outputId": "4e4146b0-8fd9-4dfd-d451-a59a491e444f"
      },
      "source": [
        "def final(url):\n",
        "    value_returned = [having_IPhaving_IP_Address(),URLURL_Length(),Shortining_Service(),\n",
        "                      having_At_Symbol(),double_slash_redirecting(),Prefix_Suffix (),\n",
        "                      having_Sub_Domain(),SSLfinal_State(),Domain_registration_length(),favicon(),port(),\n",
        "                      HTTPS_token(),Request_url(),Url_of_Anchor(),Links_in_tags(),SFH(),\n",
        "                      Submitting_to_email(),Abnormal_URL(),Redirect(),on_mouseover(),\n",
        "                      RightClick(),popUpWindow(),Iframe(),age_of_domain(),DNSRecord(),\n",
        "                      web_traffic(),Page_Rank(),Google_Index(),Links_pointing_to_page(),\n",
        "                      statistical_report()]\n",
        "    return value_returned\n",
        "#url = \"https://calendar.google.com/calendar/r/day\"\n",
        "url = input()\n",
        "#url = \"google.com\"\n",
        "domain, subDomain, suffix = extract(url)\n",
        "# corrects the format,otherwise many features will run out as out of index list error\n",
        "if not regex.match(r\"^https?\", url):\n",
        "    url = \"http://\" + url\n",
        "\n",
        "\n",
        "# Storing the responses\n",
        "try:\n",
        "    response = requests.get(url)\n",
        "    soup = BeautifulSoup(response.text, 'html.parser')\n",
        "    \n",
        "except:\n",
        "    response = \"\"\n",
        "    soup = -999\n",
        "    \n",
        "# corrects format of domain\n",
        "domain = re.findall(r\"://([^/]+)/?\", url)[0]\n",
        "if re.match(r\"^www.\",domain):\n",
        "\tdomain = domain.replace(\"www.\",\"\")\n",
        "# Extracting global rank of the website\n",
        "try:\n",
        "    global_rank = int(re.findall(r\"Global Rank: ([0-9]+)\", rank_checker_response.text)[0])\n",
        "except:\n",
        "    global_rank = -1\n",
        "\n",
        "print(final(url))"
      ],
      "execution_count": 32,
      "outputs": [
        {
          "output_type": "stream",
          "text": [
            "https://www.youtube.com/\n",
            "<ssl.SSLSocket fd=52, family=AddressFamily.AF_INET, type=SocketKind.SOCK_STREAM, proto=0, laddr=('0.0.0.0', 0)>\n",
            "<ssl.SSLSocket fd=52, family=AddressFamily.AF_INET, type=SocketKind.SOCK_STREAM, proto=0, laddr=('172.28.0.2', 58710), raddr=('172.217.204.93', 443)>\n",
            "{'subject': ((('countryName', 'US'),), (('stateOrProvinceName', 'California'),), (('localityName', 'Mountain View'),), (('organizationName', 'Google LLC'),), (('commonName', '*.google.com'),)), 'issuer': ((('countryName', 'US'),), (('organizationName', 'Google Trust Services'),), (('commonName', 'GTS CA 1O1'),)), 'version': 3, 'serialNumber': 'D1495BAD5246EAC40800000000531CE2', 'notBefore': 'Aug 11 08:53:40 2020 GMT', 'notAfter': 'Nov  3 08:53:40 2020 GMT', 'subjectAltName': (('DNS', '*.google.com'), ('DNS', '*.android.com'), ('DNS', '*.appengine.google.com'), ('DNS', '*.bdn.dev'), ('DNS', '*.cloud.google.com'), ('DNS', '*.crowdsource.google.com'), ('DNS', '*.g.co'), ('DNS', '*.gcp.gvt2.com'), ('DNS', '*.gcpcdn.gvt1.com'), ('DNS', '*.ggpht.cn'), ('DNS', '*.gkecnapps.cn'), ('DNS', '*.google-analytics.com'), ('DNS', '*.google.ca'), ('DNS', '*.google.cl'), ('DNS', '*.google.co.in'), ('DNS', '*.google.co.jp'), ('DNS', '*.google.co.uk'), ('DNS', '*.google.com.ar'), ('DNS', '*.google.com.au'), ('DNS', '*.google.com.br'), ('DNS', '*.google.com.co'), ('DNS', '*.google.com.mx'), ('DNS', '*.google.com.tr'), ('DNS', '*.google.com.vn'), ('DNS', '*.google.de'), ('DNS', '*.google.es'), ('DNS', '*.google.fr'), ('DNS', '*.google.hu'), ('DNS', '*.google.it'), ('DNS', '*.google.nl'), ('DNS', '*.google.pl'), ('DNS', '*.google.pt'), ('DNS', '*.googleadapis.com'), ('DNS', '*.googleapis.cn'), ('DNS', '*.googlecnapps.cn'), ('DNS', '*.googlecommerce.com'), ('DNS', '*.googlevideo.com'), ('DNS', '*.gstatic.cn'), ('DNS', '*.gstatic.com'), ('DNS', '*.gstaticcnapps.cn'), ('DNS', '*.gvt1.com'), ('DNS', '*.gvt2.com'), ('DNS', '*.metric.gstatic.com'), ('DNS', '*.urchin.com'), ('DNS', '*.url.google.com'), ('DNS', '*.wear.gkecnapps.cn'), ('DNS', '*.youtube-nocookie.com'), ('DNS', '*.youtube.com'), ('DNS', '*.youtubeeducation.com'), ('DNS', '*.youtubekids.com'), ('DNS', '*.yt.be'), ('DNS', '*.ytimg.com'), ('DNS', 'android.clients.google.com'), ('DNS', 'android.com'), ('DNS', 'developer.android.google.cn'), ('DNS', 'developers.android.google.cn'), ('DNS', 'g.co'), ('DNS', 'ggpht.cn'), ('DNS', 'gkecnapps.cn'), ('DNS', 'goo.gl'), ('DNS', 'google-analytics.com'), ('DNS', 'google.com'), ('DNS', 'googlecnapps.cn'), ('DNS', 'googlecommerce.com'), ('DNS', 'source.android.google.cn'), ('DNS', 'urchin.com'), ('DNS', 'www.goo.gl'), ('DNS', 'youtu.be'), ('DNS', 'youtube.com'), ('DNS', 'youtubeeducation.com'), ('DNS', 'youtubekids.com'), ('DNS', 'yt.be')), 'OCSP': ('http://ocsp.pki.goog/gts1o1core',), 'caIssuers': ('http://pki.goog/gsr2/GTS1O1.crt',), 'crlDistributionPoints': ('http://crl.pki.goog/GTS1O1core.crl',)}\n",
            "[1, 1, 1, 1, 1, 1, 0, 0, 0, 1, 1, 1, 1, 1, -1, 1, -1, -1, 1, 1, 1, 1, -1, -1, -1, -1, 0, 1, -1, 1]\n"
          ],
          "name": "stdout"
        }
      ]
    },
    {
      "cell_type": "markdown",
      "metadata": {
        "id": "YFfSMppR-B5E",
        "colab_type": "text"
      },
      "source": [
        ""
      ]
    },
    {
      "cell_type": "markdown",
      "metadata": {
        "id": "mqfdBNEW8Hve",
        "colab_type": "text"
      },
      "source": [
        ""
      ]
    }
  ]
}